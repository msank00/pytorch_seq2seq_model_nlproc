{
 "cells": [
  {
   "cell_type": "markdown",
   "metadata": {
    "colab_type": "text",
    "id": "9_njSt5-A3xE"
   },
   "source": [
    "# Model Refactoring\n",
    "\n",
    "The mamoth AI boom in NLP puts a difficult time ahead of us where almost every now and then new paper is popping up with the SOTA crown. For a researcher, to update himself according to this super fast progress, is tremendously painful task. As a NLP enthusiast, therefore, I tried to keep the search space narrow and focus on some specific topic to dig deeper and expand the knowledge boundaries. For a learning exercise I was looking into how the seq2seq model has been evolved over time and for fun, tried to implement them in vanila Pytorch to understand the change. Because high level wrapper code like Keras, Fastai hides lot of implementation details and make it difficult to build something new from scratch. Though in this  lots of code snippets have been borrowed and tweaked to get more clarity on the implementation details. \n",
    "\n",
    "\n",
    "The prime objective is to create a smooth understanding between the research paper on specific topic, in this case seq2seq learning and it's corresponding implementation. Because only then a small tweek in the concept can be easily implemented in the code and verified as well. This is my self learning curve and I don't know which way is good, bad or ugly. So far I believe  \"Understand Paper and Code Jointly\" can greatly improve the overall big picture as well as the intricate implemetation details together. And this notebook is a small step towards that learning path. \n",
    "\n",
    "---\n",
    "\n",
    "So the aim of this notebook is to demonstrate one such example where one seq2seq model using LSTM has been converted into seq2seq model using GRU. As already mentioned, it seems so simple at first but while doing this simple change lots of other minute factors one must remenber to correctly implement it in Pytorch.\n",
    "\n",
    "And finally this notebook is for archiving my own experiance for future reference.\n",
    "\n",
    "- **Paper:** Sequence to Sequence Learning with Neural Networks\n",
    "  - **Author:** Ilya Sutskever, Oriol Vinyals, Quoc V. Le\n",
    "  - **Paper Link**: [aRxiv](https://arxiv.org/abs/1409.3215)\n",
    "  - **Published in:** NIPS 2014\n",
    "- Original Implementation: [github](https://github.com/bentrevett/pytorch-seq2seq/blob/master/1%20-%20Sequence%20to%20Sequence%20Learning%20with%20Neural%20Networks.ipynb)\n",
    "\n",
    "- Our Objective: To convert the notebook from LSTM implementation to GRU implementaiton and also include other debegging steps "
   ]
  },
  {
   "cell_type": "code",
   "execution_count": null,
   "metadata": {
    "colab": {
     "base_uri": "https://localhost:8080/",
     "height": 69
    },
    "colab_type": "code",
    "id": "TtGYqW8uAumu",
    "outputId": "0fa19544-c5d8-4f19-e347-5047dbe09355"
   },
   "outputs": [
    {
     "name": "stdout",
     "output_type": "stream",
     "text": [
      "Requirement already satisfied: torchviz in /usr/local/lib/python3.6/dist-packages (0.0.1)\n",
      "Requirement already satisfied: torch in /usr/local/lib/python3.6/dist-packages (from torchviz) (1.0.1.post2)\n",
      "Requirement already satisfied: graphviz in /usr/local/lib/python3.6/dist-packages (from torchviz) (0.10.1)\n"
     ]
    }
   ],
   "source": [
    "!pip install torchviz"
   ]
  },
  {
   "cell_type": "code",
   "execution_count": null,
   "metadata": {
    "colab": {},
    "colab_type": "code",
    "id": "k2vfM8JeJpjp"
   },
   "outputs": [],
   "source": [
    "import torch\n",
    "import torch.nn as nn\n",
    "from torchviz import make_dot\n",
    "import torch.optim as optim\n",
    "\n",
    "\n",
    "from torch.autograd import Variable\n",
    "\n",
    "from torchtext.datasets import TranslationDataset, Multi30k\n",
    "from torchtext.data import Field, BucketIterator\n",
    "\n",
    "import spacy\n",
    "\n",
    "import random\n",
    "import numpy as np\n",
    "import math\n",
    "import os\n",
    "import warnings\n",
    "warnings.simplefilter('ignore')\n",
    "import time"
   ]
  },
  {
   "cell_type": "markdown",
   "metadata": {
    "colab_type": "text",
    "id": "bp5lPzlsqHBb"
   },
   "source": [
    "## Setting properties for plotting"
   ]
  },
  {
   "cell_type": "code",
   "execution_count": null,
   "metadata": {
    "colab": {},
    "colab_type": "code",
    "id": "RJAh4uUZp8Wh"
   },
   "outputs": [],
   "source": [
    "import matplotlib as mpl\n",
    "import matplotlib.pyplot as plt\n",
    "%matplotlib inline\n",
    "\n",
    "font = {'weight' : 'bold',\n",
    "        'size'   : 22}\t\n",
    "mpl.rc('font', **font)"
   ]
  },
  {
   "cell_type": "code",
   "execution_count": null,
   "metadata": {
    "colab": {},
    "colab_type": "code",
    "id": "f-kgwAI6qFr4"
   },
   "outputs": [],
   "source": [
    "#sorted(mpl.style.available)"
   ]
  },
  {
   "cell_type": "markdown",
   "metadata": {
    "colab_type": "text",
    "id": "xGutC8ZRJ1k6"
   },
   "source": [
    "## Check availability of CUDA"
   ]
  },
  {
   "cell_type": "code",
   "execution_count": null,
   "metadata": {
    "colab": {
     "base_uri": "https://localhost:8080/",
     "height": 34
    },
    "colab_type": "code",
    "id": "up3emBanJvo7",
    "outputId": "89e24f27-574c-459a-ea68-12c5fcf20e14"
   },
   "outputs": [
    {
     "data": {
      "text/plain": [
       "True"
      ]
     },
     "execution_count": 276,
     "metadata": {
      "tags": []
     },
     "output_type": "execute_result"
    }
   ],
   "source": [
    "torch.cuda.is_available()"
   ]
  },
  {
   "cell_type": "markdown",
   "metadata": {
    "colab_type": "text",
    "id": "tLdusWaBKIz_"
   },
   "source": [
    "## Make the model Reproducible and Deterministic\n",
    "\n",
    "> Completely reproducible results are not guaranteed across PyTorch releases, individual commits or different platforms. Furthermore, results need not be reproducible between CPU and GPU executions, even when using identical seeds.\n",
    "\n",
    "However, in order to make computations deterministic on your specific problem on one specific platform and PyTorch release, there are a couple of steps to take.\n",
    "\n",
    "There are two pseudorandom number generators involved in PyTorch, which you will need to seed manually to make runs reproducible. Furthermore, you should ensure that all other libraries your code relies on an which use random numbers also use a fixed seed.   \n",
    "\n",
    "_Reference:_ [pytorch_official](https://pytorch.org/docs/stable/notes/randomness.html)"
   ]
  },
  {
   "cell_type": "code",
   "execution_count": null,
   "metadata": {
    "colab": {},
    "colab_type": "code",
    "id": "sNS8SyjrJ5kp"
   },
   "outputs": [],
   "source": [
    "SEED = 2019\n",
    "\n",
    "random.seed(SEED)\n",
    "torch.manual_seed(SEED)\n",
    "np.random.seed(SEED)\n",
    "torch.backends.cudnn.deterministic = True\n",
    "torch.backends.cudnn.benchmark = False"
   ]
  },
  {
   "cell_type": "code",
   "execution_count": null,
   "metadata": {
    "colab": {
     "base_uri": "https://localhost:8080/",
     "height": 176
    },
    "colab_type": "code",
    "id": "SDV-7gshLHTY",
    "outputId": "23fb78ae-038c-46a2-f594-2cda3de3e8c6"
   },
   "outputs": [
    {
     "name": "stdout",
     "output_type": "stream",
     "text": [
      "Requirement already satisfied: de_core_news_sm==2.0.0 from https://github.com/explosion/spacy-models/releases/download/de_core_news_sm-2.0.0/de_core_news_sm-2.0.0.tar.gz#egg=de_core_news_sm==2.0.0 in /usr/local/lib/python3.6/dist-packages (2.0.0)\n",
      "\n",
      "\u001b[93m    Linking successful\u001b[0m\n",
      "    /usr/local/lib/python3.6/dist-packages/de_core_news_sm -->\n",
      "    /usr/local/lib/python3.6/dist-packages/spacy/data/de\n",
      "\n",
      "    You can now load the model via spacy.load('de')\n",
      "\n"
     ]
    }
   ],
   "source": [
    "# #!python -m spacy download en\n",
    "!python -m spacy download de"
   ]
  },
  {
   "cell_type": "markdown",
   "metadata": {
    "colab_type": "text",
    "id": "nEYmvhetMala"
   },
   "source": [
    "## Initial Setup"
   ]
  },
  {
   "cell_type": "code",
   "execution_count": null,
   "metadata": {
    "colab": {},
    "colab_type": "code",
    "id": "mgEMKlSBLOkQ"
   },
   "outputs": [],
   "source": [
    "spacy_de = spacy.load('de')\n",
    "spacy_en = spacy.load('en')"
   ]
  },
  {
   "cell_type": "code",
   "execution_count": null,
   "metadata": {
    "colab": {},
    "colab_type": "code",
    "id": "Bf8x13-dLWf6"
   },
   "outputs": [],
   "source": [
    "def tokenize_de(text):\n",
    "    \"\"\"\n",
    "    Tokenizes German text from a string into a list of strings (tokens) and reverses it\n",
    "    \"\"\"\n",
    "    return [tok.text for tok in spacy_de.tokenizer(text)][::-1]\n",
    "\n",
    "def tokenize_en(text):\n",
    "    \"\"\"\n",
    "    Tokenizes English text from a string into a list of strings (tokens)\n",
    "    \"\"\"\n",
    "    return [tok.text for tok in spacy_en.tokenizer(text)]"
   ]
  },
  {
   "cell_type": "markdown",
   "metadata": {
    "colab_type": "text",
    "id": "M2k2kGybLoPd"
   },
   "source": [
    "### Checking the tokenizer"
   ]
  },
  {
   "cell_type": "code",
   "execution_count": null,
   "metadata": {
    "colab": {
     "base_uri": "https://localhost:8080/",
     "height": 52
    },
    "colab_type": "code",
    "id": "Z2T7lch8LaN2",
    "outputId": "7d3356ff-69c3-4e7d-a341-ad406e79c701"
   },
   "outputs": [
    {
     "name": "stdout",
     "output_type": "stream",
     "text": [
      "['I', 'am', 'Alex', '.', 'I', 'live', 'in', 'Berlin', '.', '!', '!']\n",
      "['!', '!', '.', 'Berlin', 'in', 'wohne', 'Ich', '.', 'Alex', 'bin', 'Ich']\n"
     ]
    }
   ],
   "source": [
    "sent_en = \"I am Alex. I live in Berlin. !!\"\n",
    "sent_de = \"Ich bin Alex. Ich wohne in Berlin. !!\"\n",
    "\n",
    "print(tokenize_en(sent_en))\n",
    "print(tokenize_de(sent_de))"
   ]
  },
  {
   "cell_type": "code",
   "execution_count": null,
   "metadata": {
    "colab": {},
    "colab_type": "code",
    "id": "auA74Sp8Ldsz"
   },
   "outputs": [],
   "source": [
    "SRC = Field(tokenize=tokenize_de, init_token='<sos>', eos_token='<eos>', lower=True)\n",
    "TRG = Field(tokenize=tokenize_en, init_token='<sos>', eos_token='<eos>', lower=True)"
   ]
  },
  {
   "cell_type": "markdown",
   "metadata": {
    "colab_type": "text",
    "id": "hBPbj9SVL5M-"
   },
   "source": [
    "## Download the dataset"
   ]
  },
  {
   "cell_type": "code",
   "execution_count": null,
   "metadata": {
    "colab": {},
    "colab_type": "code",
    "id": "aaW5G3ccLuaE"
   },
   "outputs": [],
   "source": [
    "train_data, valid_data, test_data = Multi30k.splits(exts=('.de', '.en'), fields=(SRC, TRG))"
   ]
  },
  {
   "cell_type": "code",
   "execution_count": null,
   "metadata": {
    "colab": {
     "base_uri": "https://localhost:8080/",
     "height": 69
    },
    "colab_type": "code",
    "id": "fVZyUObqL2UI",
    "outputId": "b1940573-a4b3-49af-d1ce-ddbc0f4cdc06"
   },
   "outputs": [
    {
     "name": "stdout",
     "output_type": "stream",
     "text": [
      "Number of training examples: 29000\n",
      "Number of validation examples: 1014\n",
      "Number of testing examples: 1000\n"
     ]
    }
   ],
   "source": [
    "print(f\"Number of training examples: {len(train_data.examples)}\")\n",
    "print(f\"Number of validation examples: {len(valid_data.examples)}\")\n",
    "print(f\"Number of testing examples: {len(test_data.examples)}\")"
   ]
  },
  {
   "cell_type": "code",
   "execution_count": null,
   "metadata": {
    "colab": {
     "base_uri": "https://localhost:8080/",
     "height": 52
    },
    "colab_type": "code",
    "id": "nI5tEFEnL99R",
    "outputId": "6f3be1fa-b636-49f5-81b0-ef8e80e6ebab"
   },
   "outputs": [
    {
     "name": "stdout",
     "output_type": "stream",
     "text": [
      "Source GERMAN (reversed): ['.', 'büsche', 'vieler', 'nähe', 'der', 'in', 'freien', 'im', 'sind', 'männer', 'weiße', 'junge', 'zwei']\n",
      "Target ENGLISH: ['two', 'young', ',', 'white', 'males', 'are', 'outside', 'near', 'many', 'bushes', '.']\n"
     ]
    }
   ],
   "source": [
    "exam = vars(train_data.examples[0])\n",
    "print(\"Source GERMAN (reversed): {}\".format(exam['src']))\n",
    "print(\"Target ENGLISH: {}\".format(exam['trg']))"
   ]
  },
  {
   "cell_type": "code",
   "execution_count": null,
   "metadata": {
    "colab": {},
    "colab_type": "code",
    "id": "JCehW98Kw1VE"
   },
   "outputs": [],
   "source": []
  },
  {
   "cell_type": "code",
   "execution_count": null,
   "metadata": {
    "colab": {},
    "colab_type": "code",
    "id": "G4IBbAfnMCA2"
   },
   "outputs": [],
   "source": [
    "SRC.build_vocab(train_data, min_freq=2)\n",
    "TRG.build_vocab(train_data, min_freq=2)"
   ]
  },
  {
   "cell_type": "code",
   "execution_count": null,
   "metadata": {
    "colab": {
     "base_uri": "https://localhost:8080/",
     "height": 52
    },
    "colab_type": "code",
    "id": "gZsdC_O2MJAe",
    "outputId": "03361741-2bbe-4705-d375-ee1bfa0de593"
   },
   "outputs": [
    {
     "name": "stdout",
     "output_type": "stream",
     "text": [
      "Unique tokens in source (de) vocabulary: 7853\n",
      "Unique tokens in target (en) vocabulary: 5893\n"
     ]
    }
   ],
   "source": [
    "print(f\"Unique tokens in source (de) vocabulary: {len(SRC.vocab)}\")\n",
    "print(f\"Unique tokens in target (en) vocabulary: {len(TRG.vocab)}\")"
   ]
  },
  {
   "cell_type": "code",
   "execution_count": null,
   "metadata": {
    "colab": {
     "base_uri": "https://localhost:8080/",
     "height": 34
    },
    "colab_type": "code",
    "id": "ChUhREcVMLws",
    "outputId": "704fef5c-aef0-4d7c-ea63-2b5f31090b38"
   },
   "outputs": [
    {
     "data": {
      "text/plain": [
       "device(type='cuda')"
      ]
     },
     "execution_count": 288,
     "metadata": {
      "tags": []
     },
     "output_type": "execute_result"
    }
   ],
   "source": [
    "device = torch.device('cuda' if torch.cuda.is_available() else 'cpu')\n",
    "device"
   ]
  },
  {
   "cell_type": "code",
   "execution_count": null,
   "metadata": {
    "colab": {},
    "colab_type": "code",
    "id": "DdGV9CzDMOTr"
   },
   "outputs": [],
   "source": [
    "BATCH_SIZE = 128\n",
    "\n",
    "train_iterator, valid_iterator, test_iterator = BucketIterator.splits(\n",
    "    (train_data, valid_data, test_data), batch_size=BATCH_SIZE, device=device)"
   ]
  },
  {
   "cell_type": "markdown",
   "metadata": {
    "colab_type": "text",
    "id": "BQD3PEX1M8W8"
   },
   "source": [
    "## Difference between RNN, LSTM, GRU\n",
    "\n",
    "In short below are the differences between these 3 types of module:\n",
    "\n",
    "- $h_t=RNN(x_t, h_{t-1})$\n",
    "- $h_t=GRU(x_t, h_{t-1})$\n",
    "- $(h_{t-1}, c_{t-1}) =LSTM(x_t, (h_{t-1}, c_{t-1}))$\n",
    "\n",
    "where\n",
    "\n",
    "- x: input\n",
    "- h: hidden state\n",
    "- c: cell state\n",
    "\n",
    "While building the encoder and decoder in both LSTM and GRU, put special attention to the input to the `nn.LSTM` and `nn.GRU` module and also check their output in the `Forward()`  function.\n",
    "\n",
    "## Building the Encoder in LSTM\n",
    "\n",
    "- the `input_dim` shouldn't be confused with the sentence length. It's the total vocabulary size. The emebedding step is to create a lookup table whose size is `vocab_size x embedding dimension`. Which, given a sentence, returns the embedding matrix of size `number of tokens in sentence x embedding dimension` for the sentence.\n",
    "\n",
    "- always check the docstring for the different `nn.Modules`, like `nn.LSTM`, `nn.Embedding`, `nn.Dropout`. This will give clarity on how the module beahaves and what's the input, output dimension.\n",
    "\n",
    "- the `Forward()` method is the entry point to this Encoder module, i.e whenever the EncoderLSTM() will be called it will execute the `Forward()` part."
   ]
  },
  {
   "cell_type": "code",
   "execution_count": null,
   "metadata": {
    "colab": {},
    "colab_type": "code",
    "id": "cznKBniPMRru"
   },
   "outputs": [],
   "source": [
    "class EncoderLSTM(nn.Module):\n",
    "    def __init__(self, input_dim, emb_dim, hid_dim, n_layers, dropout):\n",
    "        super().__init__()\n",
    "        \n",
    "        self.input_dim = input_dim\n",
    "        self.emb_dim = emb_dim\n",
    "        self.hid_dim = hid_dim\n",
    "        self.n_layers = n_layers\n",
    "        self.dropout = dropout\n",
    "        \n",
    "        self.embedding = nn.Embedding(input_dim, emb_dim)\n",
    "        \n",
    "        self.rnn = nn.LSTM(emb_dim, hid_dim, n_layers, dropout=dropout)\n",
    "        \n",
    "        self.dropout = nn.Dropout(dropout)\n",
    "        \n",
    "    def forward(self, src):\n",
    "        \n",
    "        embedded = self.dropout(self.embedding(src))\n",
    "        outputs, (hidden, cell) = self.rnn(embedded)\n",
    "        return hidden, cell\n",
    "      \n",
    "class DecoderLSTM(nn.Module):\n",
    "    def __init__(self, output_dim, emb_dim, hid_dim, n_layers, dropout):\n",
    "        super().__init__()\n",
    "\n",
    "        self.emb_dim = emb_dim\n",
    "        self.hid_dim = hid_dim\n",
    "        self.output_dim = output_dim\n",
    "        self.n_layers = n_layers\n",
    "        self.dropout = dropout\n",
    "        \n",
    "        self.embedding = nn.Embedding(output_dim, emb_dim)\n",
    "        self.rnn = nn.LSTM(emb_dim, hid_dim, n_layers, dropout = dropout)\n",
    "        self.out = nn.Linear(hid_dim, output_dim)\n",
    "        self.dropout = nn.Dropout(dropout)\n",
    "        \n",
    "    def forward(self, input, hidden, cell):\n",
    "        \n",
    "        \n",
    "        input = input.unsqueeze(0)    \n",
    "        embedded = self.dropout(self.embedding(input))\n",
    "        output, (hidden, cell) = self.rnn(embedded, (hidden, cell))\n",
    "        prediction = self.out(output.squeeze(0))\n",
    "        return prediction, hidden, cell\n",
    "      \n",
    "class Seq2SeqLSTM(nn.Module):\n",
    "    def __init__(self, encoder, decoder, device):\n",
    "        super().__init__()\n",
    "        \n",
    "        self.encoder = encoder\n",
    "        self.decoder = decoder\n",
    "        self.device = device\n",
    "        \n",
    "        assert encoder.hid_dim == decoder.hid_dim, \\\n",
    "            \"Hidden dimensions of encoder and decoder must be equal!\"\n",
    "        assert encoder.n_layers == decoder.n_layers, \\\n",
    "            \"Encoder and decoder must have equal number of layers!\"\n",
    "        \n",
    "    def forward(self, src, trg, teacher_forcing_ratio=0.5):\n",
    "        \n",
    "        \n",
    "        batch_size = trg.shape[1]\n",
    "        max_len = trg.shape[0]\n",
    "        trg_vocab_size = self.decoder.output_dim\n",
    "        \n",
    "       \n",
    "        #tensor to store decoder outputs\n",
    "        outputs = torch.zeros(max_len, batch_size, trg_vocab_size).to(self.device)\n",
    "        \n",
    "        #last hidden state of the encoder is used as the initial hidden state of the decoder\n",
    "        hidden, cell = self.encoder(src)\n",
    "        \n",
    "        #first input to the decoder is the <sos> tokens\n",
    "        input = trg[0,:]\n",
    "        \n",
    "        for t in range(1, max_len):\n",
    "            \n",
    "            output, hidden, cell = self.decoder(input, hidden, cell)\n",
    "            outputs[t] = output\n",
    "            teacher_force = random.random() < teacher_forcing_ratio\n",
    "            top1 = output.max(1)[1]\n",
    "            input = (trg[t] if teacher_force else top1)\n",
    "        \n",
    "        return outputs"
   ]
  },
  {
   "cell_type": "markdown",
   "metadata": {
    "colab_type": "text",
    "id": "MawabwWxSDD2"
   },
   "source": [
    "## Model conversion LSTM to GRU\n",
    "\n",
    "Next we convert the `seq2seqLSTM` to `seq2seqGRU`. \n",
    "\n",
    "### Converting `EncoderLSTM` into `EncoderGRU`\n",
    "\n",
    "-  the major change will be in line 13, 20 and 21 in the previous cell. In line 13, instead of nn.LSTM, we will use nn.GRU and the coresponding changes will be in the `Forward()` function as GRU doesn't have any `cell` state.\n",
    "\n",
    "### Converting `DecoderLSTM` into `DecoderGRU`\n",
    "\n",
    "- the major change will be in line 34, 43, 45 and the reason is same as the Encoder\n",
    "- line 38: no `cell` in the  `Forward()` function call.\n",
    "\n",
    "### Converting `Seq2SeqLSTM` into `Seq2SeqGRU`\n",
    "- Here wherever the encoder or decoder is called with an input the corresponding output will change based on LSTM or GRU as the later doesn't have `cell` state. That will be in line 72, 79\n"
   ]
  },
  {
   "cell_type": "code",
   "execution_count": null,
   "metadata": {
    "colab": {},
    "colab_type": "code",
    "id": "rsQk4MCoMptu"
   },
   "outputs": [],
   "source": [
    "class EncoderGRU(nn.Module):\n",
    "    def __init__(self, input_dim, emb_dim, hid_dim, n_layers, dropout):\n",
    "        super().__init__()\n",
    "        \n",
    "        self.input_dim = input_dim\n",
    "        self.emb_dim = emb_dim\n",
    "        self.hid_dim = hid_dim\n",
    "        self.n_layers = n_layers\n",
    "        self.dropout = dropout\n",
    "        \n",
    "        self.embedding = nn.Embedding(input_dim, emb_dim)\n",
    "        self.rnn = nn.GRU(emb_dim, hid_dim, n_layers, dropout=dropout) \n",
    "        self.dropout = nn.Dropout(dropout)\n",
    "        \n",
    "    def forward(self, src):\n",
    "            \n",
    "        embedded = self.dropout(self.embedding(src))\n",
    "        outputs, hidden = self.rnn(embedded) # for GRU no cell state\n",
    "        return hidden\n",
    "\n",
    "class DecoderGRU(nn.Module):\n",
    "    def __init__(self, output_dim, emb_dim, hid_dim, n_layers, dropout):\n",
    "        super().__init__()\n",
    "\n",
    "        self.emb_dim = emb_dim\n",
    "        self.hid_dim = hid_dim\n",
    "        self.output_dim = output_dim\n",
    "        self.n_layers = n_layers\n",
    "        self.dropout = dropout\n",
    "        self.embedding = nn.Embedding(output_dim, emb_dim)\n",
    "        self.rnn = nn.GRU(emb_dim, hid_dim, n_layers, dropout=dropout)\n",
    "        self.out = nn.Linear(hid_dim, output_dim)\n",
    "        self.dropout = nn.Dropout(dropout)\n",
    "        \n",
    "    def forward(self, input, hidden):\n",
    "        \n",
    "        input = input.unsqueeze(0)\n",
    "        embedded = self.dropout(self.embedding(input))\n",
    "        output, hidden = self.rnn(embedded, hidden)\n",
    "        prediction = self.out(output.squeeze(0))\n",
    "        return prediction, hidden\n",
    "      \n",
    "class Seq2SeqGRU(nn.Module):\n",
    "    def __init__(self, encoder, decoder, device):\n",
    "        super().__init__()\n",
    "        \n",
    "        self.encoder = encoder\n",
    "        self.decoder = decoder\n",
    "        self.device = device\n",
    "        \n",
    "        assert encoder.hid_dim == decoder.hid_dim, \\\n",
    "            \"Hidden dimensions of encoder and decoder must be equal!\"\n",
    "        assert encoder.n_layers == decoder.n_layers, \\\n",
    "            \"Encoder and decoder must have equal number of layers!\"\n",
    "        \n",
    "    def forward(self, src, trg, teacher_forcing_ratio=0.5):\n",
    "        \n",
    "        \n",
    "        batch_size = trg.shape[1]\n",
    "        max_len = trg.shape[0]\n",
    "        trg_vocab_size = self.decoder.output_dim\n",
    "       \n",
    "        #tensor to store decoder outputs\n",
    "        outputs = torch.zeros(max_len, batch_size, trg_vocab_size).to(self.device)\n",
    "        \n",
    "        #last hidden state of the encoder is used as the initial hidden state of the decoder\n",
    "        hidden = self.encoder(src) # GRU encoder has no cell state\n",
    "        \n",
    "        #first input to the decoder is the <sos> tokens\n",
    "        input = trg[0,:]\n",
    "        \n",
    "        for t in range(1, max_len):\n",
    "          \n",
    "            output, hidden = self.decoder(input, hidden)\n",
    "            outputs[t] = output\n",
    "            teacher_force = random.random() < teacher_forcing_ratio\n",
    "            top1 = output.max(1)[1]\n",
    "            input = (trg[t] if teacher_force else top1)\n",
    "        \n",
    "        return outputs"
   ]
  },
  {
   "cell_type": "markdown",
   "metadata": {
    "colab_type": "text",
    "id": "B3j0wWZmVVHM"
   },
   "source": [
    "## Setting up hyperparameter"
   ]
  },
  {
   "cell_type": "code",
   "execution_count": null,
   "metadata": {
    "colab": {
     "base_uri": "https://localhost:8080/",
     "height": 54
    },
    "colab_type": "code",
    "id": "OBCxXYJ4bbvE",
    "outputId": "628a1392-50d4-474e-ae85-93be578ef798"
   },
   "outputs": [
    {
     "name": "stdout",
     "output_type": "stream",
     "text": [
      "['<unk>', '<pad>', '<sos>', '<eos>', 'a', '.', 'in', 'the', 'on', 'man', 'is', 'and', 'of', 'with', 'woman', ',', 'two', 'are', 'to', 'people', 'at', 'an', 'wearing', 'shirt', 'young', 'white', 'black', 'his', 'while', 'blue', 'men', 'red', 'sitting', 'girl', 'boy', 'dog', 'standing', 'playing', 'group', 'street', 'down', 'walking', '-', 'front', 'her', 'holding', 'one', 'water', 'three', 'by', 'women', 'up', 'green', 'little', 'for', 'child', 'looking', 'outside', 'as', 'large', 'through', 'brown', 'yellow', 'children', 'person', 'from', 'their', 'hat', 'ball', 'into', 'small', 'next', 'other', 'dressed', 'some', 'out', 'over', 'building', 'riding', 'running', 'near', 'jacket', 'another', 'around', 'sidewalk', 'field', 'orange', 'crowd', 'beach', 'stands', 'pink', 'sits', 'jumping', 'behind', 'table', 'snow', 'grass', 'hair', 'background', 'bike', 'stand', 'city', \"'s\", 'air', 'girls', 'player', 'asian', 'looks', 'wall', 'top', 'four', 'off', 'dogs', 'several', 'that', 'older', 'camera', 'dress', 'park', 'talking', 'lady', 'something', 'blond', 'soccer', 'along', 'walks', 'guitar', 'boys', 'play', 'together', 'working', 'food', 'gray', 'smiling', 'picture', 'game', 'has', 'plays', 'car', 'hand', 'holds', 'it', 'road', 'him', 'bench', 'old', 'glasses', 'pants', 'shorts', 'stage', 'sit', 'carrying', 'walk', 'baby', 'couple', 'them', 'side', 'bicycle', 'face', 'tree', '\"', 'male', 'pool', 'long', 'race', 'taking', 'rock', 'each', 'middle', 'doing', 'dirt', 'across', 'head', 'watching', 'guy', 'jeans', 'there', 'area', 'dark', 'jumps', 'boat', 'hands', 'back', 'female', 'day', 'ground', 'performing', 'room', 'baseball', 'who', 'eating', 'being', 'football', 'coat', 'striped', 'using', 'kids', 'suit', 'horse', 'under', 'band', 'watch', 'many', 'mouth', 'purple', 'he', 'sign', 'store', 't', 'this', 'haired', 'sand', 'runs', 'tennis', 'look', 'players', 'construction', 'sunglasses', 'reading', 'clothing', 'microphone', 'mountain', 'covered', 'toy', 'basketball', 'ocean', 'during', 'its', 'workers', 'watches', 'climbing', 'uniform', 'past', 'elderly', 'helmet', 'restaurant', 'against', 'team', 'train', 'dancing', 'window', 'rides', 'shirts', 'chair', 'they', 'work', 'about', 'be', 'wooden', 'posing', 'trees', 'five', 'having', 'outdoor', 'waiting', 'all', 'swimming', 'getting', 'or', 'floor', 'trying', 'ice', 'very', 'colorful', 'skateboard', 'bag', 'high', 'busy', 'fence', 'singing', 'jump', 'cart', 'line', 'laying', 'hill', 'market', 'truck', 'book', 'bright', 'hats', 'inside', 'ride', 'tan', 'cap', 'kitchen', 'others', 'cellphone', 'grassy', 'path', 'big', 'someone', 'brick', 'making', 'bus', 'clothes', 'motorcycle', 'takes', 'umbrella', 'full', 'light', 'outfit', 'towards', 'track', 'body', 'enjoying', 'night', 'colored', 'metal', 'swing', 'river', 'open', 'paper', 'ready', 'she', 'tank', 'piece', 'shop', 'sweater', 'lake', 'trick', 'above', 'painting', 'run', 'worker', 'african', 'hard', 'adults', 'american', 'going', 'music', 'dance', 'snowy', 'shopping', 'stone', 'surrounded', 'wave', 'onto', 'stick', 'uniforms', 'vest', 'like', 'outdoors', 'photo', 'backpack', 'beside', 'crowded', 'smiles', 'board', 'kid', 'phone', 'pole', 'drinking', 'gear', 'hockey', 'subway', 'family', 'house', 'toddler', 'event', 'gathered', 'guys', 'hanging', 'police', 'set', 'arms', 'bridge', 'catch', 'flowers', 'away', 'beautiful', 'preparing', 'fire', 'costume', 'leaning', 'object', 'sleeping', 'after', 'fishing', 'steps', 'bar', 'does', 'lot', 'machine', 'fountain', 'plaid', 'rope', 'short', 'adult', 'shirtless', 'take', 'graffiti', 'stairs', 'rocks', 'shoes', 'arm', 'selling', 'sunny', 'forest', 'parade', 'racing', 'setting', 'chairs', 'glass', 'pose', 'tall', 'both', 'corner', 'putting', 'volleyball', 'frisbee', 'pushing', 'throwing', 'between', 'drink', 'have', 'ladies', 'slide', '2', 'computer', 'laughing', 'public', 'equipment', 'flag', 'instruments', 'wood', 'couch', 'pictures', 'sun', 'view', 'cowboy', 'party', 'plastic', 'ramp', 'aged', 'concrete', 'playground', 'poses', 'sweatshirt', 'trail', 'which', 'woods', 'beard', 'fish', 'statue', 'dock', 'midair', 'winter', 'yard', 'number', 'bikes', 'seated', 'skirt', 'distance', 'attire', 'just', 'reads', 'school', 'six', 'toward', 'what', 'beer', 'cooking', 'get', 'left', 'sky', 'works', 'cutting', 'rider', 'vests', 'bags', 'buildings', 'cream', 'cross', 'filled', 'lined', 'pulling', 'where', 'appears', 'bed', 'cliff', 'skateboarder', 'station', 'tent', 'crossing', 'edge', 'few', 'friends', 'instrument', 'mountains', 'showing', 'spectators', 'bearded', 'cars', 'court', 'horses', 'jersey', 'mother', 'make', 'nearby', 'performs', 'right', 'scarf', 'apron', 'bowling', 'carries', 'concert', 'driving', 'grill', 'perform', 'show', 'snowboarder', 'art', 'fruit', 'leaves', 'shore', 'boots', 'cigarette', 'coffee', 'cup', 'parked', 'structure', 'students', 'various', 'vendor', 'gentleman', 'goggles', 'painted', 'smile', 'time', 'vehicle', 'younger', 'bottle', 'door', 'dresses', 'drums', 'flower', 'flying', 'martial', 'net', 'smoking', 'talks', 'bathing', 'eyes', 'flags', 'hit', 'home', 'kicking', 'lying', 'new', 'no', 'rocky', 'shot', 'surfer', 'arts', 'indian', 'jackets', 'newspaper', 'paint', 'prepares', 'rain', 'rodeo', 'safety', 'swinging', 'waves', 'box', 'bucket', 'conversation', 'costumes', 'different', 'gather', 'gloves', 'parking', 'practicing', 'bunch', 'cleaning', 'competition', 'ladder', 'listening', 'roof', 'uses', 'blanket', 'items', 'onlookers', 'scene', 'skateboarding', 'staring', 'wet', 'audience', 'balloon', 'bicycles', 'bikini', 'bull', 'desk', 'empty', 'giving', 'lawn', 'meal', 'pile', 'railing', 'drinks', 'hot', 'leaps', 'military', 'sports', 'cake', 'display', 'gathering', 'go', 'hold', 'pointing', 'sliding', 'vegetables', 'basket', 'before', 'biker', 'bowl', 'class', 'competing', 'facing', 'feet', 'gold', 'stop', 'streets', 'suits', 'wedding', 'bird', 'cement', 'flip', 'helmets', 'huge', 'mask', 'platform', 'silver', 'speaking', 'classroom', 'coming', 'gets', 'lit', 'match', 'teams', 'tie', 'alley', 'bride', 'climbs', 'marathon', 'purse', 'sings', 'ski', 'skier', 'surfboard', 'surfing', 'traditional', 'tries', 'wait', 'animal', 'can', 'chasing', 'counter', 'fighting', 'kissing', 'musicians', 'rail', 'screen', 'break', 'country', 'father', 'females', 'happy', 'same', 'skating', 'stroller', 'kneeling', 'lap', 'pass', 'runner', 'shoulder', 'sunset', 'throw', 'waits', 'walkway', 'writing', 'attempting', 'bald', 'business', 'christmas', 'scooter', 'seen', 'sort', 'talk', 'violin', 'waving', '3', 'blowing', 'outfits', 'overlooking', 'place', 'signs', 'artist', 'bubbles', 'chinese', 'close', 'course', 'hole', 'life', 'mirror', 'officer', 'says', 'son', 'tables', 'urban', 'way', 'balloons', 'base', 'brightly', 'fixing', 'giant', 'leans', 'lights', 'alone', 'brunette', 'cafe', 'collar', 'do', 'end', 'faces', 'foreground', 'gym', 'helping', 'leather', 'leg', 'made', 'swim', 'teenage', 'umbrellas', 'asleep', 'clown', 'electric', 'enjoy', 'headphones', 'legs', 'meat', 'mud', 'plate', 'site', 'skate', 'well', 'among', 'dancers', 'diving', 'falling', 'golf', 'makes', 'office', 'officers', 'passing', 'roller', 'sandals', 'stadium', 'sticks', 'swings', 'washing', 'wears', 'barefoot', 'canoe', 'church', 'dirty', 'doorway', 'goal', 'heads', 'multicolored', 'musical', 'photographer', 'skiing', 'toys', 'accordion', 'drawing', 'laptop', 'leash', 'males', 'picking', 'reaching', 'singer', 'throws', 'traffic', 'video', 'below', 'digging', 'hiking', 'members', 'performance', 'relaxing', 'row', 'shallow', 'wheel', 'atop', 'bicyclist', 'cat', 'catches', 'catching', 'deep', 'foot', 'gives', 'hugging', 'microscope', 'passes', 'shovel', 'square', 'tunnel', 'upside', 'van', 'balls', 'beige', 'chef', 'climb', 'cut', 'drum', 'fun', 'garden', 'kick', 'leaping', 'prepare', 'shows', 'sleeps', 'stunt', 'sweeping', 'tattoo', 'coats', 'cold', 'conversing', 'daughter', 'desert', 'flies', 'here', 'hoodie', 'hose', 'individuals', 'karate', 'lots', 'move', 'photograph', 'pond', 'resting', 'sculpture', 'sled', 'splashing', 'teeth', 'trunks', ';', 'bat', 'block', 'customers', 'friend', 'held', 'how', 'jogging', 'lone', 'pier', 'plants', 'points', 'telescope', 'these', 'tire', 'town', 'underneath', 'wrestling', 'cane', 'carnival', 'curly', 'cyclist', 'eat', 'hiker', 'including', 'local', 'moving', 'opposing', 'project', 'shoulders', 'themselves', 'waters', 'without', 'circle', 'cloth', 'crosswalk', 'crying', 'dinner', 'gun', 'hula', 'infant', 'lab', 'makeup', 'matching', 'mural', 'paved', 'produce', 'pulled', 'racket', 'runners', 'shoe', 'straw', 'taken', 'trampoline', 'tricks', 'wooded', 'athlete', 'attempts', 'bicyclists', 'booth', 'closed', 'dances', 'formal', 'gymnast', 'knee', 'mat', 'nose', 'opening', 'performer', 'picnic', 'rolling', 'sewing', 'stuffed', 'surface', 'trash', \"'\", 'balcony', 'blouse', 'boxes', 'center', 'cheerleaders', 'cow', 'fight', 'goes', 'help', 'hikers', 'himself', 'lays', 'lunch', 'neck', 'oriental', 'pedestrians', 'pitcher', 'pushes', 'ring', 'round', 'sandy', 'slope', 'softball', 'teenagers', 'third', 'wear', 'bent', 'button', 'chases', 'deck', 'device', 'festival', 'hoop', 'i', 'indoor', 'kind', 'log', 'not', 'pulls', 'puts', 'seven', 'skis', 'speaks', 'staircase', 'turn', 'books', 'covering', 'driver', 'drives', 'enjoys', 'evening', 'fallen', 'gentlemen', 'golden', 'grocery', 'heavy', 'marching', 'overalls', 'robe', 'shaking', 'swims', 'wetsuit', 'birds', 'cloudy', 'dancer', 'fair', 'fingers', 'foreign', 'garb', 'hammer', 'jean', 'kayak', 'khaki', 'kicks', 'laundry', 'native', 'nice', 'porch', 'pot', 'pouring', 'protective', 'puddle', 'rest', 'robes', 'see', 'shaving', 'sheet', 'steep', 'stream', 'teenager', 'tracks', 'type', 'waterfall', 'airplane', 'arena', 'attached', 'backyard', 'blocks', 'checking', 'clear', 'colors', 'gate', 'hangs', 'ledge', 'lies', 'lift', 'luggage', 'opposite', 'paddling', 'palm', 'piano', 'podium', 'poles', 'put', 'reaches', 'sale', 'saxophone', 'shooting', 'shoveling', 'soldiers', 'wrapped', 'balancing', 'camouflage', 'clean', 'cones', 'curb', 'denim', 'eye', 'fenced', 'goalie', 'image', 'inflatable', 'kiss', 'laugh', 'mound', 'part', 'pavement', 'polo', 'poster', 'raft', 'rugby', 'sea', 'ship', 'skirts', 'soldier', 'string', 'tongue', 'wheelchair', 'windows', 'wine', 'bikers', 'bottom', 'bread', 'buying', 'courtyard', 'cyclists', 'eats', 'fabric', 'fans', 'flight', 'floating', 'frame', 'fresh', 'happily', 'juggling', 'keyboard', 'laughs', 'low', 'married', 'motorcycles', 'musician', 'professional', 'railroad', 'riders', 'seat', 'sell', 'skinned', 'student', 'swimsuit', 'tools', 'tractor', 'walls', 'york', 'acoustic', 'appear', 'backwards', 'bandanna', 'boats', 'bubble', 'bucking', 'carriage', 'cheering', 'closeup', 'club', 'either', 'fall', 'floral', 'garbage', 'goods', 'groom', 'hurdle', 'jerseys', 'living', 'marketplace', 'mid', 'moves', 'multiple', 'nap', 'pair', 'pajamas', 'pipe', 'post', 'santa', 'scaffolding', 'shown', 'socks', 'spray', 'stool', 'surf', 'suspended', 'tops', 'touching', 'you', '4', 'advertisement', 'airport', 'animals', 'backpacks', 'caught', 'chain', 'climber', 'dining', 'direction', 'dry', 'escalator', 'german', 'guard', 'hay', 'hooded', 'japanese', 'kneels', 'landscape', 'magazine', 'paints', 'plant', 'plaza', 'raised', 'serving', 'shade', 'sheep', 'sleeved', 'step', 'stove', 'style', 'towel', 'underwater', 'welding', '!', 'amusement', 'athletic', 'bending', 'bmx', 'brushing', 'candy', 'caucasian', 'checkered', 'decorated', 'examining', 'fast', 'good', 'gravel', 'grilling', 'individual', 'mom', 'money', 'neon', 'obstacle', 'operating', 'orchestra', 'participating', 'plane', 'polka', 'referee', 'seems', 'shaped', 'sing', 'sport', 'summer', 'teacher', 'thrown', 'tube', 'use', 'vehicles', '(', '5', 'attempt', 'atv', 'barbecue', 'benches', 'chest', 'compete', 'cone', 'crouches', 'ear', 'firefighters', 'fly', 'haircut', 'hallway', 'harness', 'heels', 'hitting', 'hood', 'jungle', 'map', 'model', 'muddy', 'only', 'opponent', 'passengers', 'photographs', 'practice', 'presentation', 'print', 'racer', 'ropes', 'scuba', 'sets', 'sharing', 'sticking', 'studio', 'things', 'tourists', 'try', 'tub', 'wagon', 'wide', ')', 'action', 'also', 'bathroom', 'but', 'carpet', 'cleans', 'color', 'drummer', 'ears', 'eight', 'feeding', 'figure', 'fruits', 'garage', 'groups', 'guitars', 'half', 'hall', 'headscarf', 'jumpsuit', 'machinery', 'motocross', 'motorcyclist', 'mustache', 'navy', 'patio', 'peace', 'pit', 'policeman', 'pull', 'racetrack', 'rests', 'rowing', 'sandwich', 'sink', 'sized', 'skateboards', 'snowboard', 'snowboarding', 'speech', 'sporting', 'start', 'stones', 'tool', 'wire', 'ahead', 'baskets', 'bath', 'beam', 'beverage', 'boardwalk', 'brush', 'bushes', 'ceiling', 'coach', 'college', 'cricket', 'crouching', 'discussion', 'dune', 'eastern', 'entrance', 'fancy', 'great', 'herself', 'hillside', 'horseback', 'indoors', 'intersection', 'lane', 'lay', 'leaving', 'medical', 'museum', 'narrow', 'neighborhood', 'observe', 'petting', 'possibly', 'puck', 'read', 'rough', 'routine', 'sells', 'shoot', 'slides', 'smoke', 'stopped', 'swimmer', 'tag', 'tattooed', 'trumpet', 'vendors', 'apple', 'army', 'birthday', 'blow', 'bottles', 'bow', 'buckets', 'buy', 'cardboard', 'celebrating', 'chase', 'choir', 'clay', 'container', 'dishes', 'fencing', 'folding', 'funny', 'guitarist', 'heart', 'helps', 'hoops', 'hospital', 'hugs', 'live', 'mall', 'maroon', 'microphones', 'mixing', 'mostly', 'ornate', 'outstretched', 'position', 'protest', 'puppy', 'rubber', 'seats', 'shepherd', 'skates', 'sleeve', 'song', 'squatting', 'sword', 'tile', 'uniformed', 'youth', 'apartment', 'balance', 'bars', 'bear', 'belt', 'blows', 'bowls', 'boxing', 'broom', 'calf', 'coloring', 'conference', 'derby', 'doctor', 'dreadlocks', 'ethnic', 'excited', 'farm', 'finger', 'finish', 'firetruck', 'first', 'fisherman', 'flipping', 'flops', 'free', 'furniture', 'grinding', 'handstand', 'inspecting', 'item', 'jockey', 'land', 'leading', 'library', 'lines', 'member', 'mohawk', 'moment', 'pick', 'pieces', 'reflective', 'ribbon', 'rink', 'rural', 'scenery', 'sleeveless', 'smokes', 'space', 'spinning', 'spraying', 'stack', 'stares', 'storefront', 'stretching', 'stripes', 'stroll', 'tattoos', 'tourist', 'turning', 'vegetable', 'we', 'wheels', 'wife', 'approaching', 'backs', 'balances', 'balding', 'banner', 'barrel', 'bass', 'batter', 'broken', 'candles', 'card', 'carving', 'castle', 'chalk', 'chefs', 'clad', 'computers', 'crane', 'cuts', 'dead', 'dimly', 'discussing', 'dish', 'doors', 'emergency', 'factory', 'fix', 'float', 'fluffy', 'following', 'gas', 'got', 'gymnasium', 'hotel', 'houses', 'intently', 'jewelry', 'keep', 'kite', 'listens', 'london', 'moped', 'motorbike', 'naked', 'name', 'nighttime', 'objects', 'odd', 'overhead', 'partially', 'pen', 'pigeons', 'pitch', 'pizza', 'rainy', 'raises', 'reach', 'snack', 'sofa', 'speed', 'stairway', 'starting', 'surrounding', 'television', 'theater', 'tied', 'viewing', 'war', 'warm', 'advertising', 'amongst', 'ballerina', 'barber', 'bare', 'beneath', 'branch', 'called', 'carry', 'catcher', 'control', 'crew', 'crosses', 'directions', 'downtown', 'duck', 'electronic', 'elephant', 'engaged', 'engine', 'fan', 'fireman', 'flowered', 'follows', 'forward', 'headband', 'hits', 'horn', 'lamp', 'lifting', 'liquid', 'lounging', 'material', 'mobile', 'more', \"n't\", 'necklace', 'nets', 'newborn', 'numerous', 'observing', 'papers', 'participate', 'patient', 'photos', 'pine', 'plates', 'pottery', 'present', 'protesting', 'push', 'rainbow', 'raising', 'redheaded', 'relax', 'repair', 'security', 'shades', 'shaved', 'shovels', 'smaller', 'spread', 'star', 'swimmers', 'taxi', 'teammate', 'terrain', 'thin', 'trailer', 'training', 'turns', 'unicycle', 'us', 'village', 'wrestle', 'admiring', 'airborne', 'aisle', 'angel', 'athletes', 'biking', 'billboard', 'binoculars', 'calm', 'camel', 'cameras', 'cape', 'caps', 'casual', 'cobblestone', 'converse', 'cook', 'cool', 'corn', 'crafts', 'donkey', 'fake', 'firemen', 'gift', 'glove', 'guns', 'hang', 'homeless', 'hug', 'interacting', 'job', 'leads', 'loading', 'lounge', 'machines', 'modern', 'most', 'nature', 'pan', 'parents', 'passenger', 'peering', 'performers', 'photographed', 'pillow', 'pretty', 'races', 'receiving', 'repairs', 'rollerblades', 'shakes', 'share', 'shining', 'shops', 'silly', 'skiers', 'slightly', 'splashes', 'sprinkler', 'steel', 'stomach', 'story', 'straight', 'teaching', 'tee', 'tents', 'tower', 'trunk', 'upon', 'wading', 'weaving', 'whilst', 'attention', 'autumn', 'bank', 'barrier', 'bin', 'bleachers', 'browsing', 'burgundy', 'bystanders', 'carts', 'ceremony', 'chainsaw', 'check', 'checks', 'cheer', 'coaster', 'come', 'consisting', 'cups', 'customer', 'dad', 'debris', 'dough', 'drill', 'dusk', 'eggs', 'entering', 'examines', 'farmer', 'flips', 'flute', 'form', 'gestures', 'greyhound', 'groceries', 'headed', 'if', 'knit', 'lacrosse', 'landing', 'laptops', 'lead', 'leaf', 'meeting', 'messy', 'motor', 'observes', 'official', 'order', 'oven', 'overweight', 'paddle', 'paddles', 'praying', 'sack', 'sailing', 'semi', 'similar', 'sneakers', 'spoon', 'spotted', 'studying', 'target', 'tea', 'telephone', 'thumbs', 'tires', 'tropical', 'was', 'waterfront', 'waterway', 'wheelbarrow', 'wings', 'world', '1', 'alleyway', 'applying', 'attending', 'bagpipes', 'ballet', 'bamboo', 'beanie', 'been', 'beverages', 'bite', 'blankets', 'boulder', 'bricks', 'cello', 'chicken', 'clapping', 'comes', 'complete', 'cooks', 'countryside', 'cowboys', 'doll', 'drive', 'dust', 'exercise', 'exhibit', 'filling', 'forehead', 'games', 'give', 'gymnastics', 'handing', 'heading', 'highway', 'inspects', 'iron', 'jet', 'juice', 'kayaks', 'knees', 'knife', 'lecture', 'listen', 'loom', 'merchandise', 'monument', 'movie', 'newly', 'newspapers', 'olympics', 'pack', 'paperwork', 'patterned', 'pigtails', 'pillows', 'places', 'placing', 'puppies', 'repairing', 'rickshaw', 'rod', 'rollerblading', 'science', 'scooters', 'screaming', 'seem', 'shadows', 'shirted', 'shoppers', 'skater', 'skaters', 'snowsuit', 'spanish', 'stare', 'still', 'stops', 'suitcase', 'sweeps', 'tackle', 'tape', 'teal', 'texas', 'tossing', 'touches', 'tv', 'umpire', 'visiting', 'wares', 'wheelie', 'wild', 'wires', 'wrap', 'wrestler', 'yoga', '2012', 'act', 'adjusting', 'amp', 'arcade', 'artwork', 'auditorium', 'backdrop', 'banjo', 'biting', 'burning', 'camping', 'cans', 'carefully', 'case', 'celebration', 'chatting', 'cheek', 'chess', 'china', 'closely', 'company', 'couples', 'covers', 'craft', 'creek', 'crossed', 'crouched', 'department', 'descent', 'diver', 'dives', 'dj', 'dot', 'drawn', 'dusty', 'falls', 'far', 'fashion', 'fashioned', 'firefighter', 'floats', 'focused', 'folded', 'formation', 'gathers', 'hut', 'injured', 'involved', 'john', 'kayaking', 'khakis', 'larger', 'laundromat', 'learning', 'lifted', 'lifts', 'lighted', 'location', 'logs', 'magazines', 'medium', 'meet', 'mop', 'motorcyclists', 'motorized', 'mower', 'mug', 'my', 'opens', 'parachute', 'passersby', 'patch', 'picks', 'pilot', 'placed', 'planting', 'playfully', 'ponytail', 'poor', 'practices', 'printed', 'rally', 'range', 'rapids', 'record', 'rice', 'rollerskating', 'rows', 'salon', 'saw', 'scouts', 'second', 'serves', 'shoreline', 'sides', 'snowshoes', 'so', 'soda', 'speak', 'strange', 'sunlight', 'supplies', 'surgery', 'suspenders', 'swimsuits', 'tackling', 'tights', 'tiny', 'touch', 'traveling', 'tray', 'tricycle', 'trip', 'trolley', 'trucks', 'tug', 'turquoise', 'underwear', 'visible', 'watched', 'weather', 'yarn', '#', '&', 'activity', 'america', 'amidst', 'apart', 'approaches', 'asia', 'asians', 'belts', 'blazer', 'blood', 'boards', 'bouquet', 'branches', 'brother', 'cage', 'canvas', 'cards', 'care', 'casually', 'celebrate', 'chalkboard', 'cheese', 'chopping', 'cloud', 'collared', 'contraption', 'cop', 'creating', 'cute', 'decorative', 'displaying', 'displays', 'done', 'driveway', 'earphones', 'embracing', 'experiment', 'facility', 'finishing', 'frozen', 'fur', 'furry', 'gallery', 'gaze', 'gazes', 'goat', 'handrail', 'headdress', 'helicopter', 'hiding', 'hike', 'hotdog', 'incline', 'involving', 'juggles', 'laden', 'leap', 'leggings', 'lens', 'leotard', 'lighting', 'link', 'lobby', 'located', 'maintenance', 'march', 'mexican', 'monitor', 'morning', 'numbers', 'nurses', 'oranges', 'pads', 'peeking', 'pin', 'pins', 'played', 'portrait', 'pots', 'process', 'products', 'quarterback', 'quickly', 'racers', 'rafting', 'roadside', 'rooftop', 'scaffold', 'scarves', 'serve', 'shape', 'sideways', 'silhouette', 'single', 'sprayed', 'stepping', 'stilts', 'teens', 'thumb', 'toddlers', 'torch', 'transportation', 'trashcan', 'tribal', 'turned', 'upward', 'valley', 'venue', 'walked', 'washes', 'whom', 'will', 'workout', 'workshop', 'adjusts', 'afternoon', 'almost', 'aprons', 'arch', 'atm', 'attractive', 'bathtub', 'begins', 'belongings', 'bends', 'beret', 'bicycling', 'booths', 'bouncing', 'brass', 'breakdancing', 'brushes', 'built', 'butterfly', 'cab', 'camp', 'canadian', 'cellphones', 'checkers', 'cherry', 'chewing', 'chocolate', 'chopsticks', 'circular', 'classic', 'cleaner', 'clouds', 'cola', 'containing', 'cover', 'crates', 'crowds', 'cycling', 'decorations', 'design', 'designs', 'digital', 'diner', 'displayed', 'dive', 'dragging', 'ducks', 'dumpster', 'east', 'egg', 'elmo', 'employees', 'farmers', 'featuring', 'fell', 'fishes', 'foliage', 'french', 'gardening', 'gazing', 'gesturing', 'grabbing', 'grabs', 'guards', 'handed', 'handle', 'heavily', 'highchair', 'hills', 'hind', 'horizon', 'icy', 'images', 'interesting', 'jeep', 'jogs', 'joy', 'jumped', 'jumper', 'kilt', 'load', 'love', 'menu', 'monkey', 'motion', 'muzzle', 'muzzled', 'news', 'olympic', 'operates', 'painter', 'pale', 'parasailing', 'pathway', 'pattern', 'peer', 'pencil', 'pet', 'pinata', 'point', 'potato', 'power', 'presenting', 'protesters', 'pumpkin', 'raincoat', 'really', 'recording', 'reflection', 'religious', 'rifle', 'rings', 'riot', 'sad', 'sawing', 'scenic', 'score', 'section', 'service', 'shiny', 'sledding', 'sniffing', 'soap', 'sorting', 'sparring', 'stacked', 'stall', 'stoop', 'strapped', 'strolls', 'stump', 'surfs', 'tags', 'task', 'teen', 'tending', 'than', 'ticket', 'tight', 'tiled', 'tired', 'tournament', 'treat', 'trench', 'tripod', 'turban', 'types', 'unhappy', 'unique', 'upset', 'waist', 'wig', 'wind', 'writes', '6', 'abandoned', 'accident', 'acrobatic', 'amount', 'aqua', 'aquarium', 'artists', 'babies', 'banners', 'barefooted', 'bartender', 'batman', 'beads', 'because', 'bedroom', 'bra', 'bridesmaids', 'bundle', 'buried', 'camels', 'campfire', 'canal', 'candle', 'canoes', 'carrier', 'casino', 'cheerleading', 'cigar', 'clowns', 'cluttered', 'coca', 'colorfully', 'columns', 'commercial', 'companion', 'conductor', 'crashing', 'crayons', 'cries', 'darkened', 'daytime', 'destination', 'directing', 'downhill', 'draped', 'draw', 'draws', 'easel', 'employee', 'establishment', 'europe', 'european', 'even', 'fat', 'figures', 'filming', 'flannel', 'followed', 'foods', 'forested', 'fountains', 'gesture', 'gown', 'grab', 'grand', 'had', 'halloween', 'hammering', 'hammock', 'hardwood', 'harmonica', 'hawaiian', 'hispanic', 'homemade', 'human', 'hydrant', 'india', 'industrial', 'jockeys', 'judges', 'kisses', 'labeled', 'laboratory', 'lanterns', 'league', 'lips', 'lively', 'loaded', 'looked', 'marble', 'masks', 'mess', 'midst', 'mix', 'mixer', 'monopoly', 'much', 'murky', 'muscular', 'nail', 'napping', 'navigates', 'notebook', 'notes', 'package', 'packed', 'pay', 'peers', 'photographers', 'plain', 'pocket', 'pony', 'pours', 'product', 'projector', 'protect', 'punch', 'purses', 'redhead', 'rug', 'sailboat', 'say', 'scrubs', 'series', 'shadow', 'shaggy', 'signing', 'skies', 'skills', 'skinny', 'somewhere', 'speaker', 'speeding', 'spins', 'splashed', 'spot', 'spotlight', 'sprays', 'spring', 'squeezing', 'staff', 'state', 'stretches', 'stringed', 'strolling', 'stuck', 'stuff', 'surgical', 'synchronized', 'tackled', 'teammates', 'times', 'too', 'toothbrush', 'tour', 'trains', 'transit', 'travel', 'underground', 'unusual', 'variety', 'vending', 'victory', 'vintage', 'waiter', 'walmart', 'warehouse', 'washer', 'waterskiing', 'wheeled', 'wheeler', 'when', 'win', 'yo', '?', 'accompanied', 'acting', 'activities', 'adorned', 'advertisements', 'ages', 'amid', 'arrow', 'await', 'backseat', 'bananas', 'barely', 'barrels', 'battle', 'beating', 'beers', 'begin', 'bend', 'blurred', 'bongo', 'bounds', 'boxer', 'british', 'buffet', 'bush', 'call', 'cameraman', 'cannon', 'casting', 'cathedral', 'cave', 'character', 'characters', 'chased', 'cheerleader', 'chin', 'cigarettes', 'collie', 'completing', 'complex', 'conducting', 'confetti', 'contest', 'cotton', 'crawls', 'create', 'crops', 'crosscountry', 'daily', 'defender', 'deli', 'demonstration', 'designed', 'desks', 'dinosaur', 'disc', 'discuss', 'divers', 'doctors', 'dolls', 'dotted', 'dryer', 'drying', 'dyed', 'earth', 'elder', 'elementary', 'entertain', 'environment', 'examine', 'exercising', 'exiting', 'facial', 'feather', 'fedora', 'fellow', 'fetch', 'fields', 'fill', 'find', 'fireworks', 'flock', 'fog', 'foggy', 'framed', 'frying', 'fuzzy', 'greyhounds', 'grinds', 'guide', 'harbor', 'hotdogs', 'husband', 'illuminated', 'ingredients', 'jenga', 'laid', 'legged', 'leopard', 'level', 'licking', 'lining', 'lion', 'logo', 'lush', 'marked', 'marker', 'mascot', 'may', 'maybe', 'mcdonald', 'meadow', 'measuring', 'medieval', 'mini', 'mitt', 'monitors', 'monk', 'mountainous', 'mounted', 'mouths', 'mowing', 'named', 'necklaces', 'newlywed', 'nine', 'nude', 'nun', 'oil', 'ordering', 'our', 'own', 'pans', 'parent', 'patrons', 'peaks', 'picket', 'pigeon', 'pirate', 'pointed', 'policemen', 'poodle', 'pops', 'prepared', 'pro', 'punching', 'puppet', 'purchase', 'pyramid', 'quiet', 'radio', 'rafts', 'railings', 'raining', 'reception', 'resort', 'return', 'roll', 'rollerskates', 'rolls', 'rustic', 's', 'scientist', 'sculptures', 'seafood', 'seating', 'separate', 'shawl', 'shower', 'sidelines', 'silhouetted', 'skydiving', 'skyline', 'slacks', 'snacks', 'snowboards', 'social', 'sold', 'speeds', 'squats', 'stance', 'starring', 'stores', 'striking', 'strings', 'stripe', 'sunbathing', 'supermarket', 'support', 'tablecloth', 'tail', 'tarp', 'temple', 'thick', 'though', 'tiger', 'topless', 'tow', 'tracksuit', 'travels', 'treadmill', 'trophy', 'trotting', 'turkey', 'tutu', 'typing', 'ultimate', 'upwards', 'usa', 'vacuum', 'vacuuming', 'vibrant', 'visor', 'warming', 'wash', 'watermelons', 'weight', 'were', 'wilderness', 'woodland', 'workman', 'wrestlers', 'xylophone', 'year', '11', '8', 'aboard', 'age', 'aiming', 'am', 'ancient', 'angle', 'anvil', 'any', 'armed', 'arrangement', 'assembled', 'assisting', 'award', 'axe', 'badge', 'badminton', 'barriers', 'beams', 'belly', 'bib', 'bikinis', 'bit', 'blocking', 'blower', 'boarding', 'bodysuit', 'boogie', 'bottoms', 'bows', 'bowtie', 'boxers', 'briefcase', 'broad', 'bronco', 'brooms', 'bulldozer', 'bunny', 'butcher', 'cable', 'canyon', 'cardigan', 'cash', 'cats', 'ceremonial', 'checked', 'checkout', 'circus', 'citizens', 'clap', 'climbers', 'clothed', 'clutching', 'coast', 'column', 'completely', 'congregate', 'connected', 'constructed', 'convenience', 'convention', 'crafting', 'crash', 'crate', 'creates', 'crest', 'crown', 'damaged', 'deer', 'deserted', 'dessert', 'devices', 'dots', 'double', 'dragon', 'dropping', 'dump', 'elaborate', 'elevated', 'evil', 'excitedly', 'expanse', 'expression', 'favorite', 'feathered', 'features', 'finished', 'fixes', 'flames', 'flat', 'floors', 'flowery', 'focus', 'follow', 'fork', 'fort', 'gap', 'glacier', 'gloved', 'goatee', 'gowns', 'grasping', 'grills', 'handbag', 'handheld', 'harvesting', 'hearts', 'heavyset', 'hook', 'hour', 'hunched', 'husky', 'identical', 'information', 'jack', 'javelin', 'jewish', 'jumpsuits', 'kicked', 'kiosk', 'knitting', 'lands', 'lanes', 'late', 'legos', 'length', 'licks', 'lime', 'lipstick', 'liquor', 'lovely', 'lower', 'main', 'mature', 'merry', 'miami', 'microscopes', 'miniature', 'missing', 'mittens', 'mountaintop', 'mouse', 'mule', 'muslim', 'nails', 'nearly', 'nightclub', 'noses', 'nurse', 'ny', 'o', 'olive', 'operated', 'overlook', 'pad', 'pain', 'parallel', 'pedal', 'personnel', 'piles', 'pillar', 'pipes', 'pitching', 'plank', 'political', 'popcorn', 'portable', 'posed', 'presents', 'probably', 'professor', 'progress', 'propped', 'pub', 'pushed', 'quad', 'rack', 'rag', 'rails', 'raise', 'raking', 'ravine', 'razor', 'relaxes', 'relay', 'renaissance', 'ribbons', 'rimmed', 'riverbank', 'rolled', 'rugs', 'rush', 'rusty', 'sample', 'saris', 'scaling', 'scantily', 'scattered', 'scissors', 'scooping', 'seagulls', 'seattle', 'senior', 'shingles', 'shorter', 'shouting', 'skateboarders', 'skull', 'sleep', 'sleeves', 'slopes', 'snowball', 'soars', 'socializing', 'somebody', 'sooners', 'soup', 'spatula', 'special', 'spots', 'sprinklers', 'squad', 'stair', 'stars', 'stirring', 'stretched', 'strike', 'strollers', 'stunts', 'sundress', 'sunshine', 'superman', 'surfers', 'swan', 'swords', 'system', 'talent', 'teddy', 'terrier', 'test', 'texting', 'those', 'ties', 'tips', 'toe', 'tomatoes', 'tubes', 'tying', 'university', 'unloading', 'upright', 'walkers', 'watering', 'waterside', 'waterskier', 'weapon', 'wheelchairs', 'whistle', 'wineglasses', 'within', 'words', 'woven', 'written', 'zone', '10', '7', 'actors', 'ad', 'aid', 'americans', 'amish', 'angels', 'angry', 'antique', 'apparatus', 'appearing', 'apples', 'applies', 'archway', 'armor', 'arrive', 'artistic', 'ascending', 'asphalt', 'assistant', 'attendant', 'attentively', 'available', 'ax', 'backhoe', 'backlit', 'backstroke', 'backward', 'baked', 'bakery', 'balanced', 'banana', 'barbecuing', 'barking', 'barren', 'baseman', 'baton', 'beginning', 'besides', 'bites', 'blindfolded', 'blocked', 'blurry', 'bones', 'bookshelf', 'boss', 'bounding', 'braided', 'breaks', 'breath', 'brindle', 'bronze', 'bundled', 'bushy', 'businessman', 'campers', 'campsite', 'canopy', 'cargo', 'caricature', 'carousel', 'carried', 'cartwheel', 'carve', 'carved', 'cast', 'cattle', 'chained', 'chains', 'challenge', 'champagne', 'chat', 'cheeks', 'chips', 'chunk', 'cinder', 'cityscape', 'clarinet', 'claus', 'clearing', 'clock', 'clothesline', 'cloths', 'cockpit', 'collecting', 'combat', 'comforting', 'community', 'competitive', 'competitors', 'completed', 'concentrates', 'conditions', 'confused', 'contents', 'cookies', 'cooler', 'coolers', 'cowgirl', 'cows', 'cradles', 'crawling', 'crazy', 'crowns', 'curve', 'curved', 'daylight', 'decorating', 'descending', 'designer', 'dig', 'digs', 'dilapidated', 'directs', 'disney', 'dominoes', 'donkeys', 'dribbles', 'drilling', 'dunking', 'eagerly', 'early', 'earrings', 'elephants', 'embrace', 'emerges', 'equestrian', 'escape', 'excitement', 'exhibition', 'exploring', 'expressions', 'eyeglasses', 'fairy', 'feathers', 'fills', 'film', 'fireplace', 'fishermen', 'fit', 'flaming', 'floaties', 'flowing', 'foam', 'forming', 'girlfriend', 'given', 'glider', 'gliding', 'goats', 'graffitied', 'greenery', 'gum', 'hairstyle', 'handles', 'handling', 'harp', 'headset', 'hear', 'herding', 'historic', 'holes', 'hooping', 'huddle', 'huddled', 'includes', 'inspect', 'installing', 'instructing', 'interact', 'interviewed', 'ipod', 'island', 'japan', 'jog', 'keys', 'kimonos', 'kites', 'lantern', 'lasso', 'last', 'latin', 'lean', 'leaned', 'leashes', 'least', 'lie', 'lingerie', 'lost', 'lowered', 'magnifying', 'major', 'makeshift', 'mannequin', 'marches', 'masked', 'massive', 'mats', 'mattress', 'mcdonalds', 'memorial', 'merchant', 'message', 'metro', 'mic', 'minivan', 'mops', 'mothers', 'motorbikes', 'multicolor', 'mustard', 'nicely', 'nike', 'oar', 'obama', 'observers', 'offering', 'opened', 'operation', 'opponents', 'pacifier', 'padded', 'parachutes', 'parachuting', 'parts', 'partying', 'passed', 'passerby', 'pauses', 'peacock', 'peak', 'pedestrian', 'perched', 'perhaps', 'persons', 'petals', 'photographing', 'ping', 'pinned', 'pinstriped', 'plush', 'poking', 'poodles', 'port', 'positioned', 'posters', 'posts', 'pride', 'priest', 'punk', 'rake', 'reclines', 'recreational', 'register', 'remote', 'returns', 'roadwork', 'robot', 'rollerskaters', 'rounding', 'rowboat', 'rubble', 'rubs', 'ruins', 'sacks', 'sail', 'sailboats', 'sailor', 'saying', 'scales', 'scout', 'searching', 'season', 'seesaw', 'served', 'shack', 'shady', 'sharp', 'sheer', 'sheets', 'shelves', 'shines', 'shoeshine', 'singers', 'sister', 'slicing', 'smooth', 'snap', 'snaps', 'snowboarders', 'snowcapped', 'snowman', 'soft', 'sound', 'spike', 'splash', 'split', 'spongebob', 'sponsored', 'st', 'st.', 'stacks', 'starts', 'states', 'steers', 'storefronts', 'strap', 'stretch', 'stride', 'struggles', 'struggling', 'stylish', 'suburban', 'suitcases', 'surgeons', 'sweaters', 'sweatshirts', 'sweatsuit', 'symbol', 'terminal', 'text', 'theme', 'themed', 'tiara', 'toilet', 'tomato', 'tongs', 'torches', 'tossed', 'towels', 'trays', 'tribe', 'trimming', 'tugging', 'tumbling', 'tunic', 'tuxedo', 'unfinished', 'unknown', 'upper', 'utility', 'varying', 'vegetation', 'vertical', 'vocalist', 'waitress', 'wakeboard', 'want', 'watercraft', 'watermelon', 'weapons', 'welcome', 'whole', 'windbreaker', 'winding', 'wiping', 'workmen', 'yelling', 'your', 'zebra', 'zip', 'zoo', '9', 'accepting', 'actively', 'adorable', 'aerial', 'africa', 'aircraft', 'alcohol', 'alike', 'apparel', 'arabic', 'areas', 'arid', 'artificial', 'asking', 'attraction', 'automobile', 'avoid', 'balconies', 'ballerinas', 'banging', 'basement', 'basketballs', 'bathrobe', 'bay', 'beards', 'bears', 'beat', 'begging', 'best', 'beyond', 'blade', 'blown', 'bookbag', 'bookstore', 'boston', 'boulders', 'bowler', 'bracelet', 'breaking', 'bridal', 'brimmed', 'bringing', 'brochure', 'brow', 'buggy', 'build', 'bungee', 'buoy', 'burgers', 'buses', 'ca', 'cabin', 'cables', 'cafeteria', 'calling', 'came', 'camper', 'carpeted', 'cartoon', 'casts', 'cause', 'caution', 'celebrates', 'cemetery', 'charcoal', 'chested', 'chews', 'chickens', 'chinatown', 'chip', 'chiseling', 'chubby', 'civil', 'cleaned', 'closer', 'coconuts', 'coke', 'collection', 'comfortable', 'communicating', 'competes', 'constructing', 'contemplating', 'controls', 'convertible', 'cooked', 'cookie', 'county', 'coveralls', 'crab', 'craftsman', 'crayon', 'created', 'crib', 'cruise', 'crutches', 'cubicle', 'cupcake', 'cupcakes', 'curious', 'currently', 'd', 'daughters', 'decide', 'deere', 'defenders', 'defensive', 'delicious', 'demonstrating', 'descend', 'despite', 'diners', 'directly', 'disk', 'dolly', 'dolphin', 'dozens', 'drag', 'drainage', 'dramatically', 'dribbling', 'driven', 'drivers', 'drop', 'dropped', 'drops', 'dunes', 'dunk', 'earmuffs', 'eatery', 'electronics', 'else', 'emerging', 'enforcement', 'engage', 'entertainer', 'enthusiastically', 'era', 'except', 'exciting', 'exits', 'exposed', 'extended', 'extremely', 'fashionable', 'fetching', 'fighter', 'file', 'fine', 'firetrucks', 'firing', 'fitness', 'fives', 'flatbed', 'flea', 'floored', 'floppy', 'flour', 'fluorescent', 'fold', 'footbridge', 'force', 'forces', 'formed', 'foundation', 'fourth', 'frames', 'freshly', 'frog', 'frustrated', 'galloping', 'gated', 'gay', 'goers', 'golfer', 'graduation', 'greeting', 'grins', 'grown', 'guarding', 'guitarists', 'gymnastic', 'halter', 'hauling', 'hawk', 'headbands', 'headscarves', 'helmeted', 'helped', 'henna', 'hero', 'hidden', 'hikes', 'hilly', 'hips', 'holiday', 'hopscotch', 'horns', 'hung', 'impressive', 'incoming', 'inflated', 'inline', 'instructor', 'intense', 'jar', 'jazz', 'jewelery', 'joggers', 'kayaker', 'kayakers', 'keeping', 'kickboxing', 'kiddie', 'kilts', 'kitchenaid', 'kitten', 'know', 'known', 'ladders', 'landed', 'law', 'layers', 'leafless', 'lemon', 'lemons', 'letters', 'liberty', 'lid', 'lifeguards', 'likely', 'lip', 'litter', 'lonely', 'loop', 'loose', 'm', 'mac', 'mailbox', 'mark', 'markings', 'marsh', 'mascara', 'mates', 'mechanic', 'mechanical', 'megaphone', 'mermaid', 'mesh', 'messenger', 'metallic', 'mickey', 'milk', 'mind', 'monster', 'motorboat', 'mountainside', 'multi', 'mustached', 'muzzles', 'noodles', 'note', 'occupied', 'occurring', 'octopus', 'oklahoma', 'once', 'orders', 'organ', 'organizing', 'overcoat', 'overhang', 'oversized', 'overturned', 'owner', 'owners', 'oxen', 'packing', 'padding', 'paintbrush', 'paintings', 'pancake', 'panel', 'parasol', 'participants', 'participates', 'partly', 'passionately', 'pastries', 'patrol', 'paws', 'peach', 'peeks', 'peeling', 'photography', 'picker', 'pickup', 'pictured', 'pie', 'piercing', 'pig', 'piggyback', 'piled', 'pillars', 'pirates', 'pitchers', 'playpen', 'plowing', 'plucking', 'poised', 'pokes', 'polish', 'pong', 'pop', 'possession', 'postal', 'potted', 'poverty', 'powder', 'powered', 'prayer', 'pregnant', 'preparation', 'pressure', 'pretending', 'princess', 'prints', 'prizes', 'professionals', 'projected', 'promoting', 'propane', 'puffy', 'purchasing', 'puzzle', 'quaint', 'quick', 'rabbit', 'rabbits', 'railway', 'ramps', 'readying', 'rear', 'receive', 'receives', 'reddish', 'ref', 'removing', 'retail', 'retrieving', 'returning', 'ridding', 'roadway', 'rocking', 'rode', 'rollerblader', 'roping', 'roses', 'rounds', 'runway', 'saddle', 'safe', 'salad', 'sandal', 'sashes', 'sausages', 'scale', 'scared', 'scoop', 'scottish', 'scrap', 'scratching', 'sculpting', 'sculptor', 'seagull', 'seashore', 'seaweed', 'seeds', 'selecting', 'seniors', 'shapes', 'shave', 'shed', 'sheepdog', 'shields', 'shit', 'shoots', 'siding', 'sight', 'similarly', 'sip', 'siting', 'skeleton', 'skimpy', 'slab', 'slam', 'slender', 'slices', 'slip', 'sloping', 'slot', 'slowly', 'smoothing', 'snake', 'sniffs', 'snorkel', 'snowing', 'soil', 'soldering', 'solitary', 'solo', 'someones', 'sons', 'sorts', 'south', 'spandex', 'speakers', 'spear', 'spectate', 'speedo', 'spiked', 'spikes', 'spin', 'sprinting', 'squares', 'stacking', 'stairwell', 'stalks', 'starbucks', 'stationary', 'statues', 'stay', 'steaks', 'steam', 'steer', 'stirs', 'stocking', 'stockings', 'stools', 'storage', 'storm', 'straps', 'strawberry', 'streetlight', 'strikes', 'strip', 'structures', 'studies', 'submerged', 'substance', 'such', 'sucking', 'sumo', 'sunbathers', 'sunhat', 'sunrise', 'surround', 'surroundings', 'suv', 'swampy', 'sweaty', 'swimwear', 'tackles', 'tagged', 'taller', 'tap', 'taste', 'tasting', 'tattered', 'taught', 'taxis', 'technique', 'technology', 'temporary', 'terrace', 'texts', 'think', 'thinking', 'thought', 'tickets', 'tightly', 'tightrope', 'tip', 'toast', 'topic', 'torn', 'tosses', 'trained', 'tram', 'triangle', 'trims', 'trombone', 'troops', 'tuning', 'turtle', 'twelve', 'twirling', 'twister', 'typical', 'ukulele', 'unicef', 'unidentified', 'unpacking', 'unpaved', 'unseen', 'ups', 'used', 'vacation', 'vast', 'vegas', 'via', 'videotaping', 'viewer', 'villagers', 'violinist', 'volkswagen', 'wades', 'waring', 'warning', 'washed', 'washington', 'ways', 'weathered', 'weave', 'weeds', 'weighing', 'weird', 'western', 'wetsuits', 'whispering', 'wicker', 'wigs', 'winning', 'wipes', 'wool', 'word', 'workbench', 'wraps', 'write', 'yamaha', 'youngsters', 'youths', '12', '24', '30', '3rd', 'a&amp;m', 'accompanies', 'adding', 'addresses', 'addressing', 'adjust', 'admires', 'adolescent', 'advantage', 'again', 'agility', 'aim', 'airline', 'ally', 'aluminum', 'amazing', 'ambulance', 'amused', 'answers', 'applied', 'approach', 'approximately', 'aquatic', 'arguing', 'arranged', 'arrival', 'ashore', 'assembly', 'assortment', 'astronaut', 'attaches', 'attend', 'attired', 'audio', 'average', 'awaits', 'awe', 'awning', 'awnings', 'b', 'backhand', 'baggage', 'bagpipe', 'baker', 'banquet', 'barbie', 'bark', 'barricades', 'bathed', 'batons', 'bats', 'battling', 'bead', 'beagle', 'beans', 'bearer', 'beater', 'beats', 'beautifully', 'bee', 'berlin', 'better', 'blacktop', 'blonds', 'blossoming', 'bmw', 'boa', 'boating', 'border', 'bordered', 'bordering', 'bounce', 'bouncer', 'bounces', 'bouncy', 'bowed', 'braces', 'brazil', 'breakfast', 'briefs', 'briskly', 'bucks', 'bug', 'bulls', 'bumper', 'burger', 'butchering', 'butt', 'butter', 'cabinet', 'cages', 'cakes', 'california', 'camcorder', 'cameramen', 'campaign', 'canes', 'canister', 'canned', 'capes', 'captain', 'captured', 'captures', 'careful', 'ceramic', 'cereal', 'charging', 'chart', 'cheers', 'chew', 'clams', 'claw', 'cleats', 'clerk', 'cobbled', 'coin', 'collected', 'collide', 'comb', 'commuters', 'coney', 'congregated', 'congregating', 'contains', 'content', 'cord', 'cords', 'corral', 'corridor', 'costumed', 'countertop', 'coverings', 'cracks', 'crashed', 'crashes', 'creative', 'crocodile', 'crocs', 'crotch', 'crouch', 'cry', 'crystal', 'culture', 'curling', 'curtain', 'cushion', 'cutout', 'cycle', 'cycles', 'darkly', 'darkness', 'darts', 'dealer', 'decals', 'decker', 'defends', 'demonstrates', 'dentist', 'depicting', 'descends', 'desolate', 'digger', 'directed', 'director', 'dishwasher', 'distorted', 'ditch', 'diverse', 'dojo', 'donuts', 'doo', 'dorm', 'dozen', 'dreads', 'drenched', 'dressing', 'dried', 'dries', 'drunk', 'ds', 'ducking', 'duffel', 'dugout', 'dumps', 'dunks', 'dustpan', 'dwelling', 'earbuds', 'earring', 'easter', 'effort', 'el', 'elbow', 'electrical', 'electrician', 'elevator', 'enclosed', 'enclosure', 'ends', 'engages', 'enter', 'enters', 'entertained', 'entertaining', 'entertainment', 'entertains', 'enthusiasm', 'enthusiast', 'equipped', 'euro', 'every', 'everyone', 'everywhere', 'exit', 'expensive', 'explorer', 'explores', 'explosion', 'exposing', 'extends', 'extreme', 'facade', 'faced', 'families', 'featured', 'fed', 'feed', 'feeds', 'fences', 'ferry', 'festive', 'films', 'final', 'fingernail', 'fingertips', 'fist', 'fists', 'flashlight', 'fleece', 'fliers', 'flights', 'flood', 'flooded', 'flotation', 'focuses', 'footprints', 'ford', 'forklift', 'formations', 'forrest', 'fortune', 'france', 'freeway', 'friendly', 'frosting', 'fully', 'gardens', 'garment', 'geese', 'geisha', 'geometric', 'gifts', 'gorgeous', 'government', 'graduate', 'granddaughter', 'grandmother', 'graphic', 'graying', 'greet', 'grid', 'grimacing', 'gripping', 'grooms', 'grouped', 'growing', 'guest', 'gypsy', 'gyro', 'hairnet', 'hamburger', 'hamburgers', 'hammers', 'handful', 'handicapped', 'handlebars', 'handmade', 'happening', 'hate', 'hatted', 'headgear', 'healthcare', 'heartbeat', 'hedge', 'heeled', 'hello', 'highly', 'holidays', 'holing', 'hollister', 'honor', 'hoses', 'housing', 'huddling', 'hundreds', 'hurdles', 'huts', 'index', 'indians', 'infants', 'informal', 'inner', 'interested', 'interior', 'interview', 'intimate', 'ironing', 'italian', 'itself', 'jackhammer', 'janitor', 'jars', 'joe', 'jogger', 'jug', 'junk', 'karaoke', 'kart', 'kettle', 'key', 'keyboards', 'kicker', 'kinds', 'kissed', 'kit', 'kitty', 'kneel', 'knight', 'knits', 'knives', 'korean', 'la', 'ladle', 'lakers', 'lakeside', 'landmark', 'lassoing', 'latex', 'latino', 'launch', 'launches', 'launching', 'layered', 'leafy', 'led', 'lego', 'lei', 'leotards', 'let', 'lets', 'letter', 'limb', 'limo', 'littered', 'lives', 'livestock', 'llama', 'lock', 'lollipop', 'lottery', 'lounges', 'machete', 'mad', 'maneuver', 'maneuvering', 'maneuvers', 'manhole', 'mannequins', 'manual', 'maple', 'mariachi', 'marina', 'marks', 'master', 'mate', 'me', 'meals', 'media', 'meditating', 'menus', 'mesmerized', 'metropolitan', 'mets', 'mexico', 'might', 'mike', 'miniskirt', 'mirrored', 'mixed', 'mixes', 'mock', 'monks', 'moose', 'mopping', 'mosaic', 'mosque', 'moved', 'mustachioed', 'names', 'napkin', 'natural', 'navigating', 'needed', 'needs', 'nibbling', 'nintendo', 'noodle', 'notebooks', 'notice', 'now', 'numbered', 'nursing', 'observed', 'offers', 'ohio', 'ollie', 'onlooker', 'opportunity', 'organized', 'ornament', 'outcropping', 'outfielder', 'outstreached', 'overall', 'overlooks', 'overpass', 'oxford', 'pace', 'packages', 'paddlers', 'pages', 'paintball', 'painters', 'pairs', 'panda', 'paneled', 'pant', 'parka', 'parlor', 'partner', 'pastel', 'pastor', 'pastry', 'patches', 'patiently', 'patriotic', 'patron', 'pause', 'paving', 'paw', 'paying', 'peaceful', 'penguin', 'per', 'period', 'pets', 'pierced', 'piercings', 'pitched', 'pitches', 'playhouse', 'pleasant', 'plugging', 'pockets', 'pointy', 'poker', 'poncho', 'ponchos', 'ponders', 'ponytails', 'poorly', 'popping', 'portraits', 'positions', 'potatoes', 'pouting', 'powerpoint', 'press', 'presses', 'pressing', 'pretends', 'prevent', 'primitive', 'procession', 'professionally', 'profile', 'protester', 'proud', 'proudly', 'provide', 'pruning', 'pulley', 'pump', 'pumpkins', 'pursued', 'quilt', 'r', 'racquet', 'ragged', 'rags', 'rainstorm', 'rakes', 'rappelling', 're', 'real', 'recently', 'recliner', 'records', 'rectangular', 'referees', 'reflections', 'refreshing', 'rehearsing', 'related', 'released', 'remove', 'removed', 'removes', 'reporter', 'representing', 'rescue', 'responding', 'restaurants', 'retriever', 'reviewing', 'rig', 'ripped', 'rise', 'rises', 'ritual', 'robed', 'rods', 'rooster', 'route', 'rowers', 'ruler', 'salmon', 'samurai', 'sandpit', 'sands', 'sari', 'sat', 'satchel', 'sauna', 'save', 'saxophones', 'schoolgirl', 'scoops', 'screams', 'screwdriver', 'secured', 'sedan', 'seemingly', 'sees', 'selection', 'self', 'services', 'session', 'sexy', 'shaded', 'shading', 'shadowed', 'shake', 'shelf', 'shelter', 'shielding', 'shrimp', 'signal', 'silk', 'sipping', 'sippy', 'sips', 'sizes', 'skill', 'skillfully', 'skin', 'sleds', 'sleigh', 'smirking', 'snowbank', 'snows', 'sock', 'solar', 'solider', 'sombrero', 'somersault', 'soon', 'spain', 'sparkler', 'sparklers', 'sparks', 'sparse', 'spectacular', 'spider', 'spiderman', 'spiking', 'spilled', 'spiral', 'spits', 'sponge', 'spreading', 'spreads', 'sprinkled', 'sprinkles', 'sprinkling', 'sprints', 'squarepants', 'squat', 'squinting', 'stained', 'statute', 'staying', 'stethoscope', 'sticker', 'stony', 'straining', 'streaks', 'streams', 'streetlights', 'strewn', 'strobe', 'stroke', 'strumming', 'study', 'styrofoam', 'sucks', 'suds', 'suite', 'suited', 'sunhats', 'surfboards', 'sweating', 'sweep', 'sweet', 'takeout', 'talkie', 'tambourine', 'tanned', 'tasks', 'tasty', 'telling', 'tells', 'ten', 'tend', 'tends', 'testing', 'tethered', 'thread', 'threw', 'tiles', 'tobacco', 'toilets', 'took', 'topped', 'toss', 'towed', 'towering', 'toyota', 'transport', 'transporting', 'trap', 'treats', 'tri', 'tricycles', 'trio', 'trips', 'trots', 'trouble', 'trough', 'trumpets', 'tuba', 'tulips', 'turbans', 'turtleneck', 'tutus', 'tuxedos', 'twigs', 'twilight', 'twirl', 'twirls', 'tye', 'uncompleted', 'underway', 'union', 'uniquely', 'unison', 'united', 'unusually', 'upcoming', 'uphill', 'utensils', 'vacant', 'vacuums', 'vaulting', 'veil', 'veteran', 'videotapes', 'vietnamese', 'views', 'vigorously', 'violins', 'vivid', 'volunteers', 'wade', 'waited', 'waking', 'walker', 'walkie', 'wallet', 'warmly', 'warrior', 'web', 'welds', 'wheat', 'wheeling', 'whose', 'wii', 'wildflowers', 'winded', 'wonder', 'woodworking', 'wrapping', 'wrist', 'wrong', 'yawning', 'years', 'yet', 'zombie', 'zombies', ' ', '%', '100', '13', '14', '2008', '38', '50', '63', '80', '`', 'abs', 'accompaniment', 'acrobat', 'acrobatics', 'actions', 'add', 'adds', 'adjacent', 'admire', 'adobe', 'adventure', 'adventurous', 'affection', 'africans', 'aims', 'airways', 'alaska', 'album', 'alcoholic', 'align', 'allow', 'aloft', 'aloud', 'alpine', 'altitude', 'always', 'amber', 'amplifier', 'angeles', 'angles', 'animatedly', 'ankle', 'announcement', 'annual', 'anorak', 'answer', 'anxiously', 'applauding', 'appreciate', 'approached', 'arab', 'archaeologists', 'architectural', 'architecture', 'armored', 'arrange', 'array', 'ascends', 'aside', 'assistance', 'assisted', 'assists', 'assorted', 'atlanta', 'attaching', 'attack', 'attacked', 'attacking', 'attended', 'attentive', 'atyl', 'auditioning', 'aviator', 'awaiting', 'backed', 'backflip', 'backing', 'bad', 'bagel', 'bagpipers', 'bake', 'baking', 'bale', 'bales', 'baltimore', 'bandage', 'bandannas', 'barbed', 'bares', 'barker', 'barn', 'barricade', 'based', 'battery', 'batting', 'bazaar', 'beaker', 'bean', 'beauty', 'become', 'beds', 'bell', 'bemused', 'bespectacled', 'bibs', 'bicycler', 'bill', 'bills', 'billy', 'binder', 'bins', 'bistro', 'bits', 'blackboard', 'blacksmith', 'blading', 'blank', 'blankly', 'blasts', 'blind', 'blinds', 'bloody', 'bloom', 'blooming', 'blues', 'blur', 'boaters', 'bodies', 'bonding', 'bone', 'bonfire', 'bonnet', 'bored', 'born', 'bottled', 'bout', 'boutique', 'bowled', 'bowties', 'brace', 'braid', 'braids', 'breakdances', 'breast', 'breaststroke', 'breeze', 'bridesmaid', 'briefcases', 'bring', 'broccoli', 'brochures', 'brook', 'brothers', 'brownish', 'buck', 'bucked', 'buddhist', 'budweiser', 'buffalo', 'bugs', 'builder', 'builds', 'bulldog', 'bullet', 'bump', 'bun', 'bunches', 'bundles', 'bunk', 'burying', 'bushel', 'busily', 'busker', 'busking', 'bust', 'buttons', 'buys', 'bystander', 'cadillac', 'caged', 'calendar', 'calmly', 'calvin', 'camo', 'camps', 'campus', 'candlelight', 'canoeing', 'capri', 'capris', 'captivated', 'capture', 'caravan', 'caressing', 'carol', 'carpenter', 'cartons', 'cashier', 'castro', 'catamaran', 'cavern', 'cell', 'cells', 'cellular', 'central', 'challenging', 'cheered', 'cheerful', 'chemical', 'chemistry', 'chief', 'chili', 'chimney', 'chipper', 'chipping', 'chisel', 'chisels', 'chopped', 'choppy', 'choreographed', 'chores', 'churning', 'circles', 'circuit', 'circuits', 'citizen', 'civilians', 'clasps', 'classical', 'clause', 'clenches', 'clever', 'clicking', 'cliffs', 'climbed', 'clipboard', 'clips', 'clog', 'closing', 'clustered', 'coached', 'coaches', 'coastline', 'coated', 'cob', 'coconut', 'coeds', 'colleagues', 'collision', 'colonial', 'colourful', 'comforter', 'comforts', 'comic', 'comical', 'common', 'compartment', 'competitively', 'completes', 'concentrating', 'concession', 'condoms', 'congregation', 'consoles', 'consulting', 'consults', 'contained', 'containers', 'contestant', 'contestants', 'contested', 'contingent', 'contorts', 'controlled', 'converses', 'conveyor', 'copies', 'copy', 'cork', 'corsage', 'cottage', 'couches', 'could', 'counters', 'coworker', 'crabs', 'cracked', 'crag', 'crammed', 'cramped', 'crayola', 'creation', 'creature', 'creepy', 'crow', 'crumbling', 'crushed', 'cue', 'culinary', 'cultural', 'cupping', 'curbside', 'curiously', 'custody', 'cutoff', 'cutouts', 'cutter', 'cyclone', 'dachshund', 'dame', 'dandelion', 'dane', 'dappled', 'daring', 'darth', 'dash', 'david', 'de', 'decides', 'deciding', 'decked', 'defending', 'deflated', 'delight', 'delivering', 'delivery', 'dental', 'depicted', 'describing', 'designing', 'detail', 'detergent', 'determined', 'devil', 'diamond', 'diaper', 'die', 'diet', 'dim', 'dingy', 'dip', 'direct', 'disco', 'discovering', 'discusses', 'distracted', 'district', 'documents', 'dollhouse', 'donations', 'doorstep', 'downing', 'downward', 'downwards', 'dragster', 'drain', 'drape', 'drawer', 'drawers', 'drawings', 'dribble', 'drifts', 'drummers', 'drumming', 'drunken', 'dueling', 'dumping', 'dutch', 'eagle', 'easy', 'eclectic', 'ecstatically', 'egret', 'eiffel', 'elaborately', 'elegant', 'eleven', 'em', 'embraces', 'emotion', 'empanadas', 'emptying', 'ended', 'engaging', 'england', 'enjoyed', 'enrolling', 'ensemble', 'ensure', 'entertainers', 'enthusiastic', 'envelope', 'erected', 'escalators', 'espresso', 'ethnicities', 'evenly', 'exam', 'examined', 'executes', 'exercises', 'exotic', 'experiments', 'explains', 'express', 'exterior', 'eyed', 'eyeliner', 'f', 'fairway', 'falcon', 'famous', 'fanny', 'fare', 'farming', 'fatigued', 'fatigues', 'faux', 'feels', 'fencers', 'ferns', 'ferris', 'fest', 'fetches', 'fiddles', 'fierce', 'figurines', 'filed', 'filmed', 'fingernails', 'finishes', 'fired', 'fires', 'fitting', 'fixture', 'flamboyant', 'flame', 'flap', 'flaps', 'flash', 'flashy', 'flexible', 'flexing', 'flier', 'flinging', 'flipped', 'flow', 'fluid', 'flutes', 'focal', 'folders', 'forearm', 'forehand', 'forever', 'formally', 'fours', 'francisco', 'frantically', 'freestyle', 'freight', 'frilly', 'fringed', 'frolic', 'frolics', 'fronds', 'frothy', 'frown', 'frowning', 'frowns', 'function', 'fundraiser', 'funky', 'furiously', 'gallon', 'gambling', 'garish', 'garments', 'garter', 'gates', 'gateway', 'gig', 'ginger', 'gingerbread', 'glances', 'glancing', 'glassy', 'glides', 'glittery', 'glow', 'glowing', 'glue', 'god', 'golfers', 'goofy', 'graffited', 'grain', 'grains', 'grandfather', 'grandparents', 'grasps', 'grate', 'graze', 'greenhouse', 'grilled', 'grin', 'grind', 'grinder', 'grinning', 'grips', 'groucho', 'grounds', 'growling', 'guidebook', 'guides', 'guiding', 'hairdo', 'hairdresser', 'hairy', 'halfway', 'hamming', 'hamper', 'handbags', 'handgun', 'handhold', 'handkerchiefs', 'handled', 'handler', 'handshake', 'hardware', 'harlem', 'harvest', 'harvested', 'hatchet', 'haul', 'hazard', 'headdresses', 'header', 'headfirst', 'headlight', 'heat', 'hedges', 'height', 'heineken', 'helper', 'herbs', 'herd', 'heritage', 'heron', 'hid', 'hide', 'hides', 'hijab', 'hip', 'hippie', 'hipsters', 'historical', 'hitchhiking', 'hitching', 'hitter', 'hoe', 'hog', 'hokey', 'hollow', 'homes', 'homework', 'hoodies', 'hooked', 'hoping', 'hopper', 'hops', 'horizontal', 'horsemen', 'household', 'houston', 'hovering', 'hugged', 'hulk', 'humans', 'humping', 'hungry', 'hunt', 'hunter', 'hurry', 'hurt', 'hydraulic', 'iced', 'idle', 'igloo', 'illuminating', 'imitation', 'immigration', 'important', 'improvement', 'incense', 'inclined', 'incredible', 'indigenous', 'inflating', 'info', 'informally', 'ink', 'innertube', 'insect', 'inspectors', 'inspired', 'instructions', 'instructors', 'international', 'internet', 'interviews', 'intricate', 'intrigued', 'involves', 'iowa', 'irish', 'irons', 'irritated', 'islamic', 'isle', 'issue', 'italy', 'jackhammers', 'jacks', 'jackson', 'jagged', 'james', 'jesus', 'jets', 'jim', 'johns', 'joking', 'jostle', 'journal', 'jousting', 'judge', 'juggle', 'juggler', 'kawasaki', 'kelp', 'kerchief', 'kickboxer', 'kill', 'kimono', 'king', 'klein', 'knitted', 'knock', 'knotted', 'kwon', 'labor', 'labradoodle', 'lace', 'lack', 'language', 'laps', 'lapse', 'las', 'later', 'lava', 'lavender', 'le', 'leader', 'leak', 'leaped', 'learn', 'learns', 'leashed', 'leave', 'lebron', 'leisurely', 'lemonade', 'lettering', 'letting', 'lettuce', 'licked', 'lighthouse', 'likes', 'limbs', 'linens', 'list', 'lizard', 'loader', 'loaf', 'locker', 'lockers', 'locomotive', 'locomotives', 'lodge', 'los', 'loses', 'loudspeaker', 'louvre', 'lovers', 'lowering', 'magic', 'magician', 'mail', 'mainly', 'maintain', 'maintained', 'mallet', 'management', 'mane', 'manicured', 'manner', 'mantle', 'manure', 'maracas', 'marshal', 'mart', 'martini', 'marx', 'masonry', 'mass', 'massage', 'masses', 'masterpiece', 'matador', 'matches', 'math', 'mattresses', 'mauve', 'meats', 'medals', 'median', 'melon', 'melons', 'memorabilia', 'messages', 'met', 'metalworking', 'meter', 'michael', 'michigan', 'milling', 'mime', 'mine', 'miners', 'mingle', 'mingling', 'minnesota', 'mirrors', 'miscellaneous', 'missed', 'misty', 'mixture', 'mma', 'mob', 'modeling', 'mold', 'moms', 'mongolian', 'mood', 'moon', 'moored', 'moss', 'motions', 'mounds', 'mount', 'mover', 'mowed', 'mr.', 'mrs.', 'mugs', 'mulch', 'multitasking', 'murals', 'mushroom', 'mustang', 'nanny', 'natives', 'navigate', 'nears', 'neatly', 'necks', 'necktie', 'need', 'needle', 'neighbors', 'nerf', 'nibbles', 'ninja', 'nips', 'non', 'normal', 'notre', 'nuts', 'oakland', 'oars', 'oblivious', 'occasion', 'occurred', 'oceanside', 'oddly', 'offer', 'offered', 'officials', 'oh', 'olympians', 'oncoming', 'op', 'openings', 'operate', 'opinions', 'origin', 'orioles', 'ornamental', 'outboard', 'overcast', 'owl', 'owned', 'ox', 'oxygen', 'p', 'pabst', 'packs', 'paddled', 'paddy', 'page', 'pajama', 'palace', 'pancakes', 'pane', 'paperback', 'para', 'parachutist', 'paraphernalia', 'parasail', 'paris', 'parks', 'parrot', 'participant', 'particular', 'passer', 'pasture', 'patchy', 'patrick', 'patrolling', 'patties', 'pearls', 'pebbles', 'pedals', 'peddling', 'pee', 'peek', 'peep', 'pelican', 'penguins', 'penn', 'penske', 'peoples', 'peppers', 'percussion', 'peruses', 'pf', 'pharmacy', 'physically', 'pies', 'pigs', 'pineapple', 'pineapples', 'pioneer', 'pitbull', 'placard', 'placid', 'plan', 'planes', 'plaque', 'plaster', 'platforms', 'platter', 'plow', 'plume', 'plywood', 'podiums', 'pokemon', 'pollution', 'pomeranian', 'pompoms', 'popsicle', 'populated', 'pork', 'possible', 'postcards', 'poultry', 'pounces', 'pouncing', 'pout', 'powdered', 'pray', 'prepping', 'preschool', 'presented', 'presumably', 'pretend', 'pretzels', 'previously', 'price', 'private', 'proclaim', 'programs', 'projection', 'prop', 'propeller', 'props', 'protectors', 'puff', 'puma', 'punches', 'putt', 'puzzled', 'q', 'quartet', 'question', 'questions', 'quietly', 'quilted', 'rackets', 'racks', 'rad', 'raging', 'ran', 'random', 'rates', 'rather', 'raw', 'reacting', 'reaction', 'reason', 'received', 'recent', 'reclining', 'recorder', 'recycling', 'reenactment', 'reflecting', 'reflects', 'refreshments', 'refuge', 'regal', 'region', 'registered', 'reindeer', 'relaxed', 'release', 'releases', 'releasing', 'reluctant', 'remember', 'repairman', 'repelling', 'reporters', 'researchers', 'residence', 'residential', 'respective', 'respectively', 'restaraunt', 'retrieve', 'ribs', 'rican', 'rid', 'rifles', 'rinsing', 'rising', 'risk', 'riverbed', 'rocker', 'rocket', 'rodgers', 'role', 'roots', 'rose', 'routines', 'rugged', 'rushing', 'russian', 'rust', 'rusted', 'saddled', 'safely', 'sales', 'salesman', 'saluting', 'samples', 'samsung', 'san', 'sandwiches', 'sash', 'sauce', 'saucer', 'sausage', 'saving', 'sax', 'scaffolds', 'scan', 'scary', 'schools', 'scientific', 'scooby', 'scope', 'scores', 'scoring', 'scrabble', 'scramble', 'scrapping', 'screened', 'screens', 'scrimmage', 'scrubbing', 'scruffy', 'scythe', 'seal', 'seamstress', 'seas', 'sections', 'secure', 'secures', 'securing', 'segway', 'selections', 'selects', 'seminar', 'sending', 'sends', 'separated', 'separates', 'sequence', 'serene', 'serious', 'sesame', 'setup', 'sew', 'sewer', 'sews', 'shabby', 'shacking', 'shadowy', 'shampoo', 'shawls', 'shell', 'shepard', 'shift', 'shine', 'shined', 'shipping', 'shish', 'shoelaces', 'shots', 'should', 'shouts', 'showcasing', 'showers', 'showgirl', 'shrine', 'shrubbery', 'shuffles', 'sibling', 'sideline', 'sidewalks', 'silverware', 'simple', 'simply', 'simultaneously', 'sisters', 'sites', 'situation', 'size', 'sketch', 'skiiers', 'skim', 'skit', 'skulls', 'skyscraper', 'slalom', 'slamming', 'sledgehammer', 'sleepy', 'sliced', 'slim', 'sling', 'slingshot', 'slips', 'slow', 'slumped', 'slung', 'smear', 'smelling', 'smock', 'snail', 'snarling', 'snoopy', 'snorkeling', 'snowdrift', 'snowflakes', 'snowmobile', 'snowmobiling', 'snowshoe', 'snowstorm', 'snowsuits', 'snuggling', 'soaked', 'soaking', 'soapy', 'sodas', 'softly', 'solid', 'source', 'sous', 'southeast', 'spa', 'spaghetti', 'spare', 'sparsely', 'spattered', 'specialized', 'specific', 'speckled', 'spend', 'spending', 'spiky', 'spinner', 'spirit', 'splits', 'spoons', 'spotlights', 'spout', 'squash', 'squirrel', 'squirted', 'squirts', 'stainless', 'stake', 'starfish', 'started', 'steal', 'steals', 'steeplechase', 'steering', 'stem', 'stitch', 'stock', 'stoops', 'stopping', 'stories', 'stout', 'streamers', 'streaming', 'stricken', 'strips', 'struggle', 'strums', 'strung', 'stumbling', 'stunning', 'styled', 'styling', 'stylist', 'subject', 'submerges', 'sucker', 'sunday', 'sunflower', 'super', 'superior', 'supervision', 'supported', 'supports', 'surfboarder', 'surprised', 'sushi', 'suspect', 'suspension', 'sveral', 'swaddled', 'swallowing', 'swamp', 'swans', 'sweat', 'sweatpants', 'sweets', 'swerves', 'swoops', 'swung', 'symphony', 'syrup', 'tackler', 'tae', 'tambourines', 'taped', 'taping', 'targets', 'teachers', 'teaches', 'tear', 'tears', 'tech', 'technical', 'technician', 'teeter', 'tell', 'terminals', 'tests', 'textile', 'thai', 'thatched', 'thing', 'thomas', 'thong', 'thorugh', 'thousands', 'throat', 'throughout', 'thursday', 'tilted', 'tilts', 'tim', 'timber', 'tin', 'tinsel', 'tinted', 'tipped', 'tipping', 'toenails', 'toes', 'toil', 'toll', 'tongues', 'tortillas', 'tote', 'toting', 'trade', 'trading', 'trails', 'transformer', 'travelling', 'traverse', 'treads', 'treatment', 'treed', 'treeless', 'trekking', 'trendy', 'tress', 'trim', 'trinkets', 'troop', 'trooper', 'true', 'tucked', 'tugs', 'turbulent', 'turf', 'turkeys', 'tux', 'twenty', 'twin', 'twins', 'twos', 'u.s.', 'ufc', 'underside', 'unfriendly', 'unkempt', 'unload', 'unwraps', 'upraised', 'upstairs', 'upturned', 'urinal', 'v', 'varied', 'vase', 'vault', 'version', 'vessel', 'victim', 'viewed', 'vikings', 'vine', 'violence', 'violet', 'vision', 'visit', 'visitors', 'voice', 'volcano', 'volunteer', 'vw', 'waffle', 'wagons', 'wakeboarding', 'wakeboards', 'walkman', 'wand', 'wands', 'wanting', 'wants', 'warmers', 'washers', 'watered', 'waterfalls', 'waterproof', 'watery', 'wavy', 'weights', 'welder', 'wells', 'wetland', 'whatever', 'whisking', 'wielding', 'wildfire', 'windowsill', 'winds', 'windsurfer', 'wineglass', 'winks', 'wits', 'wok', 'wondering', 'worked', 'worn', 'worried', 'would', 'wounds', 'wrangle', 'wrench', 'wrestles', 'wristband', 'wrists', 'yells', 'ymca', 'zigzag', 'zooms', 'zune']\n"
     ]
    }
   ],
   "source": [
    "print(TRG.vocab.itos)"
   ]
  },
  {
   "cell_type": "code",
   "execution_count": null,
   "metadata": {
    "colab": {
     "base_uri": "https://localhost:8080/",
     "height": 54
    },
    "colab_type": "code",
    "id": "WVkgBFpqb6SV",
    "outputId": "635aa1e9-73a8-41d6-d7c7-91add9b6b9f7"
   },
   "outputs": [
    {
     "name": "stdout",
     "output_type": "stream",
     "text": [
      "defaultdict(<function _default_unk_index at 0x7fdb1d1ff048>, {'<unk>': 0, '<pad>': 1, '<sos>': 2, '<eos>': 3, '.': 4, 'ein': 5, 'einem': 6, 'in': 7, 'eine': 8, ',': 9, 'und': 10, 'mit': 11, 'auf': 12, 'mann': 13, 'einer': 14, 'der': 15, 'frau': 16, 'die': 17, 'zwei': 18, 'einen': 19, 'im': 20, 'an': 21, 'von': 22, 'sich': 23, 'dem': 24, 'mädchen': 25, 'junge': 26, 'vor': 27, 'zu': 28, 'steht': 29, 'männer': 30, 'sitzt': 31, 'hund': 32, 'den': 33, 'straße': 34, 'während': 35, 'gruppe': 36, 'hält': 37, 'spielt': 38, 'das': 39, 'hemd': 40, 'personen': 41, 'über': 42, 'drei': 43, 'eines': 44, 'frauen': 45, 'blauen': 46, 'neben': 47, 'ist': 48, 'kind': 49, 'roten': 50, 'weißen': 51, 'stehen': 52, 'sitzen': 53, 'menschen': 54, 'am': 55, 'aus': 56, 'spielen': 57, 'durch': 58, 'bei': 59, 'geht': 60, 'trägt': 61, 'fährt': 62, 'wasser': 63, 'um': 64, 'kinder': 65, 'kleines': 66, 'person': 67, 'macht': 68, 'springt': 69, 'kleiner': 70, 'schwarzen': 71, 'entlang': 72, 'leute': 73, 'gehen': 74, 'etwas': 75, 'mehrere': 76, 'seinem': 77, 'großen': 78, 'oberteil': 79, 'jungen': 80, 'hand': 81, 'grünen': 82, 'läuft': 83, 'sind': 84, 'für': 85, 'hintergrund': 86, 'fahrrad': 87, 'freien': 88, 'jacke': 89, 'luft': 90, 'strand': 91, 'ball': 92, 'hat': 93, 'anderen': 94, 'schaut': 95, 'junger': 96, 'kleidung': 97, 'hinter': 98, 'sie': 99, 'nach': 100, 'andere': 101, 'gelben': 102, 'kleine': 103, 'gebäude': 104, 'vier': 105, 'hut': 106, 'tisch': 107, 'wird': 108, 'beim': 109, 'nähe': 110, 'essen': 111, 'kleinen': 112, 'menschenmenge': 113, 'schwarzer': 114, 'kamera': 115, 'paar': 116, 'vorbei': 117, 'gras': 118, 'hoch': 119, 't-shirt': 120, 'hunde': 121, 'boden': 122, 'schnee': 123, 'rennt': 124, 'ihre': 125, 'unter': 126, 'ihren': 127, 'kleid': 128, 'gitarre': 129, 'älterer': 130, 'draußen': 131, 'sein': 132, 'zusammen': 133, 'ihr': 134, 'feld': 135, 'bühne': 136, 'fahren': 137, 'brille': 138, 'seine': 139, 'herum': 140, 'rennen': 141, 'gehweg': 142, 'kopf': 143, 'sehen': 144, 'er': 145, 'blickt': 146, 'dabei': 147, 'foto': 148, 'seinen': 149, 'weißer': 150, 'des': 151, 'stadt': 152, 'braunen': 153, 'hinunter': 154, 'park': 155, 'liegt': 156, 'laufen': 157, 'versucht': 158, 'arbeitet': 159, 'jeans': 160, 'als': 161, 'bank': 162, 'tragen': 163, 'baby': 164, 'dame': 165, 'wie': 166, 'machen': 167, 'große': 168, 'lächelt': 169, 'schauen': 170, 'brauner': 171, 'ihrem': 172, 'schwarz': 173, 'ältere': 174, 'orangefarbenen': 175, 'ihm': 176, 'junges': 177, 'bürgersteig': 178, 'arbeiten': 179, 'hose': 180, 'zeigt': 181, 'sieht': 182, 'spricht': 183, 'liest': 184, 'unterhalten': 185, 'skateboard': 186, 'halten': 187, 'haaren': 188, 'wand': 189, 'weg': 190, 'viele': 191, 'sonnenbrille': 192, 'zum': 193, 'boot': 194, 'pferd': 195, 'gekleidete': 196, 'seiner': 197, 'hosen': 198, 'rosa': 199, 'tag': 200, 'helm': 201, 'weißem': 202, 'grauen': 203, 'singt': 204, 'ihnen': 205, 'blauem': 206, 'gesicht': 207, '„': 208, 'bild': 209, 'mantel': 210, 'auto': 211, 'posiert': 212, 'darauf': 213, 'felsen': 214, 'fußball': 215, 'fünf': 216, 'klettert': 217, 'führt': 218, 'shorts': 219, 'befindet': 220, 'einige': 221, 'sand': 222, 'mikrofon': 223, 'baum': 224, 'blauer': 225, 'schwarzem': 226, 'sehr': 227, 'wirft': 228, 'gekleideter': 229, 'band': 230, 'es': 231, 'weiß': 232, '“': 233, 'blau': 234, 'meer': 235, 'oder': 236, 'rotem': 237, 'isst': 238, 'restaurant': 239, 'wald': 240, 'arbeiter': 241, 'männern': 242, 'schwarze': 243, 'anderer': 244, 'kindern': 245, 'raum': 246, 'wiese': 247, 'fenster': 248, 'langen': 249, 'pullover': 250, 'roter': 251, 'wartet': 252, 'weiße': 253, 'ins': 254, 'anzug': 255, 'bluse': 256, 'gestreiften': 257, 'posieren': 258, 'motorrad': 259, 'haar': 260, 'springen': 261, 'tanzen': 262, 'trikot': 263, 'werden': 264, 'oberkörper': 265, 'voller': 266, 'bereitet': 267, 'stuhl': 268, 'spieler': 269, 'betrachtet': 270, 'rot': 271, 'alter': 272, 'hügel': 273, 'blonde': 274, 'schild': 275, 'zwischen': 276, 'handy': 277, 'oben': 278, 'warten': 279, 'leuten': 280, 'schläft': 281, 'berg': 282, 'zieht': 283, 'ab': 284, 'mütze': 285, 'buch': 286, 'lehnt': 287, 'reitet': 288, 'händen': 289, 'beobachtet': 290, 'maul': 291, 'miteinander': 292, 'stock': 293, 'bäumen': 294, 'fluss': 295, 'ihrer': 296, 'tanzt': 297, 'bauarbeiter': 298, 'kleinkind': 299, 'rucksack': 300, 'arm': 301, 'lächeln': 302, 'schiebt': 303, 'vom': 304, 'befinden': 305, 'gegen': 306, 'haben': 307, 'radfahrer': 308, 'küche': 309, 'see': 310, 'seite': 311, 'spielzeug': 312, 'kurzen': 313, 'schwimmbecken': 314, 'asiatische': 315, 'welle': 316, 'rücken': 317, 'spiel': 318, 'treppe': 319, 'zaun': 320, 'verkauft': 321, 'zur': 322, 'familie': 323, 'fangen': 324, 'jemand': 325, 'mitten': 326, 'trinkt': 327, 'versammelt': 328, 'großer': 329, 'erwachsene': 330, 'rosafarbenen': 331, 'blumen': 332, 'hängt': 333, 'ihn': 334, 'schneidet': 335, 'geschäft': 336, 'gerade': 337, 'markt': 338, 'telefoniert': 339, 'belebten': 340, 'bunten': 341, 'malt': 342, 'spazieren': 343, 'umgeben': 344, 'nimmt': 345, 'reihe': 346, 'blicken': 347, 'gewässer': 348, 'rote': 349, 'schwimmt': 350, 'zug': 351, 'autos': 352, 'bus': 353, 'denen': 354, 'freiem': 355, 'schneebedeckten': 356, 'vielen': 357, 'gekleidet': 358, 'schlägt': 359, 'brücke': 360, 'fuß': 361, 'gebäudes': 362, 'hände': 363, 'mutter': 364, 'sonnigen': 365, 'wagen': 366, 'fliegt': 367, 'himmel': 368, 'publikum': 369, 'bart': 370, 'fußballspieler': 371, 'hebt': 372, 'kämpfen': 373, 'richtung': 374, 'tasche': 375, 'dunklen': 376, 'hemden': 377, 'herunter': 378, 'geländer': 379, 'grünem': 380, 'weste': 381, 'hohen': 382, 'platz': 383, 'asiatischer': 384, 'blondes': 385, 'graffiti': 386, 'haus': 387, 'weißes': 388, 'zuschauer': 389, 'alte': 390, 'kopfbedeckung': 391, 'seil': 392, 'zeitung': 393, 'überqueren': 394, 'mannes': 395, 'hinauf': 396, 'sprung': 397, 'teil': 398, 'zuschauen': 399, 'bereiten': 400, 'musik': 401, 'tritt': 402, 'davon': 403, 'genießt': 404, 'orangen': 405, 'basketball': 406, 'blaue': 407, 'decke': 408, 'hof': 409, 'karierten': 410, 'lacht': 411, 'mittleren': 412, 'sechs': 413, 'shirt': 414, 'benutzt': 415, 'da': 416, 'schirm': 417, 'zuschauern': 418, 'alten': 419, 'fest': 420, 'kunststück': 421, 'mauer': 422, 'menge': 423, 'papier': 424, 'stück': 425, 'einigen': 426, 'großes': 427, 'unterhält': 428, 'alters': 429, 'blick': 430, 'mensch': 431, 'rasen': 432, 'spielplatz': 433, 'zusieht': 434, 'baseballspieler': 435, 'mitte': 436, 'nahe': 437, 'nebeneinander': 438, 'schaukel': 439, 'sofa': 440, 'zuschaut': 441, 'armen': 442, 'lässt': 443, 'nachts': 444, 'trinken': 445, 'bereit': 446, 'fotos': 447, 'lila': 448, 'pool': 449, 'rock': 450, 'typ': 451, 'zusehen': 452, '–': 453, 'augen': 454, 'dach': 455, 'gegenstand': 456, 'gelber': 457, 'hinten': 458, 'versuchen': 459, 'zigarette': 460, 'bier': 461, 'gibt': 462, 'mehreren': 463, 'scheint': 464, 'sonne': 465, 'beobachten': 466, 'mund': 467, 'surfer': 468, 'treten': 469, 'beide': 470, 'flagge': 471, 'fängt': 472, 'kniet': 473, 'nummer': 474, 'outfit': 475, 'raucht': 476, 'schal': 477, 'uniform': 478, 'öffentlichen': 479, 'betrachten': 480, 'ferne': 481, 'nicht': 482, 'schürze': 483, 'stange': 484, 'stufen': 485, 'trikots': 486, 'verschneiten': 487, 'führen': 488, 'liegen': 489, 'wanderer': 490, 'blonden': 491, 'diese': 492, 'erwachsener': 493, 'frisbee': 494, 'gehsteig': 495, 'rotes': 496, 'außerhalb': 497, 'einander': 498, 'holz': 499, 'lachen': 500, 'rampe': 501, 'snowboarder': 502, 'teenager': 503, 'tennisball': 504, 'unten': 505, 'gemüse': 506, 'u-bahn': 507, 'bett': 508, 'greift': 509, 'männliche': 510, 'reden': 511, 'rutscht': 512, 'veranstaltung': 513, 'aufschrift': 514, 'braune': 515, 'bärtiger': 516, 'fotografiert': 517, 'grün': 518, 'hilft': 519, 'kleidern': 520, 'nacht': 521, 'schwarz-weißer': 522, 'beiden': 523, 'hüten': 524, 'sonnenuntergang': 525, 'surft': 526, 'werfen': 527, 'dass': 528, 'gelbe': 529, 'gelbem': 530, 'grüner': 531, 'haare': 532, 'herr': 533, 'kostümen': 534, 'leiter': 535, 'man': 536, 'musiker': 537, 'skifahrer': 538, 'überquert': 539, 'art': 540, 'damen': 541, 'legt': 542, 'nacktem': 543, 'polizisten': 544, 'statue': 545, 'städtischen': 546, 'ufer': 547, 'versammeln': 548, 'zelt': 549, 'basketballspieler': 550, 'blonder': 551, 'erwachsenen': 552, 'maschine': 553, 'nehmen': 554, 'orange': 555, 'tür': 556, 'bar': 557, 'blaues': 558, 'kommt': 559, 'leine': 560, 'mannschaft': 561, 'rutsche': 562, 'tor': 563, 'brunnen': 564, 'genießen': 565, 'guckt': 566, 'pfad': 567, 'polizist': 568, 'schreibt': 569, 'stellt': 570, 'sweatshirt': 571, 'vater': 572, 'westen': 573, 'asiatischen': 574, 'eimer': 575, 'fisch': 576, 'gelb': 577, 'leeren': 578, 'lesen': 579, 'läufer': 580, 'stühlen': 581, 'braut': 582, 'ende': 583, 'feuer': 584, 'gekleideten': 585, 'gestreiftem': 586, 'getränk': 587, 'grill': 588, 'her': 589, 'inmitten': 590, 'kaufen': 591, 'klettern': 592, 'obst': 593, 'ohne': 594, 'regen': 595, 'schlagzeug': 596, 'sprechen': 597, 'streckt': 598, 'umgebung': 599, 'verschiedene': 600, 'wobei': 601, 'badeanzug': 602, 'eis': 603, 'fahrzeug': 604, 'riesigen': 605, 'schuhen': 606, 'schutzhelm': 607, 'schwingt': 608, 'wellen': 609, 'anderes': 610, 'arme': 611, 'gegend': 612, 'gelbes': 613, 'gemeinsam': 614, 'grauem': 615, 'handschuhen': 616, 'instrument': 617, 'motorradfahrer': 618, 'parade': 619, 'parkplatz': 620, 'regenschirm': 621, 'schlagen': 622, 'singen': 623, 'sohn': 624, 'soldaten': 625, 'trick': 626, 'uniformen': 627, 'älteren': 628, 'bergen': 629, 'gebäuden': 630, 'hört': 631, 'jugendlicher': 632, 'kinderwagen': 633, 'korb': 634, 'offenen': 635, 'schwarzes': 636, 'starrt': 637, 'straßenecke': 638, 'straßenrand': 639, '\\xa0': 640, 'arbeit': 641, 'baustelle': 642, 'bereich': 643, 'dieser': 644, 'jagt': 645, 'lächelnd': 646, 'mikrophon': 647, 'pinkfarbenen': 648, 'schoß': 649, 'straßen': 650, 'umarmt': 651, 'zurück': 652, 'computer': 653, 'dunkelhäutiger': 654, 'gleich': 655, 'grüne': 656, 'jacken': 657, 'kostüm': 658, 'krawatte': 659, 'laden': 660, 'orangefarbener': 661, 'pause': 662, 'waren': 663, ' ': 664, '\"': 665, 'kurz': 666, 'repariert': 667, 'schreibtisch': 668, 'volleyball': 669, 'vordergrund': 670, 'alle': 671, 'baseball': 672, 'ganz': 673, 'garten': 674, 'gegeneinander': 675, 'gekleidetes': 676, 'gut': 677, 'konzert': 678, 'kuchen': 679, 'kurzer': 680, 'putzt': 681, 'schatten': 682, 'vogel': 683, 'asiatisches': 684, 'balanciert': 685, 'bedeckt': 686, 'fahrradfahrer': 687, 'fahrrädern': 688, 'grünes': 689, 'jemandem': 690, 'kunden': 691, 'lächelnde': 692, 'pflanzen': 693, 'sandalen': 694, 'verkaufen': 695, 'beugt': 696, 'bikini': 697, 'erde': 698, 'fell': 699, 'gegenüber': 700, 'land': 701, 'lkw': 702, 'netz': 703, 'party': 704, 'pferden': 705, 'setzt': 706, 'stein': 707, 'stiefeln': 708, 'weibliche': 709, 'winkt': 710, 'ziehen': 711, 'dreht': 712, 'einkaufswagen': 713, 'felswand': 714, 'football': 715, 'football-spieler': 716, 'footballspieler': 717, 'fällt': 718, 'glas': 719, 'halsband': 720, 'klassenzimmer': 721, 'mobiltelefon': 722, 'orangefarbenem': 723, 'reiten': 724, 'schiedsrichter': 725, 'schulter': 726, 'schüler': 727, 'snowboard': 728, 'surfbrett': 729, 'wo': 730, 'badehose': 731, 'belebte': 732, 'dessen': 733, 'hellbrauner': 734, 'höhe': 735, 'schlitten': 736, 'schläger': 737, 'team': 738, 'unbefestigten': 739, 'aussieht': 740, 'bein': 741, 'braunem': 742, 'davor': 743, 'durchs': 744, 'kajak': 745, 'kanu': 746, 'leuchtend': 747, 'oberteilen': 748, 'rad': 749, 'redet': 750, 'schuhe': 751, 'schwimmen': 752, 'seines': 753, 'stand': 754, 'was': 755, 'zeigen': 756, 'ecke': 757, 'küssen': 758, 'küsst': 759, 'loch': 760, 'schlange': 761, 'schnauze': 762, 'spiegel': 763, 'tischen': 764, 'verschiedenen': 765, 'asiatisch': 766, 'base': 767, 'bäume': 768, 'farbenfrohen': 769, 'grasbewachsenen': 770, 'hin': 771, 'kreis': 772, 'künstler': 773, 'laptop': 774, 'lilafarbenen': 775, 'mikroskop': 776, 'männlicher': 777, 'rennstrecke': 778, 'schultern': 779, 'schönen': 780, 'seifenblasen': 781, 'skateboarder': 782, 'spaß': 783, 't-shirts': 784, 'taschen': 785, 'telefon': 786, 'tochter': 787, 'akkordeon': 788, 'flasche': 789, 'gepflasterten': 790, 'gerüst': 791, 'haufen': 792, 'kai': 793, 'kirche': 794, 'kocht': 795, 'spielfeld': 796, 'tanktop': 797, 'tasse': 798, 'zimmer': 799, 'aussehende': 800, 'bedient': 801, 'bemalt': 802, 'café': 803, 'farben': 804, 'freunde': 805, 'freunden': 806, 'gegnerischen': 807, 'hellen': 808, 'hunden': 809, 'kappe': 810, 'küste': 811, 'nur': 812, 'parkbank': 813, 'rodeo': 814, 'schaukelt': 815, 'tennis': 816, 'unterwegs': 817, 'beleuchteten': 818, 'bis': 819, 'braun-weißer': 820, 'damit': 821, 'entspannt': 822, 'fleisch': 823, 'gasse': 824, 'geige': 825, 'grauer': 826, 'helmen': 827, 'katze': 828, 'sachen': 829, 'schaufel': 830, 'schutzhelmen': 831, 'schwimmbrille': 832, 'sieben': 833, 'ski': 834, 'stadion': 835, 'steine': 836, 'teich': 837, 'trampolin': 838, 'umarmen': 839, 'violetten': 840, 'berge': 841, 'cowboy': 842, 'hang': 843, 'holt': 844, 'hüpft': 845, 'jongliert': 846, 'kopfhörer': 847, 'langem': 848, 'maske': 849, 'overall': 850, 'rand': 851, 'schlamm': 852, 'schüssel': 853, 'skiern': 854, 'so': 855, 'steigt': 856, 'strecke': 857, 'tänzer': 858, 'verwendet': 859, 'voll': 860, ';': 861, 'barfuß': 862, 'braun': 863, 'couch': 864, 'dunkler': 865, 'feldweg': 866, 'flaggen': 867, 'fotografieren': 868, 'fußballspiel': 869, 'kaffee': 870, 'kauft': 871, 'klippe': 872, 'landschaft': 873, 'lastwagen': 874, 'links': 875, 'lächelnder': 876, 'rechts': 877, 'reifen': 878, 'reparieren': 879, 'roller': 880, 'schießt': 881, 'tanz': 882, 'anzügen': 883, 'asiate': 884, 'aussehender': 885, 'bekommt': 886, 'berührt': 887, 'bläst': 888, 'cowboyhut': 889, 'dunkelhäutige': 890, 'fahnen': 891, 'grillt': 892, 'heben': 893, 'hellblauen': 894, 'hockt': 895, 'instrumenten': 896, 'kopftuch': 897, 'objekt': 898, 'ringen': 899, 'ruht': 900, 'schüttelt': 901, 'sitzende': 902, 'teller': 903, 'verfolgt': 904, 'wandert': 905, 'wüste': 906, 'beinen': 907, 'bilder': 908, 'clown': 909, 'flugzeug': 910, 'geschlossenen': 911, 'handtasche': 912, 'hängen': 913, 'instrumente': 914, 'linken': 915, 'mahlzeit': 916, 'metall': 917, 'nase': 918, 'new': 919, 'personengruppe': 920, 'reinigt': 921, 'springbrunnen': 922, 'veranda': 923, 'überfüllten': 924, 'asiaten': 925, 'asiatin': 926, 'auch': 927, 'bauen': 928, 'blatt': 929, 'diesem': 930, 'felsigen': 931, 'geländemotorrad': 932, 'gezogen': 933, 'gucken': 934, 'hauses': 935, 'heraus': 936, 'hinab': 937, 'marathon': 938, 'müll': 939, 'pinkfarbenem': 940, 'salto': 941, 'tennisspieler': 942, 'traditioneller': 943, 'öffnet': 944, 'üben': 945, 'auftritt': 946, 'balkon': 947, 'dieses': 948, 'fahrräder': 949, 'kann': 950, 'kerl': 951, 'lederjacke': 952, 'nachdem': 953, 'reiter': 954, 'rothaarige': 955, 'schneiden': 956, 'schnell': 957, 'steinen': 958, 'sänger': 959, 'taucht': 960, 'umzug': 961, 'untersucht': 962, 'winterkleidung': 963, 'wäscht': 964, 'zeit': 965, 'allein': 966, 'amerikanische': 967, 'bach': 968, 'bahn': 969, 'beieinander': 970, 'bunte': 971, 'finger': 972, 'gebiet': 973, 'geld': 974, 'gelegt': 975, 'gießt': 976, 'hellbraunen': 977, 'kickt': 978, 'kurve': 979, 'passanten': 980, 'pferde': 981, 'schießen': 982, 'schlafen': 983, 'schlauch': 984, 'sitzender': 985, 'skateboardfahrer': 986, 'teams': 987, 'teppich': 988, 'terrasse': 989, 'tuch': 990, 'vollen': 991, 'weitere': 992, 'wurde': 993, 'wurf': 994, 'zunge': 995, 'zähne': 996, 'übt': 997, 'ausrüstung': 998, 'beton': 999, 'bringt': 1000, 'bräutigam': 1001, 'brünette': 1002, 'büro': 1003, 'frisch': 1004, 'fußgänger': 1005, 'gezeigt': 1006, 'hals': 1007, 'helfen': 1008, 'kampfsport': 1009, 'koch': 1010, 'kommen': 1011, 'nassen': 1012, 'ob': 1013, 'rasiert': 1014, 'steigen': 1015, 'touristen': 1016, 'viel': 1017, 'vollführt': 1018, 'wettkampf': 1019, 'york': 1020, '2': 1021, 'angelt': 1022, 'arbeitskleidung': 1023, 'baumstamm': 1024, 'benutzen': 1025, 'besen': 1026, 'bullen': 1027, 'darunter': 1028, 'geben': 1029, 'getränke': 1030, 'gleitet': 1031, 'grau': 1032, 'hellhäutiger': 1033, 'hinaus': 1034, 'hinterher': 1035, 'hockeyspieler': 1036, 'karren': 1037, 'kissen': 1038, 'kuh': 1039, 'können': 1040, 'lebensmittel': 1041, 'licht': 1042, 'matte': 1043, 'neoprenanzug': 1044, 'paddelt': 1045, 'schreit': 1046, 'schwimmer': 1047, 'schöne': 1048, 'sitzenden': 1049, 'skater': 1050, 'sportler': 1051, 'straßenkünstler': 1052, 'tunnel': 1053, 'wasserfall': 1054, \"'s\": 1055, 'acht': 1056, 'alleine': 1057, 'berges': 1058, 'bewegt': 1059, 'braunhaarige': 1060, 'chinesischen': 1061, 'entfernt': 1062, 'fast': 1063, 'feiern': 1064, 'glücklich': 1065, 'handtuch': 1066, 'jungs': 1067, 'kapuzenpulli': 1068, 'kehrt': 1069, 'kochen': 1070, 'konzentriert': 1071, 'mänteln': 1072, 'nahaufnahme': 1073, 'ort': 1074, 'rechten': 1075, 'rollstuhl': 1076, 'runden': 1077, 'stoff': 1078, 'teleskop': 1079, 'tennisschläger': 1080, 'theke': 1081, 'tier': 1082, 'turnhalle': 1083, 'umher': 1084, 'verkleidet': 1085, 'vorbeigehen': 1086, 'ärmellosen': 1087, 'afrikanische': 1088, 'becher': 1089, 'befestigt': 1090, 'braunes': 1091, 'fahrer': 1092, 'farbe': 1093, 'fläche': 1094, 'folgt': 1095, 'fotograf': 1096, 'gegenstände': 1097, 'gerät': 1098, 'geschäftigen': 1099, 'gewand': 1100, 'gräbt': 1101, 'handstand': 1102, 'indische': 1103, 'jagen': 1104, 'jemanden': 1105, 'kalten': 1106, 'keyboard': 1107, 'lassen': 1108, 'lehnen': 1109, 'lächelndes': 1110, 'offenem': 1111, 'rolltreppe': 1112, 'rot-weißen': 1113, 'sees': 1114, 'stapel': 1115, 'stark': 1116, 'trainiert': 1117, 'verkehr': 1118, 'waldgebiet': 1119, 'weihnachtsbaum': 1120, 'weit': 1121, 'wohnzimmer': 1122, 'angezogen': 1123, 'ballons': 1124, 'baseballkappe': 1125, 'baut': 1126, 'blondem': 1127, 'blätter': 1128, 'bringen': 1129, 'bushaltestelle': 1130, 'daumen': 1131, 'fischen': 1132, 'freund': 1133, 'füßen': 1134, 'gelehnt': 1135, 'gemälde': 1136, 'geschenk': 1137, 'geworfen': 1138, 'hocke': 1139, 'hölzernen': 1140, 'hören': 1141, 'ihres': 1142, 'jugendliche': 1143, 'kahlköpfiger': 1144, 'komplett': 1145, 'kunststücke': 1146, 'nähert': 1147, 'pfütze': 1148, 'rast': 1149, 'schaufelt': 1150, 'schlag': 1151, 'schäferhund': 1152, 'sonnenbrillen': 1153, 'spitze': 1154, 'stehenden': 1155, 'steilen': 1156, 'streichelt': 1157, 'trommel': 1158, 'trägerhemd': 1159, 'weint': 1160, 'werbung': 1161, ':': 1162, 'abend': 1163, 'ausgestreckten': 1164, 'behälter': 1165, 'brust': 1166, 'cheerleader': 1167, 'dreadlocks': 1168, 'dunkelhaarige': 1169, 'eingang': 1170, 'eins': 1171, 'fans': 1172, 'gassi': 1173, 'geparkt': 1174, 'geschirr': 1175, 'goldenen': 1176, 'graffitis': 1177, 'hammer': 1178, 'heißen': 1179, 'hürde': 1180, 'ich': 1181, 'joggen': 1182, 'joggt': 1183, 'jüngeren': 1184, 'kisten': 1185, 'klavier': 1186, 'kletterer': 1187, 'kopfhörern': 1188, 'langhaariger': 1189, 'menschengruppe': 1190, 'motorrädern': 1191, 'pfosten': 1192, 'projekt': 1193, 'pärchen': 1194, 'restaurants': 1195, 'scheinen': 1196, 'schmutzigen': 1197, 'schnurrbart': 1198, 'schwarz-weißen': 1199, 'skatepark': 1200, 'speisen': 1201, 'spritzt': 1202, 'stadtstraße': 1203, 'steinmauer': 1204, 'teilen': 1205, 'vorn': 1206, 'wandbild': 1207, 'wunderschönen': 1208, 'wäsche': 1209, 'zeichnet': 1210, 'zuschauermenge': 1211, '(': 1212, ')': 1213, 'amerikanischen': 1214, 'anlegestelle': 1215, 'bahnsteig': 1216, 'balls': 1217, 'baseballmütze': 1218, 'beschäftigt': 1219, 'bildschirm': 1220, 'bowlingbahn': 1221, 'decken': 1222, 'dies': 1223, 'direkt': 1224, 'e-gitarre': 1225, 'einzelner': 1226, 'fischer': 1227, 'fliegen': 1228, 'flughafen': 1229, 'füße': 1230, 'gelände': 1231, 'gepäck': 1232, 'gesäumten': 1233, 'getränken': 1234, 'hell': 1235, 'hindernis': 1236, 'hula-hoop-reifen': 1237, 'kids': 1238, 'knien': 1239, 'koffer': 1240, 'kreuzung': 1241, 'laub': 1242, 'luftballons': 1243, 'mädchens': 1244, 'nickerchen': 1245, 'nähmaschine': 1246, 'rede': 1247, 'rosafarbenem': 1248, 'rudert': 1249, 'schuh': 1250, 'schutzbrille': 1251, 'seiten': 1252, 'silbernen': 1253, 'soldat': 1254, 'stellen': 1255, 'treffen': 1256, 'typen': 1257, 'vorbeifährt': 1258, 'zeichen': 1259, 'älteres': 1260, 'aber': 1261, 'afrikanischer': 1262, 'amüsieren': 1263, 'angelrute': 1264, 'anhat': 1265, 'arena': 1266, 'aufblasbaren': 1267, 'aufs': 1268, 'balken': 1269, 'bauch': 1270, 'bearbeitet': 1271, 'bedeckten': 1272, 'berühren': 1273, 'blume': 1274, 'bowlingkugel': 1275, 'brett': 1276, 'bänken': 1277, 'bücher': 1278, 'dinge': 1279, 'einkaufszentrum': 1280, 'feuerwehrmänner': 1281, 'fotografen': 1282, 'gang': 1283, 'geblümten': 1284, 'gewässers': 1285, 'graben': 1286, 'heu': 1287, 'hinterhof': 1288, 'hütte': 1289, 'kunstwerk': 1290, 'lachend': 1291, 'marschiert': 1292, 'mithilfe': 1293, 'mountainbike': 1294, 'outfits': 1295, 'pier': 1296, 'regenschirmen': 1297, 'rucksäcken': 1298, 'rädern': 1299, 'schlagzeuger': 1300, 'schule': 1301, 'schwach': 1302, 'schwarz-weiß': 1303, 'socken': 1304, 'steinigen': 1305, 'strohhut': 1306, 'studenten': 1307, 'städtische': 1308, 'trompete': 1309, 'verkauf': 1310, 'violettem': 1311, 'wettbewerb': 1312, 'wänden': 1313, 'ziel': 1314, '!': 1315, 'abendessen': 1316, 'backsteingebäude': 1317, 'beigefarbenen': 1318, 'bestehende': 1319, 'blau-weißen': 1320, 'bluejeans': 1321, 'daneben': 1322, 'dicht': 1323, 'drachen': 1324, 'dreck': 1325, 'dunkelblauen': 1326, 'fahrt': 1327, 'feier': 1328, 'flachen': 1329, 'flüssigkeit': 1330, 'füllt': 1331, 'gegenseitig': 1332, 'geländemotorradfahrer': 1333, 'gespräch': 1334, 'gewehr': 1335, 'gitarrist': 1336, 'grillen': 1337, 'gruppen': 1338, 'herd': 1339, 'hochzeit': 1340, 'jahrmarkt': 1341, 'jüngere': 1342, 'kariertem': 1343, 'kaut': 1344, 'klettergerüst': 1345, 'kopfüber': 1346, 'labor': 1347, 'mannschaften': 1348, 'moped': 1349, 'offenbar': 1350, 'picknicktisch': 1351, 'plattform': 1352, 'rennwagen': 1353, 'richtet': 1354, 'riesige': 1355, 'rollerblades': 1356, 'sandstrand': 1357, 'saxophon': 1358, 'schirmen': 1359, 'schwarz-brauner': 1360, 'schwenkt': 1361, 'schwimmbad': 1362, 'setzen': 1363, 'skulptur': 1364, 'steckt': 1365, 'stift': 1366, 'sucht': 1367, 'teig': 1368, 'wein': 1369, 'zeitschrift': 1370, '3': 1371, 'becken': 1372, 'begutachtet': 1373, 'beißt': 1374, 'bewölkten': 1375, 'brandung': 1376, 'brot': 1377, 'bunt': 1378, 'bunter': 1379, 'dunkelhaariger': 1380, 'eltern': 1381, 'entspannen': 1382, 'fahne': 1383, 'farbenfroher': 1384, 'fegt': 1385, 'feuerwehrmann': 1386, 'findet': 1387, 'frisbeescheibe': 1388, 'fußballfeld': 1389, 'füttert': 1390, 'geldbörse': 1391, 'geschäften': 1392, 'geschäftskleidung': 1393, 'grasfläche': 1394, 'grimasse': 1395, 'herab': 1396, 'hilfe': 1397, 'jeansjacke': 1398, 'kalb': 1399, 'kerzen': 1400, 'lehrer': 1401, 'leicht': 1402, 'lied': 1403, 'malen': 1404, 'noch': 1405, 'orchester': 1406, 'paddeln': 1407, 'parkt': 1408, 'planscht': 1409, 'puck': 1410, 'reinigen': 1411, 'rennauto': 1412, 'robe': 1413, 'rollt': 1414, 'röcken': 1415, 'sanddüne': 1416, 'schlafanzug': 1417, 'schweißt': 1418, 'spielkleidung': 1419, 'sportveranstaltung': 1420, 'sportwagen': 1421, 'stier': 1422, 'straßenhändler': 1423, 'surfboard': 1424, 'sängerin': 1425, 'tafel': 1426, 'tief': 1427, 'trainieren': 1428, 'traktor': 1429, 'treppen': 1430, 'tricks': 1431, 'turnerin': 1432, 'umhang': 1433, 'untersuchen': 1434, 'verlassen': 1435, 'vorne': 1436, 'wandern': 1437, 'waschsalon': 1438, 'wasserflasche': 1439, 'will': 1440, 'afroamerikaner': 1441, 'ast': 1442, 'badewanne': 1443, 'bahnhof': 1444, 'ballon': 1445, 'baumes': 1446, 'beine': 1447, 'bekommen': 1448, 'bespritzt': 1449, 'bewundert': 1450, 'blumenmuster': 1451, 'bogen': 1452, 'braun-schwarzer': 1453, 'bückt': 1454, 'büschen': 1455, 'dazu': 1456, 'diskutieren': 1457, 'eingezäunten': 1458, 'einrad': 1459, 'eishockeyspieler': 1460, 'engen': 1461, 'esel': 1462, 'fahrgeschäft': 1463, 'fallschirm': 1464, 'festhält': 1465, 'flur': 1466, 'fußgängerüberweg': 1467, 'gefüllt': 1468, 'gleichen': 1469, 'graue': 1470, 'hinein': 1471, 'jockey': 1472, 'kapuze': 1473, 'kegel': 1474, 'köpfen': 1475, 'körper': 1476, 'lange': 1477, 'marschieren': 1478, 'maulkorb': 1479, 'messer': 1480, 'mittag': 1481, 'mittagessen': 1482, 'motorroller': 1483, 'motorräder': 1484, 'näht': 1485, 'orangefarbene': 1486, 'palmen': 1487, 'piste': 1488, 'podium': 1489, 'runter': 1490, 'sammelt': 1491, 'scheinbar': 1492, 'schildern': 1493, 'schubkarre': 1494, 'seilen': 1495, 'silhouette': 1496, 'sportkleidung': 1497, 'stehende': 1498, 'stirn': 1499, 'stufe': 1500, 'teenageralter': 1501, 'topf': 1502, 'treibt': 1503, 'turner': 1504, 'verkleidete': 1505, 'verlässt': 1506, 'vielleicht': 1507, 'violine': 1508, 'vorüber': 1509, 'vögel': 1510, 'waldweg': 1511, 'welpen': 1512, 'werkzeug': 1513, 'wettrennen': 1514, 'wischt': 1515, 'zahlreiche': 1516, 'ziegelmauer': 1517, 'überprüft': 1518, 'afroamerikanische': 1519, 'akustikgitarre': 1520, 'asiatinnen': 1521, 'aufführung': 1522, 'aussehenden': 1523, 'baseballspiel': 1524, 'beginnt': 1525, 'bekleidung': 1526, 'bewegen': 1527, 'bibliothek': 1528, 'blättern': 1529, 'cafe': 1530, 'chor': 1531, 'drinnen': 1532, 'einsamer': 1533, 'entlanggeht': 1534, 'fahrrads': 1535, 'farbigen': 1536, 'feiert': 1537, 'fernglas': 1538, 'gegner': 1539, 'gehalten': 1540, 'gehende': 1541, 'geschäfts': 1542, 'gestreiftes': 1543, 'gewändern': 1544, 'glatzköpfiger': 1545, 'gleichzeitig': 1546, 'greifen': 1547, 'grimassen': 1548, 'hier': 1549, 'häusern': 1550, 'indischer': 1551, 'jubeln': 1552, 'kameras': 1553, 'khakifarbenen': 1554, 'kiste': 1555, 'klassenraum': 1556, 'köche': 1557, 'landet': 1558, 'lockigen': 1559, 'london': 1560, 'ländlichen': 1561, 'löffel': 1562, 'mitglieder': 1563, 'moment': 1564, 'neue': 1565, 'neugeborenes': 1566, 'nächsten': 1567, 'plakat': 1568, 'poster': 1569, 'radrennen': 1570, 'rande': 1571, 'reifenschaukel': 1572, 'rettungswesten': 1573, 'rosafarbene': 1574, 'rothaariges': 1575, 'ruhigen': 1576, 'schaufeln': 1577, 'schaufenster': 1578, 'schieben': 1579, 'schmutz': 1580, 'snowboardfahrer': 1581, 'softball': 1582, 'spiels': 1583, 'stangen': 1584, 'starren': 1585, 'statt': 1586, 'stehender': 1587, 'stirnband': 1588, 'tauben': 1589, 'taucher': 1590, 'teilweise': 1591, 'tennisspielerin': 1592, 'the': 1593, 'torhüter': 1594, 'trommeln': 1595, 'verdeckt': 1596, 'verkäufer': 1597, 'vorbeigeht': 1598, 'webt': 1599, 'wendet': 1600, 'zubereitet': 1601, 'zöpfen': 1602, 'abends': 1603, 'achterbahn': 1604, 'asien': 1605, 'aufmerksam': 1606, 'bandana': 1607, 'barfüßige': 1608, 'basketballspiel': 1609, 'bauarbeiten': 1610, 'bilden': 1611, 'brauen': 1612, 'bällen': 1613, 'club': 1614, 'computerbildschirm': 1615, 'deck': 1616, 'elefanten': 1617, 'figur': 1618, 'fingern': 1619, 'floß': 1620, 'flöte': 1621, 'geparkten': 1622, 'gesichtsbemalung': 1623, 'gestikuliert': 1624, 'gewickelt': 1625, 'halstuch': 1626, 'handschuh': 1627, 'hindurch': 1628, 'händler': 1629, 'inlineskates': 1630, 'jubelt': 1631, 'karte': 1632, 'kettensäge': 1633, 'kindes': 1634, 'klatscht': 1635, 'langhaarige': 1636, 'lebensmittelgeschäft': 1637, 'leckt': 1638, 'manche': 1639, 'marktplatz': 1640, 'meeres': 1641, 'mülltonne': 1642, 'mützen': 1643, 'nah': 1644, 'ohr': 1645, 'ohren': 1646, 'olympischen': 1647, 'ozean': 1648, 'papiere': 1649, 'plastiktüte': 1650, 'radfahrern': 1651, 'ring': 1652, 'rosafarbener': 1653, 'schaukeln': 1654, 'schilder': 1655, 'schreiben': 1656, 'schwert': 1657, 'show': 1658, 'sowie': 1659, 'stehend': 1660, 'streicht': 1661, 'streifen': 1662, 'strickmütze': 1663, 'stühle': 1664, 'szene': 1665, 'taxi': 1666, 'trainer': 1667, 'tribüne': 1668, 'u-bahn-station': 1669, 'unbefestigte': 1670, 'verheiratetes': 1671, 'versammlung': 1672, 'vorbereitet': 1673, 'wange': 1674, 'werkstatt': 1675, 'altes': 1676, 'ansieht': 1677, 'aufgestellt': 1678, 'ausgestellt': 1679, 'aussehen': 1680, 'badeanzügen': 1681, 'badezimmer': 1682, 'begleitet': 1683, 'beisammen': 1684, 'beleuchtung': 1685, 'bemalten': 1686, 'betonwand': 1687, 'bewegung': 1688, 'bike': 1689, 'blasen': 1690, 'blau-gelben': 1691, 'booten': 1692, 'braun-weiße': 1693, 'breakdance': 1694, 'computern': 1695, 'cowboys': 1696, 'dorf': 1697, 'dudelsack': 1698, 'dunklem': 1699, 'fallen': 1700, 'feuerwehrleute': 1701, 'freundin': 1702, 'fänger': 1703, 'gebeugt': 1704, 'geräten': 1705, 'gesichtern': 1706, 'gestreifter': 1707, 'geöffneten': 1708, 'glänzenden': 1709, 'gold': 1710, 'golfball': 1711, 'haltung': 1712, 'hart': 1713, 'heißluftballon': 1714, 'hellhäutige': 1715, 'herumstehen': 1716, 'hocker': 1717, 'hockey': 1718, 'hundes': 1719, 'hüte': 1720, 'jackett': 1721, 'karten': 1722, 'kette': 1723, 'kleider': 1724, 'knöpfen': 1725, 'kreide': 1726, 'kunstwerke': 1727, 'köpfe': 1728, 'kümmert': 1729, 'legen': 1730, 'lernt': 1731, 'linie': 1732, 'maschendrahtzaun': 1733, 'mountainbiker': 1734, 'museum': 1735, 'männliches': 1736, 'nebel': 1737, 'nieder': 1738, 'packt': 1739, 'pink': 1740, 'pitcher': 1741, 'produkte': 1742, 'prüft': 1743, 'pudel': 1744, 'putzen': 1745, 'rauch': 1746, 'sandigen': 1747, 'schafe': 1748, 'schiff': 1749, 'schleife': 1750, 'schmuck': 1751, 'schneeanzug': 1752, 'schnitzt': 1753, 'schwimmweste': 1754, 'schüsseln': 1755, 'selbst': 1756, 'sonnenschirm': 1757, 'spaziergang': 1758, 'spielerisch': 1759, 'sprungbrett': 1760, 'suchen': 1761, 'tarnkleidung': 1762, 'traditionellen': 1763, 'trainingsanzug': 1764, 'treiben': 1765, 'treppenstufen': 1766, 'tut': 1767, 'tänzerin': 1768, 'tätowierung': 1769, 'tätowierungen': 1770, 'türen': 1771, 'uhr': 1772, 'vergnügungspark': 1773, 'verschneite': 1774, 'waschbecken': 1775, 'waschen': 1776, 'wassers': 1777, 'watet': 1778, 'welpe': 1779, 'winter': 1780, 'wir': 1781, '2012': 1782, '4': 1783, 'a': 1784, 'abgeworfen': 1785, 'afroamerikanischer': 1786, 'auge': 1787, 'babys': 1788, 'banner': 1789, 'bau': 1790, 'bekleidet': 1791, 'bekleidete': 1792, 'bekleideter': 1793, 'besteht': 1794, 'bietet': 1795, 'blocken': 1796, 'bmx-fahrer': 1797, 'bordstein': 1798, 'bowling': 1799, 'braunhaariger': 1800, 'brettspiel': 1801, 'bälle': 1802, 'city': 1803, 'dock': 1804, 'dritte': 1805, 'drückt': 1806, 'einkaufstasche': 1807, 'eiscreme': 1808, 'entgegen': 1809, 'erklimmen': 1810, 'flaschen': 1811, 'flauschiger': 1812, 'freude': 1813, 'fußballdress': 1814, 'fußgängern': 1815, 'gefüllten': 1816, 'gegenständen': 1817, 'gehender': 1818, 'geländewagen': 1819, 'gemacht': 1820, 'gepunkteten': 1821, 'gesprungen': 1822, 'gläsern': 1823, 'gürtel': 1824, 'hafen': 1825, 'helme': 1826, 'herren': 1827, 'hohe': 1828, 'hoher': 1829, 'holzbank': 1830, 'händchen': 1831, 'indem': 1832, 'innenstadt': 1833, 'japanischen': 1834, 'jeder': 1835, 'jugendlichen': 1836, 'jüngerer': 1837, 'kante': 1838, 'karussell': 1839, 'kerle': 1840, 'kleineren': 1841, 'kleinkinder': 1842, 'laborkittel': 1843, 'langärmeligen': 1844, 'laptops': 1845, 'lebensmitteln': 1846, 'leuchtenden': 1847, 'lieferwagen': 1848, 'löschen': 1849, 'mitarbeiter': 1850, 'muster': 1851, 'männlichen': 1852, 'möglicherweise': 1853, 'namen': 1854, 'netze': 1855, 'oberen': 1856, 'obststand': 1857, 'operation': 1858, 'orientalische': 1859, 'paare': 1860, 'passenden': 1861, 'pferdeschwanz': 1862, 'pinkfarbener': 1863, 'präsentiert': 1864, 'rahmen': 1865, 'ringer': 1866, 'ruhen': 1867, 'rutschen': 1868, 'rückwärts': 1869, 'sammeln': 1870, 'scheibe': 1871, 'schwebt': 1872, 'schütteln': 1873, 'seltsamen': 1874, 'serviert': 1875, 'shirts': 1876, 'silberfarbenen': 1877, 'sport': 1878, 'spärlich': 1879, 'straßenverkäufer': 1880, 'stöcke': 1881, 'stößt': 1882, 'säugling': 1883, 'säulen': 1884, 'süßigkeiten': 1885, 'tablett': 1886, 'tiere': 1887, 'transportiert': 1888, 'turnschuhen': 1889, 'türöffnung': 1890, 'unterschiedlichen': 1891, 'verteilt': 1892, 'verwenden': 1893, 'videospiel': 1894, 'vorderseite': 1895, 'waffe': 1896, 'wasserrutsche': 1897, 'weihnachtsmann': 1898, 'weil': 1899, 'weiter': 1900, 'wette': 1901, 'wirbelt': 1902, 'wunderschöne': 1903, 'zement': 1904, 'örtlichen': 1905, 'überall': 1906, '5': 1907, 'abgebildet': 1908, 'abgestellt': 1909, 'afrikanischen': 1910, 'amüsiert': 1911, 'aneinander': 1912, 'angeboten': 1913, 'angebracht': 1914, 'anhänger': 1915, 'arzt': 1916, 'aufgeregt': 1917, 'aufgereiht': 1918, 'axt': 1919, 'ballerina': 1920, 'baseballschläger': 1921, 'beladen': 1922, 'bergsteiger': 1923, 'bestellen': 1924, 'bevor': 1925, 'biker': 1926, 'bildern': 1927, 'bootes': 1928, 'boxer': 1929, 'deren': 1930, 'dreirad': 1931, 'dämmerung': 1932, 'ebenfalls': 1933, 'eimern': 1934, 'eingeschlafen': 1935, 'ente': 1936, 'entfernung': 1937, 'erdhügel': 1938, 'erreichen': 1939, 'erzeugnisse': 1940, 'filmt': 1941, 'fischt': 1942, 'fliegenden': 1943, 'formt': 1944, 'freizeitpark': 1945, 'fremden': 1946, 'frisbee-scheibe': 1947, 'fröhlich': 1948, 'früchte': 1949, 'fußballmannschaft': 1950, 'gefolgt': 1951, 'gesehen': 1952, 'gitarren': 1953, 'gitarristen': 1954, 'gleisen': 1955, 'größeren': 1956, 'halskette': 1957, 'handschuhe': 1958, 'herkunft': 1959, 'herrn': 1960, 'holzboden': 1961, 'home': 1962, 'karton': 1963, 'kasse': 1964, 'kauert': 1965, 'klappstuhl': 1966, 'klasse': 1967, 'konferenz': 1968, 'kostüme': 1969, 'kran': 1970, 'krankenhaus': 1971, 'kratzt': 1972, 'kugel': 1973, 'kurze': 1974, 'kurzem': 1975, 'körben': 1976, 'lachende': 1977, 'lagerfeuer': 1978, 'landstraße': 1979, 'lasso': 1980, 'leggings': 1981, 'leinwand': 1982, 'liegenden': 1983, 'ließt': 1984, 'locken': 1985, 'luftballon': 1986, 'lächelnden': 1987, 'meisten': 1988, 'menschenansammlung': 1989, 'mischt': 1990, 'motorhaube': 1991, 'mülleimer': 1992, 'namens': 1993, 'nasser': 1994, 'niedrigen': 1995, 'obdachloser': 1996, 'ofen': 1997, 'oranger': 1998, 'overalls': 1999, 'partie': 2000, 'perlen': 2001, 'pflanze': 2002, 'präsentation': 2003, 'puppe': 2004, 'rechte': 2005, 'regnerischen': 2006, 'richtungen': 2007, 'rückseite': 2008, 'rücksitz': 2009, 'schlauchboot': 2010, 'schminkt': 2011, 'schneeschuhen': 2012, 'schneit': 2013, 'schulkinder': 2014, 'schutzausrüstung': 2015, 'schutzkleidung': 2016, 'schwarzhaarige': 2017, 'schwingen': 2018, 'sicht': 2019, 'sieg': 2020, 'soll': 2021, 'spring': 2022, 'staubigen': 2023, 'stelzen': 2024, 'stolz': 2025, 'strecken': 2026, 'streichen': 2027, 'stöcken': 2028, 'surfen': 2029, 'swimmingpool': 2030, 'säule': 2031, 'teilnehmer': 2032, 'texas': 2033, 'tracht': 2034, 'trifft': 2035, 'turban': 2036, 'ungewöhnlichen': 2037, 'unordentlichen': 2038, 'unterrichtet': 2039, 'unterwäsche': 2040, 'vergnügt': 2041, 'vorrichtung': 2042, 'vortrag': 2043, 'webstuhl': 2044, 'windhund': 2045, 'ziegelsteinen': 2046, 'ziegelwand': 2047, 'ziellinie': 2048, 'zylinder': 2049, 'öffentlichkeit': 2050, 'übergewichtiger': 2051, 'amerikanischer': 2052, 'ampel': 2053, 'angezogener': 2054, 'anhaben': 2055, 'apfel': 2056, 'asiat': 2057, 'attraktive': 2058, 'aufnahme': 2059, 'ausgestreckt': 2060, 'ausgezogen': 2061, 'aussehendes': 2062, 'aussicht': 2063, 'autobahn': 2064, 'außenbereich': 2065, 'bad': 2066, 'banjo': 2067, 'bauernmarkt': 2068, 'bedienen': 2069, 'bedruckten': 2070, 'befahrenen': 2071, 'begeisterung': 2072, 'beleuchtet': 2073, 'besucht': 2074, 'betrachter': 2075, 'betreten': 2076, 'bewaldeten': 2077, 'bildes': 2078, 'bindet': 2079, 'board': 2080, 'boxen': 2081, 'bruder': 2082, 'bzw.': 2083, 'cello': 2084, 'chinesische': 2085, 'clowns': 2086, 'dahinter': 2087, 'daran': 2088, 'darbietung': 2089, 'darin': 2090, 'diesen': 2091, 'dribbelt': 2092, 'dritten': 2093, 'dritter': 2094, 'einkaufen': 2095, 'einkaufstüten': 2096, 'elektrischen': 2097, 'entfernen': 2098, 'erhobenen': 2099, 'erleuchteten': 2100, 'essensstand': 2101, 'etwa': 2102, 'experiment': 2103, 'fahrzeuge': 2104, 'fass': 2105, 'fasst': 2106, 'felsbrocken': 2107, 'felsvorsprung': 2108, 'fenstern': 2109, 'fertig': 2110, 'festgebunden': 2111, 'feuerwehrauto': 2112, 'fische': 2113, 'fischernetz': 2114, 'flipflops': 2115, 'flusses': 2116, 'flussufer': 2117, 'flügeln': 2118, 'formeller': 2119, 'frisur': 2120, 'füllen': 2121, 'gegnerische': 2122, 'gelangen': 2123, 'geschnitten': 2124, 'geschwindigkeit': 2125, 'gespannt': 2126, 'getroffen': 2127, 'geöffnet': 2128, 'golf': 2129, 'heller': 2130, 'herbst': 2131, 'heruntergekommenen': 2132, 'hinterbeinen': 2133, 'hohem': 2134, 'hohes': 2135, 'holen': 2136, 'holzzaun': 2137, 'hoodie': 2138, 'hula-hoop': 2139, 'hübsche': 2140, 'hübschen': 2141, 'irokesenschnitt': 2142, 'jeep': 2143, 'jeweils': 2144, 'kampf': 2145, 'kapuzenpullover': 2146, 'karohemd': 2147, 'kartons': 2148, 'klaren': 2149, 'kneipe': 2150, 'knie': 2151, 'kopfschmuck': 2152, 'kreuz': 2153, 'kricket': 2154, 'lampe': 2155, 'laufbahn': 2156, 'lippen': 2157, 'los': 2158, 'maler': 2159, 'maschinen': 2160, 'mitglied': 2161, 'musikgruppe': 2162, 'musikinstrumente': 2163, 'mäht': 2164, 'namensschild': 2165, 'nass': 2166, 'oberfläche': 2167, 'orangefarbenes': 2168, 'orientalisch': 2169, 'parcours': 2170, 'passiert': 2171, 'patienten': 2172, 'plate': 2173, 'platte': 2174, 'protestiert': 2175, 'pullunder': 2176, 'rasenfläche': 2177, 'rauchen': 2178, 'regenmantel': 2179, 'reihen': 2180, 'reklametafel': 2181, 'rennens': 2182, 'rohr': 2183, 'rudern': 2184, 'röhre': 2185, 'sauber': 2186, 'saxofon': 2187, 'schach': 2188, 'schachtel': 2189, 'schlagmann': 2190, 'schlammigen': 2191, 'schlendert': 2192, 'schneebedeckte': 2193, 'schneebedecktes': 2194, 'schnur': 2195, 'schwarz-weiße': 2196, 'schwarz-weißem': 2197, 'schürzen': 2198, 'schützen': 2199, 'schützt': 2200, 'segelboot': 2201, 'seichten': 2202, 'sessel': 2203, 'sicherheitsweste': 2204, 'skateboards': 2205, 'spaziert': 2206, 'stab': 2207, 'station': 2208, 'steile': 2209, 'steintreppe': 2210, 'strands': 2211, 'straßenarbeiter': 2212, 'straßenmusiker': 2213, 'straßenseite': 2214, 'stromschnellen': 2215, 'stürzt': 2216, 'tagsüber': 2217, 'tanzfläche': 2218, 'tee': 2219, 'teilnehmen': 2220, 'top': 2221, 'treppenhaus': 2222, 'tätowierte': 2223, 'umringt': 2224, 'uniformierte': 2225, 'uniformierter': 2226, 'unteren': 2227, 'vergnügen': 2228, 'verzierten': 2229, 'violett': 2230, 'vorführt': 2231, 'völlig': 2232, 'warm': 2233, 'warmen': 2234, 'wasserfläche': 2235, 'wasserski': 2236, 'weiteren': 2237, 'wenn': 2238, 'werfer': 2239, 'würde': 2240, 'zauns': 2241, 'ähnlich': 2242, 'öffnen': 2243, 'überprüfen': 2244, 'altmodischen': 2245, 'angehalten': 2246, 'angezogene': 2247, 'ansehen': 2248, 'anweisungen': 2249, 'anzahl': 2250, 'arbeitern': 2251, 'aufblasbare': 2252, 'aufzug': 2253, 'auslage': 2254, 'backsteinmauer': 2255, 'baseballfeld': 2256, 'beachvolleyball': 2257, 'begeistert': 2258, 'beißen': 2259, 'bestehend': 2260, 'betet': 2261, 'betonmauer': 2262, 'blaskapelle': 2263, 'blau-grünen': 2264, 'blockt': 2265, 'bockenden': 2266, 'bord': 2267, 'breiten': 2268, 'brennende': 2269, 'brillen': 2270, 'buchstaben': 2271, 'busses': 2272, 'bündel': 2273, 'bürstet': 2274, 'china': 2275, 'darüber': 2276, 'dekoriert': 2277, 'demonstranten': 2278, 'dicken': 2279, 'dieselbe': 2280, 'dunkelheit': 2281, 'eingewickelt': 2282, 'einiger': 2283, 'eishockey': 2284, 'elektronischen': 2285, 'erhält': 2286, 'erklimmt': 2287, 'esstisch': 2288, 'europa': 2289, 'fabrik': 2290, 'fahrradhelm': 2291, 'fahrzeugen': 2292, 'faulenzen': 2293, 'fels': 2294, 'fernsehen': 2295, 'fernseher': 2296, 'feuerstelle': 2297, 'figuren': 2298, 'fliege': 2299, 'flip-flops': 2300, 'flugzeugs': 2301, 'folgen': 2302, 'fontäne': 2303, 'footballspiel': 2304, 'forscher': 2305, 'frischem': 2306, 'fußgängerübergang': 2307, 'fächer': 2308, 'garage': 2309, 'gehstock': 2310, 'gelb-schwarzen': 2311, 'geldautomaten': 2312, 'gelegenen': 2313, 'gepflasterte': 2314, 'gericht': 2315, 'geschmückt': 2316, 'gespielt': 2317, 'gewinnen': 2318, 'gießen': 2319, 'gipfel': 2320, 'glatze': 2321, 'gleichgewicht': 2322, 'grünfläche': 2323, 'halle': 2324, 'hamburger': 2325, 'handys': 2326, 'hause': 2327, 'hellgrünen': 2328, 'heraushängender': 2329, 'hochstuhl': 2330, 'hockeyspiel': 2331, 'holzkonstruktion': 2332, 'horizont': 2333, 'hosenträgern': 2334, 'hängematte': 2335, 'hüfte': 2336, 'indien': 2337, 'irgendeinem': 2338, 'jockeys': 2339, 'john': 2340, 'kajakfahrer': 2341, 'kampfsportler': 2342, 'karate': 2343, 'kies': 2344, 'kompletter': 2345, 'kopfbedeckungen': 2346, 'kämpft': 2347, 'ladefläche': 2348, 'laster': 2349, 'legerer': 2350, 'lernen': 2351, 'lokal': 2352, 'läuferin': 2353, 'marathonläufer': 2354, 'meißelt': 2355, 'metallstange': 2356, 'mitspieler': 2357, 'muskulöser': 2358, 'möchte': 2359, 'nahen': 2360, 'natur': 2361, 'of': 2362, 'orientalischer': 2363, 'osten': 2364, 'ozeans': 2365, 'passagiere': 2366, 'passt': 2367, 'peace-zeichen': 2368, 'pfanne': 2369, 'pfeil': 2370, 'pilot': 2371, 'pizza': 2372, 'polohemd': 2373, 'probiert': 2374, 'richten': 2375, 'rikscha': 2376, 'rollen': 2377, 'rosaroten': 2378, 'rostigen': 2379, 'rot-schwarzen': 2380, 'rothaariger': 2381, 'ruder': 2382, 'rugbyspieler': 2383, 'ruhig': 2384, 'rührt': 2385, 'sandburg': 2386, 'sandwich': 2387, 'saugt': 2388, 'schachteln': 2389, 'schaf': 2390, 'schlucht': 2391, 'schmalen': 2392, 'schnappt': 2393, 'schnüffelt': 2394, 'schwenken': 2395, 'schwere': 2396, 'schöner': 2397, 'seifenblase': 2398, 'servieren': 2399, 'sicherheitswesten': 2400, 'silberne': 2401, 'skatet': 2402, 'smoking': 2403, 'soeben': 2404, 'sommertag': 2405, 'sonnenlicht': 2406, 'spiegelbild': 2407, 'spielsachen': 2408, 'sporthalle': 2409, 'spritzen': 2410, 'sprüht': 2411, 'späht': 2412, 'stadtpark': 2413, 'stativ': 2414, 'staub': 2415, 'steinbank': 2416, 'stiefel': 2417, 'straßenfest': 2418, 'straßenszene': 2419, 'strumpfhose': 2420, 'studio': 2421, 'stunt': 2422, 'sägt': 2423, 'tal': 2424, 'tattoo': 2425, 'taube': 2426, 'teenagern': 2427, 'telefonieren': 2428, 'telefonzelle': 2429, 'tennisplatz': 2430, 'times': 2431, 'tomaten': 2432, 'ton': 2433, 'trockenen': 2434, 'tun': 2435, 'turm': 2436, 'tüten': 2437, 'umgebenen': 2438, 'unterhemd': 2439, 'usa': 2440, 'verkaufsstand': 2441, 'verschieden': 2442, 'verschränkten': 2443, 'vorderen': 2444, 'vorführung': 2445, 'vorsichtig': 2446, 'vögeln': 2447, 'wachmann': 2448, 'waschmaschine': 2449, 'wasserbecken': 2450, 'wassersprenger': 2451, 'weiterer': 2452, 'wildnis': 2453, 'windhunde': 2454, 'wolken': 2455, 'wollmütze': 2456, 'yoga': 2457, 'zahnbürste': 2458, 'zeitschriften': 2459, 'zelten': 2460, 'zeremonie': 2461, 'ziegelbau': 2462, 'ziegelgebäude': 2463, 'zuhause': 2464, 'zuhört': 2465, '?': 2466, 'absperrung': 2467, 'afrikaner': 2468, 'afroamerikanisches': 2469, 'aktentasche': 2470, 'albern': 2471, 'alkohol': 2472, 'aller': 2473, 'anderem': 2474, 'angefeuert': 2475, 'angeln': 2476, 'ansicht': 2477, 'anzusehen': 2478, 'aufeinander': 2479, 'ausgebreitet': 2480, 'ausgebreiteten': 2481, 'ausstellung': 2482, 'backflip': 2483, 'backsteinstraße': 2484, 'badehosen': 2485, 'badekappe': 2486, 'barfüßiger': 2487, 'baskenmütze': 2488, 'basketballfeld': 2489, 'baumstumpf': 2490, 'baumstämmen': 2491, 'bauwerk': 2492, 'beginn': 2493, 'begriff': 2494, 'berglandschaft': 2495, 'beten': 2496, 'betonstufen': 2497, 'beutel': 2498, 'binden': 2499, 'blazer': 2500, 'bleiben': 2501, 'bleibt': 2502, 'blondhaariger': 2503, 'bohrmaschine': 2504, 'boote': 2505, 'braunhaariges': 2506, 'brautjungfern': 2507, 'brennenden': 2508, 'burgunderroten': 2509, 'cheerleaderin': 2510, 'cheerleadern': 2511, 'chinesischer': 2512, 'demonstration': 2513, 'denkt': 2514, 'deutsche': 2515, 'dirigiert': 2516, 'dose': 2517, 'dosen': 2518, 'drink': 2519, 'dunkel': 2520, 'dünnen': 2521, 'eier': 2522, 'einfachen': 2523, 'einheimischer': 2524, 'einkaufstaschen': 2525, 'einkäufer': 2526, 'einsamen': 2527, 'eislaufen': 2528, 'enten': 2529, 'entweder': 2530, 'ereignis': 2531, 'fackel': 2532, 'fahrzeugs': 2533, 'farbige': 2534, 'fassade': 2535, 'faulenzt': 2536, 'felsens': 2537, 'felsklippe': 2538, 'fischmarkt': 2539, 'flammen': 2540, 'fliesen': 2541, 'football-spiel': 2542, 'footballfeld': 2543, 'friedenszeichen': 2544, 'frische': 2545, 'frischen': 2546, 'friseur': 2547, 'fröhliche': 2548, 'ganzen': 2549, 'gefallen': 2550, 'gefangen': 2551, 'gefleckter': 2552, 'geflochtenen': 2553, 'geldbeutel': 2554, 'gemusterten': 2555, 'gesichtsausdruck': 2556, 'gestreifte': 2557, 'gesäumte': 2558, 'getragen': 2559, 'getreide': 2560, 'gletscher': 2561, 'glückliche': 2562, 'golden': 2563, 'habseligkeiten': 2564, 'hacken': 2565, 'hackt': 2566, 'halb': 2567, 'handtaschen': 2568, 'handwerker': 2569, 'haut': 2570, 'hervor': 2571, 'herzen': 2572, 'hinteren': 2573, 'hinweg': 2574, 'historischen': 2575, 'hochhackigen': 2576, 'hochzuklettern': 2577, 'hocken': 2578, 'holzbrett': 2579, 'horn': 2580, 'hotel': 2581, 'huhn': 2582, 'hundespielzeug': 2583, 'hüpfen': 2584, 'innenraum': 2585, 'interagieren': 2586, 'irgendeiner': 2587, 'irgendwo': 2588, 'jeansshorts': 2589, 'kabine': 2590, 'kaffeetasse': 2591, 'kajaks': 2592, 'kamel': 2593, 'kameramann': 2594, 'kamm': 2595, 'kanus': 2596, 'karierter': 2597, 'kehren': 2598, 'kellner': 2599, 'khakifarbener': 2600, 'kilt': 2601, 'konstruktion': 2602, 'kontrolle': 2603, 'kostümierte': 2604, 'krabbelt': 2605, 'kraft': 2606, 'kunstgalerie': 2607, 'käfig': 2608, 'kümmern': 2609, 'kürbis': 2610, 'ladens': 2611, 'lampen': 2612, 'langes': 2613, 'laternen': 2614, 'laufband': 2615, 'lebensmittelmarkt': 2616, 'leitet': 2617, 'lilafarbener': 2618, 'linke': 2619, 'lädt': 2620, 'mehr': 2621, 'mehrfarbigen': 2622, 'motocrossfahrer': 2623, 'motor': 2624, 'musikinstrument': 2625, 'musikinstrumenten': 2626, 'muss': 2627, 'möwen': 2628, 'müllcontainer': 2629, 'nassem': 2630, 'neuen': 2631, 'nummern': 2632, 'objekte': 2633, 'palme': 2634, 'papa': 2635, 'parken': 2636, 'passagieren': 2637, 'pfadfinder': 2638, 'pfeife': 2639, 'pflasterstraße': 2640, 'pinsel': 2641, 'pistole': 2642, 'pizzeria': 2643, 'plüschtier': 2644, 'porträt': 2645, 'probieren': 2646, 'pullovern': 2647, 'pult': 2648, 'quarterback': 2649, 'randstein': 2650, 'reflektierenden': 2651, 'regelt': 2652, 'regnet': 2653, 'reicht': 2654, 'ringkampf': 2655, 'rockband': 2656, 'rodeoreiter': 2657, 'ruderboot': 2658, 'sack': 2659, 'sandhügel': 2660, 'schals': 2661, 'schenkt': 2662, 'schlafend': 2663, 'schlafendes': 2664, 'schleift': 2665, 'schlittschuhen': 2666, 'schuss': 2667, 'schutt': 2668, 'schwebebalken': 2669, 'segelt': 2670, 'seichtem': 2671, 'sims': 2672, 'sitz': 2673, 'smartphone': 2674, 'snack': 2675, 'sortiert': 2676, 'spielenden': 2677, 'spielern': 2678, 'spielers': 2679, 'square': 2680, 'st.': 2681, 'stadtszene': 2682, 'staffelei': 2683, 'stammeskleidung': 2684, 'startlinie': 2685, 'steuert': 2686, 'stil': 2687, 'straßenrennen': 2688, 'student': 2689, 'supermarkt': 2690, 'säge': 2691, 'säubert': 2692, 'tankstelle': 2693, 'tauziehen': 2694, 'teilt': 2695, 'tippt': 2696, 'traditionelle': 2697, 'tropischen': 2698, 'trottet': 2699, 'trüben': 2700, 'türkisen': 2701, 'u-bahnstation': 2702, 'umzäunten': 2703, 'uns': 2704, 'untergrund': 2705, 'versteckt': 2706, 'versuch': 2707, 'verteidiger': 2708, 'violetter': 2709, 'vogelperspektive': 2710, 'volleyballspieler': 2711, 'voran': 2712, 'vorstellung': 2713, 'waffel': 2714, 'wahrscheinlich': 2715, 'wanne': 2716, 'war': 2717, 'warnweste': 2718, 'wassermelonen': 2719, 'wasserstraße': 2720, 'weiblichen': 2721, 'wetter': 2722, 'wieder': 2723, 'wilden': 2724, 'winterjacke': 2725, 'wintertag': 2726, 'wippe': 2727, 'xylophon': 2728, 'zahl': 2729, 'zeichnen': 2730, 'ziege': 2731, 'ziegel': 2732, 'zielt': 2733, 'zigarre': 2734, 'zurecht': 2735, 'zweite': 2736, '-': 2737, '10': 2738, 'abgedunkelten': 2739, 'abgesperrten': 2740, 'akustische': 2741, 'amboss': 2742, 'anschauen': 2743, 'anschaut': 2744, 'aquarium': 2745, 'aufgeblasenen': 2746, 'aufgenommen': 2747, 'aufhat': 2748, 'aufmerksamkeit': 2749, 'aufrecht': 2750, 'aufschlag': 2751, 'aufwärmen': 2752, 'ausschau': 2753, 'auswahl': 2754, 'autositz': 2755, 'außen': 2756, 'badekleidung': 2757, 'bagger': 2758, 'bahngleisen': 2759, 'balgen': 2760, 'bandmitglieder': 2761, 'baseballkleidung': 2762, 'baums': 2763, 'beamte': 2764, 'bedeckter': 2765, 'beendet': 2766, 'befahrene': 2767, 'befindlichen': 2768, 'begutachten': 2769, 'beigen': 2770, 'bestellt': 2771, 'besuchen': 2772, 'beteiligt': 2773, 'betonbank': 2774, 'betonplatte': 2775, 'bikini-oberteil': 2776, 'bikinis': 2777, 'billard': 2778, 'blumenstrauß': 2779, 'blühenden': 2780, 'bohrt': 2781, 'bordsteinkante': 2782, 'braun-weißen': 2783, 'bricht': 2784, 'bulle': 2785, 'bullenreiter': 2786, 'buntem': 2787, 'buntes': 2788, 'bücherregal': 2789, 'bürste': 2790, 'day': 2791, 'dekorationen': 2792, 'dekorativen': 2793, 'dekorierten': 2794, 'deutscher': 2795, 'digitalkamera': 2796, 'dj': 2797, 'dreiköpfige': 2798, 'dress': 2799, 'du': 2800, 'dunkeln': 2801, 'durchsucht': 2802, 'ei': 2803, 'einkaufspassage': 2804, 'einsatz': 2805, 'einzelne': 2806, 'einzufangen': 2807, 'eisbahn': 2808, 'eiswaffeln': 2809, 'eiswagen': 2810, 'eng': 2811, 'engel': 2812, 'erreicht': 2813, 'erwischt': 2814, 'essend': 2815, 'essenswagen': 2816, 'eventuell': 2817, 'fahrenden': 2818, 'fahrradrennen': 2819, 'farbenfroh': 2820, 'farbenfrohe': 2821, 'fasziniert': 2822, 'fechten': 2823, 'feuert': 2824, 'feuerwerk': 2825, 'filzhut': 2826, 'fitnessstudio': 2827, 'freizeitkleidung': 2828, 'freut': 2829, 'fröhliches': 2830, 'fußballspielen': 2831, 'fußballteam': 2832, 'fußballteams': 2833, 'fußballtrikot': 2834, 'fußgängerbrücke': 2835, 'fußweg': 2836, 'füttern': 2837, 'garn': 2838, 'gebaut': 2839, 'gefahren': 2840, 'gegenüberliegenden': 2841, 'gehoben': 2842, 'gehwegs': 2843, 'gehüllt': 2844, 'gelbbrauner': 2845, 'genau': 2846, 'geradeaus': 2847, 'gerichtet': 2848, 'geschminkt': 2849, 'geschminkten': 2850, 'geschrieben': 2851, 'geschäftige': 2852, 'gesenktem': 2853, 'gesichter': 2854, 'gesichts': 2855, 'gewehren': 2856, 'geöffnetem': 2857, 'glastür': 2858, 'gleis': 2859, 'glückliches': 2860, 'goldfarbenen': 2861, 'golfplatz': 2862, 'großstadt': 2863, 'grün-weißen': 2864, 'gürteln': 2865, 'haken': 2866, 'haltend': 2867, 'helle': 2868, 'hellgelben': 2869, 'hemdbluse': 2870, 'herz': 2871, 'hindernisparcours': 2872, 'hochgehoben': 2873, 'hochhält': 2874, 'hochspringt': 2875, 'hochzeitskleidung': 2876, 'hochzeitstorte': 2877, 'holztisch': 2878, 'hotdogs': 2879, 'hubschrauber': 2880, 'hydranten': 2881, 'hörsaal': 2882, 'hüpfburg': 2883, 'inhalt': 2884, 'inline': 2885, 'innenhof': 2886, 'inspizieren': 2887, 'inspiziert': 2888, 'ipod': 2889, 'irgendetwas': 2890, 'japan': 2891, 'jogger': 2892, 'jüngeres': 2893, 'kabel': 2894, 'kabeln': 2895, 'kaninchen': 2896, 'karateanzug': 2897, 'karateanzügen': 2898, 'kartenspiel': 2899, 'kathedrale': 2900, 'kegeln': 2901, 'keine': 2902, 'khakihose': 2903, 'kicken': 2904, 'kiefern': 2905, 'kittel': 2906, 'klappstühlen': 2907, 'kleinere': 2908, 'konfetti': 2909, 'kopfsteinpflasterstraße': 2910, 'kragen': 2911, 'krankenschwestern': 2912, 'kunde': 2913, 'kunst': 2914, 'kunstvollen': 2915, 'körbe': 2916, 'küchentresen': 2917, 'lacrosse': 2918, 'landkarte': 2919, 'lauf': 2920, 'liegende': 2921, 'liegestühlen': 2922, 'limousine': 2923, 'lippenstift': 2924, 'marineblauen': 2925, 'maulkörben': 2926, 'mehrfarbige': 2927, 'metallzaun': 2928, 'mikrofone': 2929, 'mikrofonen': 2930, 'mindestens': 2931, 'modell': 2932, 'modellflugzeug': 2933, 'modernen': 2934, 'monopoly': 2935, 'mopp': 2936, 'motocross-fahrer': 2937, 'motorradfahrern': 2938, 'musikern': 2939, 'möbelstück': 2940, 'mülltüte': 2941, 'nachbarschaft': 2942, 'nachmittag': 2943, 'nachtclub': 2944, 'nackte': 2945, 'nackten': 2946, 'nackter': 2947, 'nacktes': 2948, 'nasse': 2949, 'neun': 2950, 'nichts': 2951, 'notizen': 2952, 'näher': 2953, 'obwohl': 2954, 'ochsen': 2955, 'offener': 2956, 'packen': 2957, 'parasailing': 2958, 'pass': 2959, 'perücke': 2960, 'pflückt': 2961, 'pinken': 2962, 'platziert': 2963, 'polizei': 2964, 'pony': 2965, 'popcorn': 2966, 'pose': 2967, 'position': 2968, 'produkt': 2969, 'professor': 2970, 'promenade': 2971, 'punkten': 2972, 'puppen': 2973, 'pyramide': 2974, 'quad': 2975, 'radrennfahrer': 2976, 'rasenmäher': 2977, 'rauchend': 2978, 'raufen': 2979, 'rennfahrer': 2980, 'rollern': 2981, 'rot-schwarzer': 2982, 'rot-weiß': 2983, 'rot-weißes': 2984, 'rothaarigen': 2985, 'ruft': 2986, 'ruhigem': 2987, 'saal': 2988, 'saiteninstrument': 2989, 'schale': 2990, 'schaufensterfront': 2991, 'schaulustige': 2992, 'schippt': 2993, 'schlafzimmer': 2994, 'schlecht': 2995, 'schlendern': 2996, 'schlittschuh': 2997, 'schmetterling': 2998, 'schmettert': 2999, 'schmutziges': 3000, 'schnuller': 3001, 'schotterstraße': 3002, 'schotterweg': 3003, 'schritt': 3004, 'schwanz': 3005, 'schwarz-braune': 3006, 'schwarz-braunen': 3007, 'schwarz-roten': 3008, 'schwarzweißer': 3009, 'schweren': 3010, 'schwimmflügeln': 3011, 'schwimmwesten': 3012, 'schält': 3013, 'schülern': 3014, 'seilspringen': 3015, 'seitenlinie': 3016, 'seitlich': 3017, 'skateboardpark': 3018, 'sms': 3019, 'sorgfältig': 3020, 'spazierstock': 3021, 'speer': 3022, 'speisekarte': 3023, 'spielerin': 3024, 'spielzeugauto': 3025, 'spielzeuge': 3026, 'spült': 3027, 'steg': 3028, 'stelle': 3029, 'stern': 3030, 'strandpromenade': 3031, 'straßenmarkt': 3032, 'strickt': 3033, 'struktur': 3034, 'studiert': 3035, 'stöbern': 3036, 'stücke': 3037, 'tackelt': 3038, 'taucheranzug': 3039, 'teenagerin': 3040, 'teilnimmt': 3041, 'tempel': 3042, 'tennisschuhen': 3043, 'thema': 3044, 'tiefen': 3045, 'tischdecke': 3046, 'trenchcoat': 3047, 'trocknet': 3048, 'tänzerinnen': 3049, 'tänzern': 3050, 'tätowierter': 3051, 'türkisfarbenen': 3052, 'ufers': 3053, 'umgestürzten': 3054, 'umhängen': 3055, 'unaufgeräumten': 3056, 'untergeht': 3057, 'unterschiedlicher': 3058, 'verfolgen': 3059, 'verkleideter': 3060, 'verlassenen': 3061, 'verlegt': 3062, 'verteilen': 3063, 'verärgert': 3064, 'video': 3065, 'videokamera': 3066, 'videospiele': 3067, 'volleyballspiel': 3068, 'vorbeifahren': 3069, 'wakeboard': 3070, 'wanderweg': 3071, 'wandmalerei': 3072, 'warnwesten': 3073, 'wegen': 3074, 'weihnachten': 3075, 'weihnachtsmannkostüm': 3076, 'weinendes': 3077, 'weiß-schwarzer': 3078, 'weißhaariger': 3079, 'wenig': 3080, 'werkzeugen': 3081, 'wettlauf': 3082, 'wiegt': 3083, 'wohnung': 3084, 'wurden': 3085, 'wählt': 3086, 'wände': 3087, 'wäre': 3088, 'zebrastreifen': 3089, 'zeitungen': 3090, 'zelte': 3091, 'zuckerwatte': 3092, 'zutaten': 3093, 'zähnen': 3094, 'zündet': 3095, 'ärmellosem': 3096, 'überblickt': 3097, 'überdachten': 3098, '&': 3099, \"'\": 3100, '6': 3101, 'abhang': 3102, 'abstammung': 3103, 'afroamerikanerin': 3104, 'angel': 3105, 'angemaltem': 3106, 'ans': 3107, 'ansammlung': 3108, 'anscheinend': 3109, 'anzugreifen': 3110, 'anzuziehen': 3111, 'arbeitende': 3112, 'artikel': 3113, 'asphalt': 3114, 'aufgabe': 3115, 'aufgeregte': 3116, 'ausflug': 3117, 'ausgestrecktem': 3118, 'auszeichnung': 3119, 'außenseite': 3120, 'außerdem': 3121, 'babyschaukel': 3122, 'backsteinwand': 3123, 'bademantel': 3124, 'baden': 3125, 'bahnen': 3126, 'balkonen': 3127, 'ballbesitz': 3128, 'bambus': 3129, 'bananen': 3130, 'barfüßiges': 3131, 'barkeeper': 3132, 'bass': 3133, 'bastelt': 3134, 'bauer': 3135, 'bauernhof': 3136, 'beaufsichtigt': 3137, 'beenden': 3138, 'befestigen': 3139, 'befragt': 3140, 'begleiter': 3141, 'bekleidungsgeschäft': 3142, 'beladenen': 3143, 'berghang': 3144, 'bergsteigen': 3145, 'besitz': 3146, 'betonrampe': 3147, 'betritt': 3148, 'bettelt': 3149, 'bewundern': 3150, 'blattwerk': 3151, 'blau-roten': 3152, 'blaugrünen': 3153, 'blond': 3154, 'blondhaarige': 3155, 'blondhaariges': 3156, 'blumenwiese': 3157, 'blätterhaufen': 3158, 'bmx-rad': 3159, 'boots': 3160, 'brechen': 3161, 'brunnens': 3162, 'brät': 3163, 'bräunlicher': 3164, 'brünettes': 3165, 'buckelnden': 3166, 'bulldozer': 3167, 'busch': 3168, 'büchern': 3169, 'büsche': 3170, 'coach': 3171, 'collie': 3172, 'dafür': 3173, 'deckt': 3174, 'derby': 3175, 'deutet': 3176, 'diadem': 3177, 'dicker': 3178, 'domino': 3179, 'drängen': 3180, 'dschungel': 3181, 'dunk': 3182, 'dunkelhaariges': 3183, 'durchgang': 3184, 'dünne': 3185, 'ebene': 3186, 'einfahrt': 3187, 'einrichtung': 3188, 'einschließlich': 3189, 'eishockeyspiel': 3190, 'eisschnellläufer': 3191, 'eiswaffel': 3192, 'elternteil': 3193, 'endzone': 3194, 'enge': 3195, 'erdboden': 3196, 'erhalten': 3197, 'erhöhten': 3198, 'erledigen': 3199, 'erleuchtet': 3200, 'erzielen': 3201, 'erzählt': 3202, 'fackeln': 3203, 'fahrradreifen': 3204, 'federn': 3205, 'feldhockey': 3206, 'felsblock': 3207, 'felsige': 3208, 'fensterputzer': 3209, 'fernrohr': 3210, 'fertigen': 3211, 'fertigt': 3212, 'festival': 3213, 'film': 3214, 'flaches': 3215, 'flauschigen': 3216, 'fliesenboden': 3217, 'food': 3218, 'for': 3219, 'freuen': 3220, 'freundinnen': 3221, 'funktioniert': 3222, 'fußboden': 3223, 'fußtritt': 3224, 'führung': 3225, 'gabel': 3226, 'garagentor': 3227, 'gartenstuhl': 3228, 'gedrängt': 3229, 'geholfen': 3230, 'geiger': 3231, 'gejagt': 3232, 'geländefahrzeug': 3233, 'gemalt': 3234, 'gemütlich': 3235, 'geschlagen': 3236, 'geschminktem': 3237, 'geschmückten': 3238, 'geschoben': 3239, 'geschäftsmann': 3240, 'gespritzt': 3241, 'geste': 3242, 'gesteckt': 3243, 'gestützt': 3244, 'gewonnen': 3245, 'gleiche': 3246, 'golfspieler': 3247, 'graues': 3248, 'grauhaarige': 3249, 'grauhaariger': 3250, 'grills': 3251, 'großem': 3252, 'gurt': 3253, 'gute': 3254, 'gymnastik': 3255, 'haarschnitt': 3256, 'halfpipe': 3257, 'halsketten': 3258, 'harfe': 3259, 'harten': 3260, 'hechtet': 3261, 'heißluftballons': 3262, 'heißt': 3263, 'hellbraune': 3264, 'hellbraunem': 3265, 'hellrosa': 3266, 'herrlichen': 3267, 'hochklettert': 3268, 'hochzeitsfeier': 3269, 'hochzeitsgesellschaft': 3270, 'hochzeitskleid': 3271, 'holzstuhl': 3272, 'huckepack': 3273, 'hängebrücke': 3274, 'indianer': 3275, 'informationen': 3276, 'inneren': 3277, 'intensiv': 3278, 'interessanten': 3279, 'interviewt': 3280, 'irgendeine': 3281, 'jahre': 3282, 'jemandes': 3283, 'jenga': 3284, 'kahl': 3285, 'kamelen': 3286, 'kamin': 3287, 'kanadischen': 3288, 'kastanienbraunen': 3289, 'katzen': 3290, 'kein': 3291, 'kerze': 3292, 'kindergruppe': 3293, 'kinn': 3294, 'klarinette': 3295, 'klatschen': 3296, 'klein': 3297, 'kleinigkeit': 3298, 'kleinstadt': 3299, 'kletterwand': 3300, 'knallbunten': 3301, 'kollegen': 3302, 'konferenztisch': 3303, 'kopftüchern': 3304, 'korridor': 3305, 'kragenhemd': 3306, 'krankenhausbett': 3307, 'krankenschwester': 3308, 'krug': 3309, 'kulisse': 3310, 'kunstausstellung': 3311, 'kutsche': 3312, 'käse': 3313, 'labrador': 3314, 'lackiert': 3315, 'ladung': 3316, 'landung': 3317, 'langärmligen': 3318, 'lappen': 3319, 'lastwagens': 3320, 'lautsprecher': 3321, 'ledermantel': 3322, 'leere': 3323, 'leger': 3324, 'lehrerin': 3325, 'lehrt': 3326, 'leidenschaftlich': 3327, 'lenkt': 3328, 'letzten': 3329, 'lichtern': 3330, 'live': 3331, 'lohfarbener': 3332, 'love': 3333, 'läufern': 3334, 'make-up': 3335, 'mannschaftskollegen': 3336, 'marathonlauf': 3337, 'marktstand': 3338, 'mast': 3339, 'matratze': 3340, 'mcdonalds': 3341, 'medizinische': 3342, 'medizinischen': 3343, 'mehl': 3344, 'metallgegenstand': 3345, 'miami': 3346, 'militärische': 3347, 'minigolf': 3348, 'misst': 3349, 'montur': 3350, 'morgen': 3351, 'motorboot': 3352, 'motorradrennen': 3353, 'mönch': 3354, 'müde': 3355, 'navigiert': 3356, 'nebligen': 3357, 'nippt': 3358, 'noten': 3359, 'nudeln': 3360, 'nächtlichen': 3361, 'oberhemd': 3362, 'oldtimer': 3363, 'operationssaal': 3364, 'orangensaft': 3365, 'paket': 3366, 'pinata': 3367, 'pinkfarbene': 3368, 'pitch': 3369, 'plakatwand': 3370, 'plane': 3371, 'plantscht': 3372, 'plastik': 3373, 'poliert': 3374, 'politischen': 3375, 'polizistin': 3376, 'poloshirt': 3377, 'priester': 3378, 'probt': 3379, 'pustet': 3380, 'pyjama': 3381, 'radfahren': 3382, 'radio': 3383, 'rangeln': 3384, 'rasieren': 3385, 'reagieren': 3386, 'recht': 3387, 'redner': 3388, 'rednerpult': 3389, 'regenbogen': 3390, 'reis': 3391, 'reisen': 3392, 'rennbahn': 3393, 'restaurantküche': 3394, 'richtig': 3395, 'roboter': 3396, 'rollerskates': 3397, 'rollschuh': 3398, 'rollstühlen': 3399, 'rosafarbenes': 3400, 'rosen': 3401, 'rot-blauen': 3402, 'rucksäcke': 3403, 'rugby': 3404, 'ruinen': 3405, 'runde': 3406, 'rundes': 3407, 'räumt': 3408, 'rückwärtssalto': 3409, 'sackhüpfen': 3410, 'salat': 3411, 'sandskulptur': 3412, 'sari': 3413, 'sattel': 3414, 'schalter': 3415, 'schanze': 3416, 'schattigen': 3417, 'schaufenstern': 3418, 'schaumbad': 3419, 'schauspieler': 3420, 'scheinwerferlicht': 3421, 'schienen': 3422, 'schlafenden': 3423, 'schlafender': 3424, 'schloss': 3425, 'schminke': 3426, 'schmutzige': 3427, 'schneeball': 3428, 'schneehaufen': 3429, 'schnorchel': 3430, 'schreiendes': 3431, 'schusswaffe': 3432, 'schutzwesten': 3433, 'schwarz-blauen': 3434, 'schwarzweißen': 3435, 'schweißen': 3436, 'schwertern': 3437, 'schwierigkeiten': 3438, 'schwimmenden': 3439, 'schwimmerin': 3440, 'schülerin': 3441, 'seattle': 3442, 'seife': 3443, 'seilschaukel': 3444, 'senioren': 3445, 'sitzend': 3446, 'sitzendes': 3447, 'skate-park': 3448, 'skateboardrampe': 3449, 'skateboardtrick': 3450, 'skigebiet': 3451, 'skulpturen': 3452, 'sortieren': 3453, 'spanischer': 3454, 'spielende': 3455, 'spielzug': 3456, 'sprache': 3457, 'springenden': 3458, 'stabhochsprung': 3459, 'stadtplatz': 3460, 'staffellauf': 3461, 'stamm': 3462, 'staubsauger': 3463, 'stecken': 3464, 'steinernen': 3465, 'stofftier': 3466, 'stolpert': 3467, 'stoßen': 3468, 'straßencafé': 3469, 'streicheln': 3470, 'stroh': 3471, 'strom': 3472, 'stützt': 3473, 'subway': 3474, 'tauchausrüstung': 3475, 'teddybär': 3476, 'tellern': 3477, 'tennisspielen': 3478, 'textnachricht': 3479, 'theater': 3480, 'tische': 3481, 'tischtennis': 3482, 'torbogen': 3483, 'toreinfahrt': 3484, 'tourist': 3485, 'training': 3486, 'transporter': 3487, 'traurig': 3488, 'trommelt': 3489, 'turnier': 3490, 'türeingang': 3491, 'tüte': 3492, 'uferweg': 3493, 'ultimate': 3494, 'umklammert': 3495, 'unfall': 3496, 'unglücklich': 3497, 'unterhalb': 3498, 'unterricht': 3499, 'unterschiedliche': 3500, 'ureinwohner': 3501, 'van': 3502, 'vaters': 3503, 'verbringen': 3504, 'verbundenen': 3505, 'verdunkelten': 3506, 'vereisten': 3507, 'verkehrt': 3508, 'verlassene': 3509, 'verletzt': 3510, 'verliert': 3511, 'vermutlich': 3512, 'verschiedenfarbigen': 3513, 'versehen': 3514, 'verwirrt': 3515, 'verzieht': 3516, 'vierköpfige': 3517, 'vorbereiten': 3518, 'vordach': 3519, 'vorlesung': 3520, 'wadet': 3521, 'waffen': 3522, 'wangen': 3523, 'warenkorb': 3524, 'wasserfahrzeug': 3525, 'wasserlauf': 3526, 'wassermelone': 3527, 'wasserskifahrer': 3528, 'waten': 3529, 'weingläsern': 3530, 'weiß-braune': 3531, 'weiß-brauner': 3532, 'welt': 3533, 'wetteifern': 3534, 'wheelie': 3535, 'wintermantel': 3536, 'würden': 3537, 'zeichnung': 3538, 'ziegen': 3539, 'zigaretten': 3540, 'zugeht': 3541, 'zugewandt': 3542, 'zugucken': 3543, 'zuguckt': 3544, 'zuhören': 3545, 'zupft': 3546, 'zweiten': 3547, 'zweiter': 3548, 'älter': 3549, 'ärmel': 3550, 'ärmeln': 3551, 'überkreuzten': 3552, 'übung': 3553, 'übungen': 3554, '#': 3555, '11': 3556, '12': 3557, '9': 3558, 'abenddämmerung': 3559, 'abgewandt': 3560, 'absatzschuhen': 3561, 'absolventen': 3562, 'absperrband': 3563, 'abwärts': 3564, 'abzuwehren': 3565, 'abzuwerfen': 3566, 'afrikanisches': 3567, 'akkordeonspieler': 3568, 'akrobatische': 3569, 'aktion': 3570, 'albernen': 3571, 'altmodischer': 3572, 'america': 3573, 'ananas': 3574, 'anblick': 3575, 'and': 3576, 'angelehnt': 3577, 'angelruten': 3578, 'angelschnur': 3579, 'angerichtet': 3580, 'angesicht': 3581, 'angestellte': 3582, 'angezeigt': 3583, 'angezogenes': 3584, 'anlage': 3585, 'ansetzt': 3586, 'antiken': 3587, 'anweisung': 3588, 'anzüge': 3589, 'armband': 3590, 'armee': 3591, 'aufdruck': 3592, 'aufgaben': 3593, 'aufnahmen': 3594, 'aufzuheben': 3595, 'aufzunehmen': 3596, 'ausblick': 3597, 'ausdruck': 3598, 'ausführung': 3599, 'ausgeschnittenen': 3600, 'ausländische': 3601, 'ausländischen': 3602, 'auszuführen': 3603, 'backen': 3604, 'backsteingebäudes': 3605, 'badebekleidung': 3606, 'badesachen': 3607, 'badet': 3608, 'bahngleise': 3609, 'balancieren': 3610, 'banane': 3611, 'bandmitgliedern': 3612, 'barren': 3613, 'baseballkappen': 3614, 'baseballspiels': 3615, 'baseballwerfer': 3616, 'bassgitarre': 3617, 'baufälligen': 3618, 'baumgesäumten': 3619, 'bauprojekt': 3620, 'bedienung': 3621, 'befestigten': 3622, 'befreit': 3623, 'befördert': 3624, 'beginnen': 3625, 'belebter': 3626, 'bequem': 3627, 'bereits': 3628, 'berggipfel': 3629, 'bergigen': 3630, 'beschnüffelt': 3631, 'besprechen': 3632, 'besprühten': 3633, 'besuch': 3634, 'besuchten': 3635, 'betrieb': 3636, 'bewegungen': 3637, 'biegt': 3638, 'bieten': 3639, 'bikinioberteil': 3640, 'blase': 3641, 'blau-weiß': 3642, 'bleistift': 3643, 'block': 3644, 'blue': 3645, 'blumenfeld': 3646, 'blumenkleid': 3647, 'blumenmädchen': 3648, 'blusen': 3649, 'blättert': 3650, 'blöcken': 3651, 'boston': 3652, 'bowling-kugel': 3653, 'brautkleid': 3654, 'breitkrempigen': 3655, 'broschüre': 3656, 'brünett': 3657, 'buffet': 3658, 'bäckerei': 3659, 'bärten': 3660, 'bärtige': 3661, 'bügelt': 3662, 'chips': 3663, 'chirurgen': 3664, 'cockpit': 3665, 'concert': 3666, 'cremefarbenen': 3667, 'daraus': 3668, 'deckel': 3669, 'demonstriert': 3670, 'denkmal': 3671, 'deutschen': 3672, 'dicke': 3673, 'dingen': 3674, 'dirigent': 3675, 'dirtbike': 3676, 'diskutiert': 3677, 'dorfbewohner': 3678, 'dritte-welt-land': 3679, 'drähten': 3680, 'dunkelbrauner': 3681, 'dunkelgrünen': 3682, 'dunking': 3683, 'dunkles': 3684, 'duscht': 3685, 'edlen': 3686, 'eiern': 3687, 'eigenen': 3688, 'eingegraben': 3689, 'einkäufern': 3690, 'einsame': 3691, 'einsames': 3692, 'einteiler': 3693, 'eisenbahnschienen': 3694, 'elektriker': 3695, 'elektrogitarre': 3696, 'elf': 3697, 'elmo': 3698, 'empor': 3699, 'entgegengesetzte': 3700, 'enthält': 3701, 'entladen': 3702, 'entlanggehen': 3703, 'erhebt': 3704, 'erklärt': 3705, 'ersten': 3706, 'erwischen': 3707, 'essstäbchen': 3708, 'esszimmer': 3709, 'euro': 3710, 'fahrbaren': 3711, 'fahrradgeschäft': 3712, 'fahrradtrick': 3713, 'fall': 3714, 'fallschirmspringen': 3715, 'fan': 3716, 'fang': 3717, 'feder': 3718, 'fein': 3719, 'feldes': 3720, 'felsenklippe': 3721, 'felsformation': 3722, 'festzug': 3723, 'feuerleiter': 3724, 'feuerwehrwagen': 3725, 'fingernägel': 3726, 'fischerboot': 3727, 'flag': 3728, 'flanellhemd': 3729, 'flanke': 3730, 'flecken': 3731, 'fliegende': 3732, 'flügel': 3733, 'football-feld': 3734, 'footballteam': 3735, 'form': 3736, 'fotograph': 3737, 'fotographen': 3738, 'free': 3739, 'freiluftmarkt': 3740, 'friedhof': 3741, 'frustriert': 3742, 'fröhlicher': 3743, 'fundament': 3744, 'funken': 3745, 'fußballmannschaften': 3746, 'fußballplatz': 3747, 'fuße': 3748, 'fällen': 3749, 'förmlicher': 3750, 'führenden': 3751, 'gabelstapler': 3752, 'geburtstag': 3753, 'geburtstagskuchen': 3754, 'gebückter': 3755, 'gedanken': 3756, 'geduldig': 3757, 'gefilmt': 3758, 'gefliesten': 3759, 'gefrorenen': 3760, 'gefällten': 3761, 'gefärbten': 3762, 'gegenspieler': 3763, 'gehören': 3764, 'geküsst': 3765, 'gelb-grünen': 3766, 'gelb-weißen': 3767, 'gelbbraunen': 3768, 'geländern': 3769, 'gemalten': 3770, 'genüsslich': 3771, 'gepflegten': 3772, 'gerätschaften': 3773, 'geschichte': 3774, 'geschlossen': 3775, 'geschossen': 3776, 'gesichert': 3777, 'gesichtsmaske': 3778, 'gespreizten': 3779, 'gestalteten': 3780, 'gestrüpp': 3781, 'gesäumt': 3782, 'getackelt': 3783, 'glasgebäude': 3784, 'glatzenansatz': 3785, 'gleiten': 3786, 'glücklicher': 3787, 'goldener': 3788, 'grasbewachsene': 3789, 'grasbewachsenes': 3790, 'griff': 3791, 'grinst': 3792, 'groß': 3793, 'großküche': 3794, 'größe': 3795, 'grün-gelben': 3796, 'grün-weiß': 3797, 'grüßen': 3798, 'guten': 3799, 'gähnt': 3800, 'gäste': 3801, 'hafengebiet': 3802, 'halbkreis': 3803, 'halt': 3804, 'haltestelle': 3805, 'happen': 3806, 'harmonika': 3807, 'hatte': 3808, 'hauptsächlich': 3809, 'hausaufgaben': 3810, 'hausmeister': 3811, 'heiraten': 3812, 'hellhäutigen': 3813, 'hellroten': 3814, 'hemdchen': 3815, 'herauf': 3816, 'herstellt': 3817, 'high': 3818, 'hinterteil': 3819, 'hinunterfährt': 3820, 'holzboot': 3821, 'holzpfahl': 3822, 'holzplattform': 3823, 'holzrampe': 3824, 'hot': 3825, 'hotdog': 3826, 'hula': 3827, 'hundeshow': 3828, 'häuser': 3829, 'höhle': 3830, 'hölle': 3831, 'hübsch': 3832, 'i': 3833, 'idyllischen': 3834, 'inder': 3835, 'indianischer': 3836, 'indischen': 3837, 'ineinander': 3838, 'inklusive': 3839, 'innenseite': 3840, 'innerhalb': 3841, 'irgendein': 3842, 'jeansrock': 3843, 'jetski': 3844, 'kahlen': 3845, 'kalte': 3846, 'kanal': 3847, 'kanone': 3848, 'kaputten': 3849, 'kargen': 3850, 'kariertes': 3851, 'karikatur': 3852, 'kastenwagen': 3853, 'kauern': 3854, 'kaufhaus': 3855, 'kaum': 3856, 'keller': 3857, 'kellnerin': 3858, 'ketten': 3859, 'khakihosen': 3860, 'kickboxen': 3861, 'kiefer': 3862, 'kimonos': 3863, 'kleidungsstücke': 3864, 'knabbert': 3865, 'knallgelben': 3866, 'knappen': 3867, 'kniehohen': 3868, 'kopfball': 3869, 'kostet': 3870, 'kranich': 3871, 'krawatten': 3872, 'kreisförmigen': 3873, 'kricketspieler': 3874, 'kriecht': 3875, 'kronen': 3876, 'krücken': 3877, 'kunstmuseum': 3878, 'kunststoff': 3879, 'kuss': 3880, 'kälte': 3881, 'kämpfer': 3882, 'küchentheke': 3883, 'küchentisch': 3884, 'kühen': 3885, 'künstlerin': 3886, 'lama': 3887, 'landen': 3888, 'langarmhemd': 3889, 'langer': 3890, 'langsam': 3891, 'last': 3892, 'lasters': 3893, 'laubbedeckten': 3894, 'laubbläser': 3895, 'laubhaufen': 3896, 'laufende': 3897, 'leben': 3898, 'lebensmittelgeschäfts': 3899, 'leitern': 3900, 'lenker': 3901, 'leopardenmuster': 3902, 'letzte': 3903, 'liebkost': 3904, 'liegestütze': 3905, 'lilafarbene': 3906, 'lkws': 3907, 'lobby': 3908, 'lockigem': 3909, 'logo': 3910, 'lokalen': 3911, 'luftsprung': 3912, 'lustigen': 3913, 'lötet': 3914, 'maiskolben': 3915, 'mal': 3916, 'mama': 3917, 'masken': 3918, 'massen': 3919, 'match': 3920, 'material': 3921, 'matsch': 3922, 'matten': 3923, 'maulesel': 3924, 'meeresufer': 3925, 'meerjungfrau': 3926, 'meerwasser': 3927, 'melonen': 3928, 'menschenschlange': 3929, 'messe': 3930, 'messen': 3931, 'metallkonstruktion': 3932, 'meter': 3933, 'mexikanische': 3934, 'mexikanischen': 3935, 'militärangehörige': 3936, 'militärs': 3937, 'militäruniform': 3938, 'militäruniformen': 3939, 'mittelgroßen': 3940, 'mixt': 3941, 'mobilen': 3942, 'motorrollern': 3943, 'mundharmonika': 3944, 'musizieren': 3945, 'männergruppe': 3946, 'möwe': 3947, 'müllbeutel': 3948, 'nacheinander': 3949, 'nachrichten': 3950, 'nagel': 3951, 'nasses': 3952, 'neigt': 3953, 'neongrünen': 3954, 'notenständer': 3955, 'notizbuch': 3956, 'nähen': 3957, 'nähern': 3958, 'obdachlose': 3959, 'oberhalb': 3960, 'oberteile': 3961, 'objekten': 3962, 'obst-': 3963, 'offene': 3964, 'offiziellen': 3965, 'ohrhörern': 3966, 'op-kittel': 3967, 'ordnet': 3968, 'ordnung': 3969, 'orientalischen': 3970, 'outfielder': 3971, 'packung': 3972, 'parks': 3973, 'pelzmantel': 3974, 'pendler': 3975, 'pfannen': 3976, 'pferderennen': 3977, 'pferdes': 3978, 'pflanzt': 3979, 'pflaster': 3980, 'pflügt': 3981, 'pfoten': 3982, 'picknick': 3983, 'piers': 3984, 'planschen': 3985, 'platten': 3986, 'podest': 3987, 'pokal': 3988, 'poolbillard': 3989, 'posaune': 3990, 'prachtvollen': 3991, 'projektor': 3992, 'protestieren': 3993, 'protestschild': 3994, 'prüfen': 3995, 'prüfung': 3996, 'pub': 3997, 'punkt': 3998, 'radfahrerin': 3999, 'ragt': 4000, 'rallyeauto': 4001, 'rasierten': 4002, 'raums': 4003, 'raus': 4004, 'red': 4005, 'regal': 4006, 'regenschirme': 4007, 'reist': 4008, 'reitern': 4009, 'religiöse': 4010, 'reparaturen': 4011, 'rettungsschwimmer': 4012, 'rettungsweste': 4013, 'riemen': 4014, 'riesiger': 4015, 'roben': 4016, 'rolle': 4017, 'roller-derby-spiel': 4018, 'rot-weiß-blauen': 4019, 'rot-weiße': 4020, 'rudel': 4021, 'ruhige': 4022, 'rum': 4023, 'rustikalen': 4024, 'rängen': 4025, 'räumen': 4026, 'rückenschwimmen': 4027, 'rückhand': 4028, 'sakko': 4029, 'saris': 4030, 'saust': 4031, 'schafen': 4032, 'schaffen': 4033, 'schau': 4034, 'schaufensterpuppe': 4035, 'scheinwerfer': 4036, 'schere': 4037, 'schickes': 4038, 'schiene': 4039, 'schiffs': 4040, 'schildkröte': 4041, 'schippen': 4042, 'schlanke': 4043, 'schlanker': 4044, 'schleifen': 4045, 'schließen': 4046, 'schließt': 4047, 'schlummert': 4048, 'schläfchen': 4049, 'schmettern': 4050, 'schmutziger': 4051, 'schnauzer': 4052, 'schneeengel': 4053, 'schneehügel': 4054, 'schneemann': 4055, 'schneidebrett': 4056, 'schnitzen': 4057, 'schokoladeneis': 4058, 'school': 4059, 'schreien': 4060, 'schuhgeschäft': 4061, 'schulbus': 4062, 'schwan': 4063, 'schwangere': 4064, 'schwarzhaariger': 4065, 'schwer': 4066, 'schwerer': 4067, 'schwester': 4068, 'schwimmhilfe': 4069, 'schwung': 4070, 'schädel': 4071, 'schärpen': 4072, 'schönes': 4073, 'schüttet': 4074, 'segelboote': 4075, 'seile': 4076, 'seltsam': 4077, 'seltsames': 4078, 'sesseln': 4079, 'shop': 4080, 'sicher': 4081, 'sicherheitsausrüstung': 4082, 'sicherheitskleidung': 4083, 'sichtbar': 4084, 'skiausrüstung': 4085, 'skilift': 4086, 'skimütze': 4087, 'skipiste': 4088, 'skyline': 4089, 'slam': 4090, 'snacks': 4091, 'sodass': 4092, 'softballspielerin': 4093, 'sollen': 4094, 'sommerkleid': 4095, 'sonnen': 4096, 'sonnenhut': 4097, 'sonnenschein': 4098, 'sonnenschirmen': 4099, 'sowohl': 4100, 'spagat': 4101, 'spielend': 4102, 'spielmannszug': 4103, 'spielplatzgerät': 4104, 'spielzeugen': 4105, 'spielzeugpferd': 4106, 'spinnrad': 4107, 'sportereignis': 4108, 'sportlerin': 4109, 'sportliche': 4110, 'sportplatz': 4111, 'sportspiel': 4112, 'sprühfarbe': 4113, 'spüle': 4114, 'stadtviertel': 4115, 'stapelt': 4116, 'starbucks': 4117, 'statuen': 4118, 'staubwolke': 4119, 'stehendes': 4120, 'steingebäude': 4121, 'steinstufen': 4122, 'steinwand': 4123, 'stiel': 4124, 'stimmt': 4125, 'strafzettel': 4126, 'strahlend': 4127, 'strandes': 4128, 'strauß': 4129, 'straßenarbeiten': 4130, 'street': 4131, 'streiten': 4132, 'strickjacke': 4133, 'strohhalm': 4134, 'strähnen': 4135, 'stäbchen': 4136, 'städtischer': 4137, 'suv': 4138, 'symbol': 4139, 'sägen': 4140, 'tages': 4141, 'talent': 4142, 'tanzende': 4143, 'tassen': 4144, 'tattoo-künstler': 4145, 'tauchen': 4146, 'taucherbrille': 4147, 'taxis': 4148, 'teile': 4149, 'telefonmasten': 4150, 'tennisbällen': 4151, 'tenniskleidung': 4152, 'terrier': 4153, 'tisches': 4154, 'toiletten': 4155, 'tollen': 4156, 'toter': 4157, 'treppengeländer': 4158, 'trockenem': 4159, 'trockenes': 4160, 'trocknen': 4161, 'tropischer': 4162, 'truthahn': 4163, 'tutu': 4164, 'töpfen': 4165, 'töpferscheibe': 4166, 'töpferwaren': 4167, 'u-bahn-tunnel': 4168, 'umeinander': 4169, 'umgedrehten': 4170, 'umhängetasche': 4171, 'unbefestigtem': 4172, 'unfertigen': 4173, 'ungefähr': 4174, 'unruhigem': 4175, 'unterbricht': 4176, 'untergrundbahn': 4177, 'unterhaltung': 4178, 'unterseite': 4179, 'us': 4180, 'verbringt': 4181, 'verbunden': 4182, 'verdienen': 4183, 'verhindern': 4184, 'verkleiden': 4185, 'verschiedener': 4186, 'verschiedenfarbige': 4187, 'verspritzt': 4188, 'verstecken': 4189, 'verstärker': 4190, 'verteidigen': 4191, 'violettes': 4192, 'volksfest': 4193, 'vorbeigehenden': 4194, 'vorbereitung': 4195, 'vorhang': 4196, 'vorliest': 4197, 'vorwärts': 4198, 'vorübergehen': 4199, 'wachsen': 4200, 'wagens': 4201, 'waldes': 4202, 'walmart': 4203, 'wanderung': 4204, 'washington': 4205, 'wasserfontäne': 4206, 'wasserkante': 4207, 'wasserschlauch': 4208, 'weggeht': 4209, 'weihnachtsgeschenke': 4210, 'welche': 4211, 'welcome': 4212, 'wenige': 4213, 'werbetafel': 4214, 'werkzeuge': 4215, 'wildwasser': 4216, 'wind': 4217, 'windjacke': 4218, 'winken': 4219, 'wintermänteln': 4220, 'winzigen': 4221, 'wirbt': 4222, 'wirken': 4223, 'wischen': 4224, 'wissenschaftler': 4225, 'wissenschaftliches': 4226, 'wolkigen': 4227, 'wäschekorb': 4228, 'wäscheleine': 4229, 'zentrum': 4230, 'ziegeln': 4231, 'zitronen': 4232, 'zoo': 4233, 'zubereiten': 4234, 'zueinander': 4235, 'zugs': 4236, 'zuläuft': 4237, 'zweier': 4238, 'zweiteiligen': 4239, 'zwölf': 4240, 'zügen': 4241, 'ärzte': 4242, 'öffentliche': 4243, 'übergibt': 4244, 'überwiegend': 4245, '24': 4246, '8': 4247, '96': 4248, 'abfälle': 4249, 'abgelegt': 4250, 'abgeschnittenen': 4251, 'abgestimmten': 4252, 'abschlag': 4253, 'abschleppwagen': 4254, 'abseits': 4255, 'absätzen': 4256, 'abzufangen': 4257, 'abzunehmen': 4258, 'actionfoto': 4259, 'affen': 4260, 'afrikanerin': 4261, 'afroamerikanischen': 4262, 'aktivität': 4263, 'akustischen': 4264, 'albert': 4265, 'all': 4266, 'allen': 4267, 'alltag': 4268, 'alt': 4269, 'altmodische': 4270, 'anbietet': 4271, 'angebunden': 4272, 'angegriffen': 4273, 'angekettet': 4274, 'angeleint': 4275, 'angels': 4276, 'angemalt': 4277, 'angemalten': 4278, 'angeschaut': 4279, 'angeschnallt': 4280, 'angler': 4281, 'angucken': 4282, 'anhält': 4283, 'ankommenden': 4284, 'anlass': 4285, 'anleitung': 4286, 'anorak': 4287, 'anschneiden': 4288, 'anzeige': 4289, 'anziehen': 4290, 'apparat': 4291, 'arabischer': 4292, 'arbeitsplatz': 4293, 'arkade': 4294, 'arten': 4295, 'aschenbahn': 4296, 'asphaltstraße': 4297, 'atem': 4298, 'athlet': 4299, 'athleten': 4300, 'attackieren': 4301, 'au': 4302, 'aufgebaut': 4303, 'aufgehängt': 4304, 'aufgemalt': 4305, 'aufgesetzten': 4306, 'aufgestellten': 4307, 'aufhalten': 4308, 'aufkleber': 4309, 'aufnahmestudio': 4310, 'aufnehmen': 4311, 'aufnimmt': 4312, 'auftreten': 4313, 'ausführt': 4314, 'ausgefransten': 4315, 'ausgelassen': 4316, 'ausgelegt': 4317, 'ausgeschnittene': 4318, 'ausgestopfte': 4319, 'ausgestopften': 4320, 'ausland': 4321, 'aussichtspunkt': 4322, 'ausstreckt': 4323, 'auswirft': 4324, 'auszuruhen': 4325, 'auszuziehen': 4326, 'außentreppe': 4327, 'außenwand': 4328, 'backwaren': 4329, 'balance': 4330, 'ballett': 4331, 'bandkollegen': 4332, 'barett': 4333, 'barriere': 4334, 'baseballplatz': 4335, 'baseballs': 4336, 'baseman': 4337, 'baserunner': 4338, 'basketballkorb': 4339, 'basketballplatz': 4340, 'basketballwurf': 4341, 'basketbälle': 4342, 'basteln': 4343, 'bauarbeiterhelm': 4344, 'bauarbeitern': 4345, 'baumaschinen': 4346, 'baumgruppe': 4347, 'beagle': 4348, 'beamten': 4349, 'bedeckte': 4350, 'bedruckt': 4351, 'beeindruckende': 4352, 'beigefarbener': 4353, 'beisammensein': 4354, 'beleibter': 4355, 'beleuchtete': 4356, 'bellen': 4357, 'bemalte': 4358, 'bergab': 4359, 'bergpfad': 4360, 'berufskleidung': 4361, 'beruhigt': 4362, 'beschmiert': 4363, 'beschädigtes': 4364, 'besetzte': 4365, 'besitzer': 4366, 'bespritzen': 4367, 'bestehenden': 4368, 'besteigen': 4369, 'bestellung': 4370, 'betreibt': 4371, 'betreut': 4372, 'beugen': 4373, 'bewachen': 4374, 'bewertet': 4375, 'bewölktem': 4376, 'bezeichnet': 4377, 'bierflaschen': 4378, 'biergläsern': 4379, 'bikini-unterteil': 4380, 'bildet': 4381, 'bildhauer': 4382, 'bittet': 4383, 'blau-braunen': 4384, 'blau-rosa': 4385, 'blau-schwarzen': 4386, 'blau-weißer': 4387, 'blaugrünem': 4388, 'bleckt': 4389, 'blickfeld': 4390, 'bloßen': 4391, 'blumendruck': 4392, 'blumentopf': 4393, 'blut': 4394, 'blutdruck': 4395, 'bmw': 4396, 'bmx': 4397, 'bohrer': 4398, 'boje': 4399, 'bootsanlegestelle': 4400, 'bowlingspieler': 4401, 'boxkampf': 4402, 'braun-weißem': 4403, 'braunhaarigen': 4404, 'brechenden': 4405, 'breit': 4406, 'breites': 4407, 'breitet': 4408, 'brennt': 4409, 'brettern': 4410, 'briefkasten': 4411, 'bronzestatue': 4412, 'broschüren': 4413, 'brustkorb': 4414, 'bräunlichen': 4415, 'bucht': 4416, 'buden': 4417, 'bummeln': 4418, 'bustier': 4419, 'butterbrot': 4420, 'bändern': 4421, 'bärtigen': 4422, 'bücherei': 4423, 'bühnenauftritt': 4424, 'bürgersteigs': 4425, 'bürogebäude': 4426, 'cafeteria': 4427, 'camcorder': 4428, 'campern': 4429, 'cheerleaders': 4430, 'chinatown': 4431, 'choreografie': 4432, 'clubs': 4433, 'coney': 4434, 'couchtisch': 4435, 'cowboyhüten': 4436, 'cowboykleidung': 4437, 'cowboystiefeln': 4438, 'cowgirl': 4439, 'dalmatiner': 4440, 'dampf': 4441, 'danach': 4442, 'darsteller': 4443, 'darstellt': 4444, 'darum': 4445, 'dasselbe': 4446, 'dehnt': 4447, 'denken': 4448, 'designs': 4449, 'dessert': 4450, 'deutlich': 4451, 'diashow': 4452, 'dog': 4453, 'dokumente': 4454, 'donuts': 4455, 'dort': 4456, 'drachenkostüm': 4457, 'drahtseil': 4458, 'drahtzaun': 4459, 'dreckigen': 4460, 'drein': 4461, 'dreiräder': 4462, 'drinks': 4463, 'drummer': 4464, 'drängeln': 4465, 'drängt': 4466, 'duckt': 4467, 'dunkelhaarigen': 4468, 'dunkelhäutiges': 4469, 'durcheinander': 4470, 'dusche': 4471, 'dutzend': 4472, 'dutzende': 4473, 'dünner': 4474, 'east': 4475, 'ehemann': 4476, 'eierkuchen': 4477, 'eilen': 4478, 'einfach': 4479, 'eingangshalle': 4480, 'eingepacktes': 4481, 'eingerahmte': 4482, 'einzigartigen': 4483, 'eiscrem': 4484, 'eisenbahn': 4485, 'eiskrem': 4486, 'eisskulptur': 4487, 'eisstand': 4488, 'eistüten': 4489, 'eiswagens': 4490, 'el': 4491, 'enkelin': 4492, 'entdeckt': 4493, 'entfernten': 4494, 'entlangfahren': 4495, 'entlangfährt': 4496, 'entscheiden': 4497, 'erfahrener': 4498, 'erhebung': 4499, 'erklettert': 4500, 'erkunden': 4501, 'erkundet': 4502, 'ernte': 4503, 'ernten': 4504, 'errichten': 4505, 'errichtet': 4506, 'erscheint': 4507, 'erste': 4508, 'eseln': 4509, 'essensverkäufer': 4510, 'esswaren': 4511, 'europäisches': 4512, 'explosion': 4513, 'fabrikarbeiter': 4514, 'fahrgäste': 4515, 'fahrgästen': 4516, 'fallenden': 4517, 'fallschirme': 4518, 'fallschirmen': 4519, 'fallschirmspringer': 4520, 'farbiger': 4521, 'farblich': 4522, 'farbstiften': 4523, 'faust': 4524, 'fechter': 4525, 'fechtkampf': 4526, 'fechtwettkampf': 4527, 'fegen': 4528, 'felds': 4529, 'felsformationen': 4530, 'fensterbank': 4531, 'fern': 4532, 'festlichen': 4533, 'feuerwehrfahrzeug': 4534, 'feuerwehrleuten': 4535, 'filmen': 4536, 'filmset': 4537, 'finden': 4538, 'first': 4539, 'flache': 4540, 'flachem': 4541, 'fleck': 4542, 'flohmarkt': 4543, 'flug': 4544, 'flughafens': 4545, 'fond': 4546, 'football-mannschaften': 4547, 'ford': 4548, 'formellen': 4549, 'formen': 4550, 'fotoshooting': 4551, 'frankreich': 4552, 'französischen': 4553, 'frei': 4554, 'freiheitsstatue': 4555, 'freiluftkonzert': 4556, 'freiluftveranstaltung': 4557, 'freundes': 4558, 'frisches': 4559, 'friseursalon': 4560, 'fußballnetz': 4561, 'fußballspiels': 4562, 'fußballtrikots': 4563, 'fähre': 4564, 'fässer': 4565, 'fäuste': 4566, 'föhnt': 4567, 'förmlichen': 4568, 'galerie': 4569, 'galoppiert': 4570, 'ganze': 4571, 'gartenstühlen': 4572, 'gartenwerkzeug': 4573, 'gasmaske': 4574, 'gebauten': 4575, 'gebirge': 4576, 'geblockt': 4577, 'gebunden': 4578, 'geburtstagsfeier': 4579, 'gebäck': 4580, 'gebäudeeingang': 4581, 'gebückt': 4582, 'gedeckten': 4583, 'gedruckt': 4584, 'geduckter': 4585, 'gefließten': 4586, 'gefrorene': 4587, 'gefüttert': 4588, 'gegnerischer': 4589, 'gehenden': 4590, 'gehendes': 4591, 'geholt': 4592, 'gehörschutz': 4593, 'geisha': 4594, 'gekauft': 4595, 'gekreuzten': 4596, 'gelandet': 4597, 'gelb-blauen': 4598, 'geldbörsen': 4599, 'geländemaschine': 4600, 'gemeinde': 4601, 'gemeinsame': 4602, 'gemeinsamen': 4603, 'gemusterte': 4604, 'gemüsemarkt': 4605, 'gemüsestand': 4606, 'geometrischen': 4607, 'geparkte': 4608, 'gepolsterten': 4609, 'gepäckstücken': 4610, 'gern': 4611, 'gerüsten': 4612, 'geschirrspüler': 4613, 'geschminkte': 4614, 'geschminkter': 4615, 'geschnitzte': 4616, 'geschäftsanzug': 4617, 'gesellschaft': 4618, 'gesenkt': 4619, 'gesichtsmasken': 4620, 'gesichtsschutz': 4621, 'gestapelt': 4622, 'gestellt': 4623, 'gestrichenen': 4624, 'gestürzt': 4625, 'getaucht': 4626, 'getraut': 4627, 'getupften': 4628, 'gewandt': 4629, 'gewaschen': 4630, 'gewehre': 4631, 'gewicht': 4632, 'gewinnt': 4633, 'geworfenen': 4634, 'gewächshaus': 4635, 'gewänder': 4636, 'gezogenen': 4637, 'gitarrenspieler': 4638, 'gitarrespieler': 4639, 'glasur': 4640, 'gleichauf': 4641, 'gleicher': 4642, 'gläser': 4643, 'glätten': 4644, 'glättet': 4645, 'glücklichen': 4646, 'gokart': 4647, 'goldfarbener': 4648, 'golfschläger': 4649, 'gottesdienst': 4650, 'grau-weiße': 4651, 'grau-weißer': 4652, 'green': 4653, 'grindet': 4654, 'großmutter': 4655, 'grube': 4656, 'grundschulkinder': 4657, 'gruppenbild': 4658, 'gruppenfoto': 4659, 'größer': 4660, 'größerer': 4661, 'grüßt': 4662, 'guitar': 4663, 'gummistiefeln': 4664, 'haarnetz': 4665, 'haarsalon': 4666, 'habe': 4667, 'hahn': 4668, 'halbwilden': 4669, 'halloween-kostümen': 4670, 'handbewegungen': 4671, 'handgelenk': 4672, 'handgerät': 4673, 'handgriff': 4674, 'handtüchern': 4675, 'handvoll': 4676, 'harkt': 4677, 'hawaii-hemd': 4678, 'headset': 4679, 'hecke': 4680, 'helfer': 4681, 'hellblauem': 4682, 'hellblauer': 4683, 'hellem': 4684, 'henna-tattoo': 4685, 'heran': 4686, 'herausragen': 4687, 'herauszufinden': 4688, 'herbsttag': 4689, 'herde': 4690, 'hero': 4691, 'herrenfriseur': 4692, 'hindernisse': 4693, 'hingesetzt': 4694, 'hinterbeine': 4695, 'hintere': 4696, 'hintereinander': 4697, 'hintern': 4698, 'hinterrad': 4699, 'hispanoamerikaner': 4700, 'hochgelegten': 4701, 'hochspringen': 4702, 'hochstart': 4703, 'hochzeitstag': 4704, 'hochzuheben': 4705, 'hockeymannschaften': 4706, 'holzgebäude': 4707, 'holzkohlegrill': 4708, 'holztür': 4709, 'hunderennen': 4710, 'hunderte': 4711, 'hundeschau': 4712, 'husky': 4713, 'hämmert': 4714, 'hängegleiter': 4715, 'hätte': 4716, 'hölzernes': 4717, 'hörnern': 4718, 'hübscher': 4719, 'hübsches': 4720, 'hügeligen': 4721, 'identisch': 4722, 'ignoriert': 4723, 'imbissstand': 4724, 'inderin': 4725, 'indisches': 4726, 'industriegebäude': 4727, 'inlineskater': 4728, 'inne': 4729, 'innen': 4730, 'interagiert': 4731, 'interessantes': 4732, 'interessierten': 4733, 'internet': 4734, 'irgendwelchen': 4735, 'irokesenfrisur': 4736, 'island': 4737, 'jack': 4738, 'jahren': 4739, 'japaner': 4740, 'jedoch': 4741, 'jogginganzug': 4742, 'jogginghose': 4743, 'kaffeetisch': 4744, 'kahlköpfigen': 4745, 'kaltes': 4746, 'kamele': 4747, 'kampfrichter': 4748, 'kampfsportkleidung': 4749, 'kanadische': 4750, 'kapuzenjacke': 4751, 'kapuzenteil': 4752, 'karaoke': 4753, 'karneval': 4754, 'kartoffeln': 4755, 'karussel': 4756, 'kaukasische': 4757, 'kaukasischer': 4758, 'keep': 4759, 'kekse': 4760, 'kelle': 4761, 'khakis': 4762, 'kid': 4763, 'kiesweg': 4764, 'kinds': 4765, 'kino': 4766, 'klammert': 4767, 'klarem': 4768, 'kleinbus': 4769, 'kleinem': 4770, 'kleinerer': 4771, 'kletterausrüstung': 4772, 'klettergurt': 4773, 'kniend': 4774, 'knieschonern': 4775, 'knieschützern': 4776, 'kniestrümpfen': 4777, 'knochen': 4778, 'knurrt': 4779, 'kochkleidung': 4780, 'kokosnüsse': 4781, 'komischen': 4782, 'kommunizieren': 4783, 'kommuniziert': 4784, 'komplizierten': 4785, 'kontrollieren': 4786, 'kontrolliert': 4787, 'korbleger': 4788, 'korbstuhl': 4789, 'krabbe': 4790, 'krankenwagen': 4791, 'kreuzfahrtschiff': 4792, 'krone': 4793, 'kugeln': 4794, 'kundschaft': 4795, 'kurs': 4796, 'kurzhaarige': 4797, 'kurzhaariger': 4798, 'kurzärmeligen': 4799, 'kuscheln': 4800, 'käfer': 4801, 'küchenboden': 4802, 'künstlern': 4803, 'kürbisfeld': 4804, 'küstenlinie': 4805, 'la': 4806, 'laderampe': 4807, 'lager': 4808, 'landebahn': 4809, 'langärmigen': 4810, 'laterne': 4811, 'latz': 4812, 'laufbekleidung': 4813, 'laufender': 4814, 'lauschen': 4815, 'lauter': 4816, 'lebensmittelverkäufer': 4817, 'lebhaft': 4818, 'lederkleidung': 4819, 'lego': 4820, 'leichtathlet': 4821, 'leisten': 4822, 'lenkrad': 4823, 'leotard': 4824, 'lesend': 4825, 'leuchten': 4826, 'leuchtende': 4827, 'lichter': 4828, 'liebe': 4829, 'liegender': 4830, 'lilafarbenes': 4831, 'lindgrünen': 4832, 'linien': 4833, 'lugt': 4834, 'lupe': 4835, 'läden': 4836, 'löcher': 4837, 'löwen': 4838, 'machete': 4839, 'mais': 4840, 'malerische': 4841, 'manövrieren': 4842, 'manövriert': 4843, 'marathonläuferin': 4844, 'marke': 4845, 'markisen': 4846, 'marktstraße': 4847, 'marschkapelle': 4848, 'mascara': 4849, 'matschigen': 4850, 'mauern': 4851, 'maultier': 4852, 'maus': 4853, 'mcdonald': 4854, 'mechaniker': 4855, 'mechanischen': 4856, 'meditiert': 4857, 'medizinisches': 4858, 'meeresfrüchten': 4859, 'megafon': 4860, 'megaphon': 4861, 'mehrerer': 4862, 'mehrfarbigem': 4863, 'meine': 4864, 'menschlichen': 4865, 'menü': 4866, 'metallgeländer': 4867, 'metallschüssel': 4868, 'metallstück': 4869, 'mets': 4870, 'mikrophonen': 4871, 'mikroskope': 4872, 'militärangehöriger': 4873, 'militärischer': 4874, 'militärkleidung': 4875, 'minivan': 4876, 'mischung': 4877, 'mittelalterlichen': 4878, 'mittelalterlicher': 4879, 'mittelstreifen': 4880, 'mobile': 4881, 'modisch': 4882, 'modischen': 4883, 'monstertruck': 4884, 'mosaik': 4885, 'moschee': 4886, 'motorisierten': 4887, 'motorradrennfahrer': 4888, 'mountainbikes': 4889, 'muscheln': 4890, 'musikfestival': 4891, 'musikkapelle': 4892, 'musikstück': 4893, 'möbel': 4894, 'mönche': 4895, 'mündern': 4896, 'müssen': 4897, 'mütter': 4898, 'nachbarschaftsladen': 4899, 'nadelstreifenanzug': 4900, 'nagellack': 4901, 'nahost': 4902, 'neoprenanzügen': 4903, 'netzen': 4904, 'neu': 4905, 'neues': 4906, 'niedliches': 4907, 'nintendo': 4908, 'nonne': 4909, 'ny': 4910, 'oberhemden': 4911, 'oberkörpern': 4912, 'obstkarren': 4913, 'offen': 4914, 'offiziere': 4915, 'ohio': 4916, 'ohrring': 4917, 'ollie': 4918, 'operieren': 4919, 'orange-weiß': 4920, 'orange-weißen': 4921, 'oranges': 4922, 'outdoor-veranstaltung': 4923, 'oxford': 4924, 'paddelboot': 4925, 'papiertüte': 4926, 'pappkarton': 4927, 'parallel': 4928, 'parkettboden': 4929, 'parkweg': 4930, 'passant': 4931, 'patientin': 4932, 'per': 4933, 'personal': 4934, 'pfahl': 4935, 'pferderücken': 4936, 'pferds': 4937, 'pflücken': 4938, 'picknickbank': 4939, 'picknickdecke': 4940, 'picknicktischen': 4941, 'pinkfarbenes': 4942, 'pirat': 4943, 'piraten': 4944, 'piñata': 4945, 'planschbecken': 4946, 'plastikrutsche': 4947, 'plastikstuhl': 4948, 'plastiktüten': 4949, 'plattenspieler': 4950, 'platzes': 4951, 'po': 4952, 'polizeibeamte': 4953, 'polospieler': 4954, 'poncho': 4955, 'posen': 4956, 'prahlt': 4957, 'proben': 4958, 'produkten': 4959, 'professioneller': 4960, 'programm': 4961, 'protest': 4962, 'protestkundgebung': 4963, 'prozession': 4964, 'prunkvollen': 4965, 'präsentieren': 4966, 'pulli': 4967, 'puzzle': 4968, 'quadraten': 4969, 'qualmt': 4970, 'radsportler': 4971, 'radweg': 4972, 'rampenlicht': 4973, 'rastet': 4974, 'rechen': 4975, 'redend': 4976, 'reflektierender': 4977, 'regenstiefeln': 4978, 'reh': 4979, 'reibt': 4980, 'reiher': 4981, 'reise': 4982, 'reißt': 4983, 'reklame': 4984, 'religiösen': 4985, 'rennautos': 4986, 'rennhunde': 4987, 'rennkleidung': 4988, 'renoviert': 4989, 'reparatur': 4990, 'rest': 4991, 'restauranttisch': 4992, 'retriever': 4993, 'riesiges': 4994, 'rings': 4995, 'ringträger': 4996, 'rockt': 4997, 'rodeo-arena': 4998, 'rohre': 4999, 'rollkoffer': 5000, 'rollkragenpullover': 5001, 'rollschuhen': 5002, 'rosarot': 5003, 'rot-gelber': 5004, 'rot-weißer': 5005, 'rotbraunen': 5006, 'rotweißen': 5007, 'rugby-spieler': 5008, 'rugbyspiel': 5009, 'rummel': 5010, 'rundherum': 5011, 'rötlichen': 5012, 'rückt': 5013, 'rüstung': 5014, 'saft': 5015, 'sagen': 5016, 'saiten': 5017, 'saiteninstrumente': 5018, 'salon': 5019, 'sandale': 5020, 'sanddünen': 5021, 'sandplatz': 5022, 'sandwiches': 5023, 'sattelzug': 5024, 'satz': 5025, 'sauna': 5026, 'schalen': 5027, 'scharfe': 5028, 'schaum': 5029, 'scheiben': 5030, 'scheren': 5031, 'schicken': 5032, 'schickt': 5033, 'schiffes': 5034, 'schildkappe': 5035, 'schindeln': 5036, 'schlachtet': 5037, 'schlammgrube': 5038, 'schlammpfütze': 5039, 'schlauchbooten': 5040, 'schlepper': 5041, 'schleudert': 5042, 'schluck': 5043, 'schlägern': 5044, 'schläuchen': 5045, 'schmerzen': 5046, 'schmutzigem': 5047, 'schnappschuss': 5048, 'schneebedecktem': 5049, 'schneewehe': 5050, 'schottenrock': 5051, 'schrank': 5052, 'schreibtischen': 5053, 'schreitet': 5054, 'schrift': 5055, 'schriftzug': 5056, 'schräg': 5057, 'schubsen': 5058, 'schuhputzer': 5059, 'schulband': 5060, 'schultertasche': 5061, 'schutthaufen': 5062, 'schutzbrillen': 5063, 'schutzweste': 5064, 'schwamm': 5065, 'schwarm': 5066, 'schwarz-gelben': 5067, 'schwarzhaarigen': 5068, 'schwein': 5069, 'schwerem': 5070, 'schwestern': 5071, 'schwimmanzug': 5072, 'schwimmbeckens': 5073, 'schwimmbrillen': 5074, 'schwimmern': 5075, 'schwitzt': 5076, 'schöpft': 5077, 'schützend': 5078, 'seesack': 5079, 'seetang': 5080, 'segeln': 5081, 'seht': 5082, 'seichtes': 5083, 'seilrutsche': 5084, 'seilspielzeug': 5085, 'seitenstraße': 5086, 'seltsamer': 5087, 'senffarbenen': 5088, 'senkrecht': 5089, 'sichtbaren': 5090, 'sieb': 5091, 'silbernes': 5092, 'skaten': 5093, 'skates': 5094, 'skijacke': 5095, 'skiläufer': 5096, 'skistöcken': 5097, 'smokings': 5098, 'sofas': 5099, 'softballspiel': 5100, 'softballspieler': 5101, 'softballspiels': 5102, 'solo': 5103, 'sombrero': 5104, 'sommer': 5105, 'sonnendurchfluteten': 5106, 'sonnenschild': 5107, 'sonnentag': 5108, 'sonnt': 5109, 'spanien': 5110, 'spanische': 5111, 'spazierstöcken': 5112, 'spektakulären': 5113, 'spielautomaten': 5114, 'spielgerät': 5115, 'spielhalle': 5116, 'spielzeugzug': 5117, 'spitz': 5118, 'spitzbart': 5119, 'spitzen': 5120, 'sport-bh': 5121, 'sportbekleidung': 5122, 'sportgeschäft': 5123, 'sporthose': 5124, 'sprintet': 5125, 'spritzwasser': 5126, 'sprungs': 5127, 'sprungtritt': 5128, 'sprungwurf': 5129, 'spuren': 5130, 'spülen': 5131, 'stacheligen': 5132, 'stadtbild': 5133, 'stadtgebiet': 5134, 'stapeln': 5135, 'start': 5136, 'state': 5137, 'staubsaugerschlauch': 5138, 'steaks': 5139, 'steigung': 5140, 'steindenkmal': 5141, 'stemmt': 5142, 'stirnbändern': 5143, 'stoffe': 5144, 'stoffhut': 5145, 'stofftiere': 5146, 'stop': 5147, 'stoppen': 5148, 'stoß': 5149, 'stramm': 5150, 'straßenbahn': 5151, 'straßenkleidung': 5152, 'straßenlampe': 5153, 'straßenlaterne': 5154, 'straßenschild': 5155, 'straßenstand': 5156, 'streut': 5157, 'stricken': 5158, 'strümpfen': 5159, 'sturzhelm': 5160, 'stutzt': 5161, 'stämmige': 5162, 'ständen': 5163, 'stückchen': 5164, 'substanz': 5165, 'summer': 5166, 'sumpfgebiet': 5167, 'sweatshirts': 5168, 'synchron': 5169, 'säcken': 5170, 'säubern': 5171, 'söhne': 5172, 'tabak': 5173, 'tabletts': 5174, 'tackeln': 5175, 'tandem': 5176, 'tank': 5177, 'tanktops': 5178, 'tanzenden': 5179, 'tarnhose': 5180, 'tarnmuster': 5181, 'tastatur': 5182, 'tattoos': 5183, 'tauscht': 5184, 'teamkollegen': 5185, 'teammitglied': 5186, 'teddybären': 5187, 'tennisspiel': 5188, 'teppichboden': 5189, 'teppiche': 5190, 'teppichen': 5191, 'testen': 5192, 'tiefe': 5193, 'tiefes': 5194, 'tiger': 5195, 'to': 5196, 'toilette': 5197, 'tonstudio': 5198, 'torte': 5199, 'torwart': 5200, 'touristengruppe': 5201, 'tragend': 5202, 'transportieren': 5203, 'transportmittel': 5204, 'transportwagen': 5205, 'traurigen': 5206, 'trauriges': 5207, 'trauzeugen': 5208, 'treppenhauses': 5209, 'trikotnummer': 5210, 'trompeter': 5211, 'truppe': 5212, 'trübes': 5213, 'tulpen': 5214, 'tunika': 5215, 'turnschuhe': 5216, 'tutus': 5217, 'twister': 5218, 'täglichen': 5219, 'tätowiert': 5220, 'töpferware': 5221, 'türkis': 5222, 'u-bahn-wagen': 5223, 'u-bahnhof': 5224, 'ukulele': 5225, 'umgedreht': 5226, 'umgekippten': 5227, 'umgibt': 5228, 'unbekannten': 5229, 'unechten': 5230, 'ungewöhnlich': 5231, 'unicef': 5232, 'university': 5233, 'universität': 5234, 'unkraut': 5235, 'unterlagen': 5236, 'unterstützung': 5237, 'unüberdachten': 5238, 'urbanen': 5239, 'us-armee': 5240, 'veranstaltungsort': 5241, 'verheiratete': 5242, 'verkehrsmittel': 5243, 'verkehrsreichen': 5244, 'verletzte': 5245, 'verletzten': 5246, 'verloren': 5247, 'verläuft': 5248, 'vermähltes': 5249, 'verrichtet': 5250, 'verrückter': 5251, 'verschwommen': 5252, 'versenkt': 5253, 'versetzt': 5254, 'verstreut': 5255, 'verteidigt': 5256, 'vervollständigt': 5257, 'verwendung': 5258, 'verzerrtes': 5259, 'vieh': 5260, 'vielzahl': 5261, 'viertel': 5262, 'vogelschwarm': 5263, 'volkswagen': 5264, 'volle': 5265, 'volleyballspielerin': 5266, 'vollständig': 5267, 'voneinander': 5268, 'vorbeilaufen': 5269, 'vordere': 5270, 'vorführen': 5271, 'vorm': 5272, 'vorschlaghammer': 5273, 'vortragssaal': 5274, 'vorübergeht': 5275, 'waage': 5276, 'wache': 5277, 'wade': 5278, 'waldhorn': 5279, 'walkie-talkie': 5280, 'wanderausrüstung': 5281, 'wanderern': 5282, 'wanderin': 5283, 'wanderstöcke': 5284, 'wandtafel': 5285, 'ware': 5286, 'warmer': 5287, 'wartebereich': 5288, 'wartenden': 5289, 'wartungsarbeiten': 5290, 'wartungsarbeiter': 5291, 'wasserball': 5292, 'wasserfalls': 5293, 'wassernähe': 5294, 'wasserpfütze': 5295, 'wasserpistole': 5296, 'wasserpistolen': 5297, 'wasserweg': 5298, 'weht': 5299, 'weiblicher': 5300, 'weicht': 5301, 'weihnachtszeit': 5302, 'weinglas': 5303, 'weise': 5304, 'weite': 5305, 'weiten': 5306, 'weiteres': 5307, 'weizen': 5308, 'weiß-blauen': 5309, 'weiß-grauen': 5310, 'weiß-grünen': 5311, 'weiß-roten': 5312, 'werbeanzeige': 5313, 'werdender': 5314, 'werkzeuggürtel': 5315, 'wildblumen': 5316, 'windsurfer': 5317, 'winterjacken': 5318, 'wissenschaftlichen': 5319, 'wochenmarkt': 5320, 'wohngegend': 5321, 'wohnmobil': 5322, 'wohnwagen': 5323, 'wok': 5324, 'wollen': 5325, 'worauf': 5326, 'wort': 5327, 'wunderkerze': 5328, 'wunderkerzen': 5329, 'wunderschönes': 5330, 'wählen': 5331, 'wäldern': 5332, 'wärmen': 5333, 'wörter': 5334, 'wühlt': 5335, 'würstchen': 5336, 'zahlen': 5337, 'zahlreichen': 5338, 'zahnspange': 5339, 'zeichnungen': 5340, 'zeigefinger': 5341, 'zementmischer': 5342, 'zerren': 5343, 'ziegelstraße': 5344, 'zielen': 5345, 'zombies': 5346, 'zopf': 5347, 'zugabteil': 5348, 'zusammengedrängt': 5349, 'zusammengefunden': 5350, 'zusammenkunft': 5351, 'zweck': 5352, 'zweig': 5353, 'zweige': 5354, 'zweigen': 5355, 'zwickt': 5356, 'ähnlicher': 5357, 'ändert': 5358, 'äpfeln': 5359, 'ärmelloses': 5360, 'ästen': 5361, 'öffentlicher': 5362, 'öffnung': 5363, 'örtlicher': 5364, 'übereinander': 5365, 'übergeben': 5366, 'übergewichtige': 5367, 'übergroßen': 5368, 'übernimmt': 5369, 'überreicht': 5370, 'übers': 5371, 'übersäten': 5372, '”': 5373, '%': 5374, '..': 5375, '1': 5376, '13': 5377, '14': 5378, '19': 5379, '25': 5380, '30ern': 5381, '38': 5382, '50': 5383, '63': 5384, '7': 5385, '@@': 5386, 'a.': 5387, 'abdeckplane': 5388, 'abdeckung': 5389, 'abendbrottisch': 5390, 'abendlichen': 5391, 'abfahrt': 5392, 'abfall': 5393, 'abfallenden': 5394, 'abflug': 5395, 'abgefeuert': 5396, 'abgelassen': 5397, 'abgeleckt': 5398, 'abgelenkt': 5399, 'abhebt': 5400, 'abhängen': 5401, 'abkühlen': 5402, 'abprallen': 5403, 'absatz': 5404, 'abschluss': 5405, 'absolvieren': 5406, 'absperrungen': 5407, 'abwischt': 5408, 'abzeichen': 5409, 'abzuspielen': 5410, 'achten': 5411, 'acker': 5412, 'ackerland': 5413, 'afrika': 5414, 'afro': 5415, 'afro-amerikanischer': 5416, 'aggressiv': 5417, 'ahornblatt': 5418, 'air': 5419, 'akrobatik': 5420, 'akrobatin': 5421, 'aktiv': 5422, 'aktivitäten': 5423, 'algen': 5424, 'allee': 5425, 'allem': 5426, 'alles': 5427, 'allradfahrzeug': 5428, 'altar': 5429, 'american': 5430, 'amische': 5431, 'amp': 5432, 'angefahren': 5433, 'angehobenen': 5434, 'angehört': 5435, 'angelausflug': 5436, 'angelegt': 5437, 'angeles': 5438, 'angeleuchtet': 5439, 'angeseilt': 5440, 'angestarrt': 5441, 'angestrengt': 5442, 'angreifer': 5443, 'angriff': 5444, 'angst': 5445, 'anguckt': 5446, 'anhören': 5447, 'ankunft': 5448, 'ansichten': 5449, 'anspiel': 5450, 'anstatt': 5451, 'antworten': 5452, 'anzugucken': 5453, 'anzuschauen': 5454, 'anzuzünden': 5455, 'apartment': 5456, 'apotheke': 5457, 'applaudiert': 5458, 'apple': 5459, 'apple-computer': 5460, 'arbeitenden': 5461, 'arbeitender': 5462, 'arbeitsbank': 5463, 'arbeitshandschuhe': 5464, 'arbeitsort': 5465, 'arbeitstag': 5466, 'arbeitswesten': 5467, 'arcade-spiel': 5468, 'architektonischen': 5469, 'archäologen': 5470, 'are': 5471, 'armbanduhr': 5472, 'armbändern': 5473, 'armut': 5474, 'arrangiert': 5475, 'asphaltbelag': 5476, 'astronautenanzug': 5477, 'atmet': 5478, 'attackiert': 5479, 'auditorium': 5480, 'aufbäumenden': 5481, 'aufgehenden': 5482, 'aufgeregtes': 5483, 'aufgesetztem': 5484, 'aufgesetzter': 5485, 'aufgespannt': 5486, 'aufgewühlte': 5487, 'aufklebern': 5488, 'aufsicht': 5489, 'aufsitzmäher': 5490, 'aufstellt': 5491, 'auftragen': 5492, 'aufträgt': 5493, 'aufwirbelt': 5494, 'aufwärts': 5495, 'aufzufallen': 5496, 'aufzuführen': 5497, 'aufzuschlagen': 5498, 'augen-makeup': 5499, 'augenbraue': 5500, 'augenschein': 5501, 'augenschutz': 5502, 'auseinander': 5503, 'ausgefallenem': 5504, 'ausgehen': 5505, 'ausgestreckter': 5506, 'ausgetragen': 5507, 'auspackt': 5508, 'ausrichten': 5509, 'ausruhen': 5510, 'aussteigen': 5511, 'ausstellungsraum': 5512, 'auszeit': 5513, 'auszuprobieren': 5514, 'autodach': 5515, 'autofahrer': 5516, 'autofenster': 5517, 'automaten': 5518, 'autor': 5519, 'außenanlage': 5520, 'außer': 5521, 'backsteinweg': 5522, 'badeshorts': 5523, 'badezeug': 5524, 'badminton': 5525, 'badmintonspieler': 5526, 'bagel-laden': 5527, 'bahnarbeiter': 5528, 'bahngleis': 5529, 'bahnhofs': 5530, 'bahnhofsgebäude': 5531, 'bahnrennen': 5532, 'bahnschienen': 5533, 'bahntunnel': 5534, 'ballerinas': 5535, 'ballettklasse': 5536, 'balletttänzer': 5537, 'balletttänzerinnen': 5538, 'ballonfiguren': 5539, 'ballontier': 5540, 'bande': 5541, 'bandmitglied': 5542, 'banjospieler': 5543, 'barbecue': 5544, 'barkeeperin': 5545, 'baseballcap': 5546, 'baseballhandschuh': 5547, 'baseballstadion': 5548, 'baseballteam': 5549, 'baseballuniform': 5550, 'basketballkorbs': 5551, 'basketballmannschaft': 5552, 'basketballspielerin': 5553, 'bassist': 5554, 'batik-muster': 5555, 'batik-oberteil': 5556, 'batman': 5557, 'batter': 5558, 'bauchtänzerin': 5559, 'bauern': 5560, 'baugerät': 5561, 'baumaschine': 5562, 'baumbestandenen': 5563, 'baumbewachsenen': 5564, 'baumgrenze': 5565, 'baumlosen': 5566, 'baumreichen': 5567, 'baumstamms': 5568, 'bauten': 5569, 'be-': 5570, 'beamter': 5571, 'beanie': 5572, 'bearbeiten': 5573, 'bears': 5574, 'becherglas': 5575, 'bechern': 5576, 'bedecktem': 5577, 'bedruckter': 5578, 'beeindrucken': 5579, 'beeindruckenden': 5580, 'befindliche': 5581, 'befreien': 5582, 'befördern': 5583, 'begeistertes': 5584, 'beginnender': 5585, 'begleitung': 5586, 'behandelt': 5587, 'behinderte': 5588, 'beiderseits': 5589, 'beige': 5590, 'beigebracht': 5591, 'beigefarben': 5592, 'beigem': 5593, 'beil': 5594, 'beinhaltet': 5595, 'beispiel': 5596, 'bekannten': 5597, 'bekannter': 5598, 'bekleideten': 5599, 'bekleidetes': 5600, 'beladenes': 5601, 'belag': 5602, 'belegten': 5603, 'beleuchteter': 5604, 'beleuchtetes': 5605, 'bellt': 5606, 'bemalen': 5607, 'bemaltem': 5608, 'benzin': 5609, 'benötigt': 5610, 'beobachter': 5611, 'bergauf': 5612, 'berggipfeln': 5613, 'bergkette': 5614, 'bergspitze': 5615, 'bergwand': 5616, 'bergwanderweg': 5617, 'bergweg': 5618, 'berieselungsanlage': 5619, 'berittener': 5620, 'berlin': 5621, 'bernsteinfarbener': 5622, 'berät': 5623, 'berühmten': 5624, 'beschließen': 5625, 'beschmierte': 5626, 'beschneidet': 5627, 'beschreibt': 5628, 'beschreibung': 5629, 'beschädigten': 5630, 'beschäftigter': 5631, 'beseitigen': 5632, 'besetztes': 5633, 'besichtigen': 5634, 'besonderen': 5635, 'besonders': 5636, 'besprechung': 5637, 'bespricht': 5638, 'besprüht': 5639, 'besseren': 5640, 'bestaunen': 5641, 'besteck': 5642, 'besten': 5643, 'bestimmte': 5644, 'bestimmten': 5645, 'besucher': 5646, 'besuchern': 5647, 'beteiligen': 5648, 'betonblock': 5649, 'betongebäude': 5650, 'betonierten': 5651, 'betonkonstruktion': 5652, 'betonsperren': 5653, 'betreiben': 5654, 'betrieben': 5655, 'betrunken': 5656, 'bettdecke': 5657, 'betten': 5658, 'bevölkerten': 5659, 'bewachsenen': 5660, 'bewaffneten': 5661, 'bewegungslos': 5662, 'bewirft': 5663, 'beworfen': 5664, 'bewölkter': 5665, 'biene': 5666, 'biergarten': 5667, 'big': 5668, 'bikes': 5669, 'bikinioberteile': 5670, 'bilderbuch': 5671, 'bilds': 5672, 'bill': 5673, 'bin': 5674, 'birthday': 5675, 'bisschen': 5676, 'bissen': 5677, 'blasinstrument': 5678, 'blasinstrumente': 5679, 'blasinstrumenten': 5680, 'blau-gelber': 5681, 'blau-weiße': 5682, 'blau-weißem': 5683, 'blau-weißes': 5684, 'blech': 5685, 'bleistiftrock': 5686, 'blondine': 5687, 'blumengeschäft': 5688, 'blumenladen': 5689, 'blumentöpfe': 5690, 'blutender': 5691, 'blühender': 5692, 'blüte': 5693, 'blütenblätter': 5694, 'boa': 5695, 'boards': 5696, 'bockendes': 5697, 'bodenball': 5698, 'bodennähe': 5699, 'body': 5700, 'bodyboard': 5701, 'bodybuilder': 5702, 'bodysuit': 5703, 'bohnen': 5704, 'bongos': 5705, 'boogie': 5706, 'boogieboard': 5707, 'bootsdeck': 5708, 'bootsfahrern': 5709, 'bordercollie': 5710, 'boss': 5711, 'bottich': 5712, 'boutique': 5713, 'bowlt': 5714, 'box': 5715, 'boxershorts': 5716, 'boxring': 5717, 'boxt': 5718, 'boy': 5719, 'boys': 5720, 'brand': 5721, 'braucht': 5722, 'braun-schwarz-weißer': 5723, 'braun-schwarze': 5724, 'braunschwarzer': 5725, 'brautpaar': 5726, 'brautstrauß': 5727, 'breakdancer': 5728, 'breite': 5729, 'brennen': 5730, 'brennendes': 5731, 'bretter': 5732, 'brezeln': 5733, 'brieftasche': 5734, 'britischen': 5735, 'brokkoli': 5736, 'brotlaib': 5737, 'brotstand': 5738, 'brusttief': 5739, 'brötchen': 5740, 'brüder': 5741, 'brünetter': 5742, 'brüsten': 5743, 'brüstung': 5744, 'buches': 5745, 'buchladen': 5746, 'buckelndes': 5747, 'buckelt': 5748, 'buddeln': 5749, 'bukett': 5750, 'bulldogge': 5751, 'bummelt': 5752, 'buntstiften': 5753, 'burg': 5754, 'burger': 5755, 'burgunderfarbener': 5756, 'burka': 5757, 'busfahrer': 5758, 'busfenster': 5759, 'busse': 5760, 'bussen': 5761, 'button-down-hemd': 5762, 'bäcker': 5763, 'bäckt': 5764, 'bänder': 5765, 'bären': 5766, 'bäuchlings': 5767, 'bögen': 5768, 'büchertasche': 5769, 'bühnenlicht': 5770, 'bühnenmitte': 5771, 'bündeln': 5772, 'bürgerkriegs': 5773, 'bürgerstein': 5774, 'büroarbeit': 5775, 'bürogebäudes': 5776, 'cadillac': 5777, 'campen': 5778, 'camper': 5779, 'campingausrüstung': 5780, 'campingstuhl': 5781, 'campingstühlen': 5782, 'canyon': 5783, 'caprihosen': 5784, 'capris': 5785, 'care': 5786, 'cellospieler': 5787, 'center': 5788, 'champagner': 5789, 'cheerleader-gruppe': 5790, 'cheerleader-outfit': 5791, 'chef': 5792, 'chefkoch': 5793, 'chefs': 5794, 'chevrolet': 5795, 'children': 5796, 'chinese': 5797, 'chinesen': 5798, 'chirurgischen': 5799, 'circus': 5800, 'clear': 5801, 'cocktails': 5802, 'cola': 5803, 'college-studenten': 5804, 'collegestudenten': 5805, 'comicfigur': 5806, 'company': 5807, 'computers': 5808, 'cool': 5809, 'coolen': 5810, 'corgi': 5811, 'cowboy-hut': 5812, 'cowboy-kleidung': 5813, 'cowboyhüte': 5814, 'cowgirl-hut': 5815, 'crew': 5816, 'crocs': 5817, 'cupcakes': 5818, 'dachdecker': 5819, 'dachziegel': 5820, 'damenunterwäsche': 5821, 'danebenstehen': 5822, 'dann': 5823, 'dar': 5824, 'dargestellt': 5825, 'darth': 5826, 'dasteht': 5827, 'davidstern': 5828, 'de': 5829, 'dead': 5830, 'deckeln': 5831, 'deere': 5832, 'deere-traktor': 5833, 'defense': 5834, 'defensive': 5835, 'dehnen': 5836, 'delfin': 5837, 'deli': 5838, 'demselben': 5839, 'denselben': 5840, 'design': 5841, 'desserts': 5842, 'dichten': 5843, 'dickem': 5844, 'dient': 5845, 'dinosaurier': 5846, 'dir': 5847, 'disney': 5848, 'display': 5849, 'diverse': 5850, 'diversen': 5851, 'djs': 5852, 'dogge': 5853, 'dojo': 5854, 'doktor': 5855, 'dominiert': 5856, 'doppeldeckerbus': 5857, 'drache': 5858, 'drachenflieger': 5859, 'dramatisch': 5860, 'drauf': 5861, 'dreckige': 5862, 'drehen': 5863, 'dreifarbiger': 5864, 'dreirädern': 5865, 'driftet': 5866, 'drittes': 5867, 'ds': 5868, 'dummes': 5869, 'dung': 5870, 'dunkelgrüner': 5871, 'dunkle': 5872, 'dunkleren': 5873, 'durchnässt': 5874, 'durchquert': 5875, 'durchschnittlich': 5876, 'durchsichtige': 5877, 'durchsichtigen': 5878, 'durchsuchen': 5879, 'durchtrennt': 5880, 'dösen': 5881, 'döst': 5882, 'dünnes': 5883, 'e': 5884, 'ebenso': 5885, 'ehepaar': 5886, 'eichhörnchen': 5887, 'eien': 5888, 'eiffelturm': 5889, 'eifrig': 5890, 'eilt': 5891, 'ein-': 5892, 'einbruch': 5893, 'eindruck': 5894, 'einfährt': 5895, 'eingebuddelt': 5896, 'eingehüllt': 5897, 'eingelassenen': 5898, 'eingepackt': 5899, 'eingezäunte': 5900, 'einheimische': 5901, 'einheimischen': 5902, 'einhändigen': 5903, 'einkaufskorb': 5904, 'einkaufstüte': 5905, 'einkaufszentrums': 5906, 'einsatzkräfte': 5907, 'einstellt': 5908, 'einzelnen': 5909, 'einzelpersonen': 5910, 'einzusteigen': 5911, 'eisenstange': 5912, 'eisfläche': 5913, 'eisigen': 5914, 'eiskunstläufer': 5915, 'eisläufer': 5916, 'eistee': 5917, 'eiszapfen': 5918, 'ekstatisch': 5919, 'elefant': 5920, 'eleganten': 5921, 'elektrische': 5922, 'elektrogerät': 5923, 'elektronisches': 5924, 'elementary': 5925, 'ellbogen': 5926, 'ellenbogen': 5927, 'elmo-motiv': 5928, 'elmo-puppe': 5929, 'em': 5930, 'empfang': 5931, 'end': 5932, 'enden': 5933, 'engelskostümen': 5934, 'engelsstatue': 5935, 'englische': 5936, 'entgehen': 5937, 'entleert': 5938, 'entlädt': 5939, 'entscheidung': 5940, 'entschlossen': 5941, 'entsetzt': 5942, 'entsorgt': 5943, 'entwirft': 5944, 'entwirren': 5945, 'erdbeere': 5946, 'erforschen': 5947, 'erfrischenden': 5948, 'erhöht': 5949, 'erhöhte': 5950, 'erinnern': 5951, 'erkennen': 5952, 'erklären': 5953, 'erlangen': 5954, 'erledigt': 5955, 'ernstem': 5956, 'erobern': 5957, 'erregt': 5958, 'errichteten': 5959, 'erschöpft': 5960, 'erstellt': 5961, 'erwachsenes': 5962, 'erzeugt': 5963, 'erörtert': 5964, 'espresso': 5965, 'essenstisch': 5966, 'essenszubereitung': 5967, 'esstischen': 5968, 'ethnischen': 5969, 'ethnischer': 5970, 'etliche': 5971, 'europäischen': 5972, 'europäischer': 5973, 'exponat': 5974, 'express': 5975, 'eyeliner': 5976, 'fachkräfte': 5977, 'faden': 5978, 'fahrbahn': 5979, 'fahrersitz': 5980, 'fahrgast': 5981, 'fahrrad-': 5982, 'fahrradfahren': 5983, 'fahrradhelme': 5984, 'fahrradhelmen': 5985, 'fahrradkleidung': 5986, 'fahrradmechaniker': 5987, 'fahrradrahmen': 5988, 'fahrradständer': 5989, 'fahrradtaxi': 5990, 'fahrradtour': 5991, 'falke': 5992, 'falken': 5993, 'fallschirmsegeln': 5994, 'falsch': 5995, 'falsche': 5996, 'falten': 5997, 'faltet': 5998, 'familien': 5999, 'familienmitglieder': 6000, 'fanghandschuh': 6001, 'farbdose': 6002, 'farbenprächtigen': 6003, 'farbspritzern': 6004, 'farbwalze': 6005, 'farm': 6006, 'farn': 6007, 'fassen': 6008, 'fau': 6009, 'federhut': 6010, 'fee': 6011, 'fehlt': 6012, 'feierlicher': 6013, 'feiertage': 6014, 'feil': 6015, 'felder': 6016, 'feldern': 6017, 'feldhockeyspieler': 6018, 'felsblocks': 6019, 'fensterfront': 6020, 'fensters': 6021, 'ferkel': 6022, 'ferngesteuerten': 6023, 'fersen': 6024, 'fertiggestellten': 6025, 'festgehalten': 6026, 'festgemacht': 6027, 'festlich': 6028, 'festsaal': 6029, 'festumzugs': 6030, 'festzuhalten': 6031, 'fetzen': 6032, 'feuchtgebiet': 6033, 'feuerball': 6034, 'feuerhydranten': 6035, 'feuern': 6036, 'feuers': 6037, 'feuerwehr': 6038, 'feuerwehrangehöriger': 6039, 'feuerwehrhelm': 6040, 'feuerwehrmitarbeiter': 6041, 'feuerwehrschlauch': 6042, 'feuerwerkskörper': 6043, 'filmcrew': 6044, 'filmplakat': 6045, 'fingernägeln': 6046, 'fingerspitzen': 6047, 'fire': 6048, 'fischernetze': 6049, 'fischzug': 6050, 'fitte': 6051, 'flankiert': 6052, 'flattern': 6053, 'flattert': 6054, 'flauschige': 6055, 'fleißig': 6056, 'flickt': 6057, 'fliederfarbenen': 6058, 'fliederfarbener': 6059, 'fliegender': 6060, 'fliegenfischen': 6061, 'fließenden': 6062, 'flucht': 6063, 'flugbegleitung': 6064, 'flugblatt': 6065, 'fluggäste': 6066, 'flussabwärts': 6067, 'flyer': 6068, 'flößen': 6069, 'flüstern': 6070, 'flüstert': 6071, 'fontänen': 6072, 'football-coach': 6073, 'footballs': 6074, 'footballteams': 6075, 'force': 6076, 'formalitäten': 6077, 'formation': 6078, 'formelle': 6079, 'formiert': 6080, 'fort': 6081, 'fotoalbum': 6082, 'fototermin': 6083, 'fotovorlage': 6084, 'foyer': 6085, 'frack': 6086, 'fragen': 6087, 'francisco': 6088, 'frauengruppe': 6089, 'freibad': 6090, 'freie': 6091, 'freies': 6092, 'freiluftbühne': 6093, 'freiwurf': 6094, 'fremde': 6095, 'fremdländischer': 6096, 'frequentierten': 6097, 'fressen': 6098, 'freue': 6099, 'freundesgruppe': 6100, 'freundlich': 6101, 'frisbee-spiel': 6102, 'frisbees': 6103, 'friseurladen': 6104, 'friseurstuhl': 6105, 'frisst': 6106, 'frog': 6107, 'front': 6108, 'frontscheibe': 6109, 'frucht': 6110, 'frühen': 6111, 'frühlingstag': 6112, 'frühstück': 6113, 'fußballer': 6114, 'fußballs': 6115, 'fußballspielern': 6116, 'fußbrücke': 6117, 'fußbälle': 6118, 'fußgängerüberwegs': 6119, 'fußspuren': 6120, 'fäden': 6121, 'fähigkeiten': 6122, 'fässern': 6123, 'fäustlingen': 6124, 'föhn': 6125, 'förderband': 6126, 'förmlich': 6127, 'fügt': 6128, 'führer': 6129, 'fülle': 6130, 'gangs': 6131, 'gap-geschäft': 6132, 'garnelen': 6133, 'gart': 6134, 'gartenarbeit': 6135, 'gasgrill': 6136, 'gast': 6137, 'gastronomiebereich': 6138, 'gebadet': 6139, 'gebeugten': 6140, 'gebeugter': 6141, 'gebiets': 6142, 'gebilde': 6143, 'gebildet': 6144, 'geblieben': 6145, 'gebogen': 6146, 'gebräunte': 6147, 'gebäudekomplex': 6148, 'gebüsch': 6149, 'gedeckt': 6150, 'gedicht': 6151, 'gedreht': 6152, 'geeigneten': 6153, 'gefaltet': 6154, 'gefalteten': 6155, 'gefertigt': 6156, 'gefleckte': 6157, 'gefleckten': 6158, 'geflügel': 6159, 'gefährt': 6160, 'gefälle': 6161, 'gefärbter': 6162, 'gefüllte': 6163, 'gegangen': 6164, 'gegnerin': 6165, 'gegnern': 6166, 'gegners': 6167, 'gehaltenen': 6168, 'gehe': 6169, 'gehege': 6170, 'geheimnisvoller': 6171, 'gehgestell': 6172, 'gehört': 6173, 'geigenspieler': 6174, 'geklettert': 6175, 'geknöpften': 6176, 'gekrönt': 6177, 'gekühlten': 6178, 'gelangweilt': 6179, 'gelassen': 6180, 'gelbbraunem': 6181, 'geländefahrer': 6182, 'geländefahrzeugs': 6183, 'gemauerten': 6184, 'gemessen': 6185, 'gemischte': 6186, 'gemischter': 6187, 'gemustertem': 6188, 'gemähte': 6189, 'gemäldes': 6190, 'gemüseauslage': 6191, 'geneigtem': 6192, 'geneigten': 6193, 'genommen': 6194, 'gepolsterte': 6195, 'gepolsterter': 6196, 'gepäcktasche': 6197, 'gerahmte': 6198, 'gereicht': 6199, 'gerichteten': 6200, 'geringer': 6201, 'geräte': 6202, 'geräts': 6203, 'gescheckter': 6204, 'geschenken': 6205, 'geschenkpapier': 6206, 'geschieht': 6207, 'geschleudert': 6208, 'geschlungen': 6209, 'geschnittenen': 6210, 'geschnitzten': 6211, 'geschäfte': 6212, 'geschäftsviertel': 6213, 'geselligen': 6214, 'gesenkten': 6215, 'gesichtsfarbe': 6216, 'gesprüht': 6217, 'gestalt': 6218, 'getreten': 6219, 'getrocknet': 6220, 'getönten': 6221, 'gewalt': 6222, 'gewebe': 6223, 'gewebten': 6224, 'gewichte': 6225, 'gewundenen': 6226, 'gewürze': 6227, 'gezeichneten': 6228, 'gipfeln': 6229, 'gips': 6230, 'gitarrenkoffer': 6231, 'gitarrespielen': 6232, 'gitarristin': 6233, 'glasbehälter': 6234, 'glasbläser': 6235, 'glasflasche': 6236, 'glasflaschen': 6237, 'glasgebäudes': 6238, 'glasscheibe': 6239, 'glatten': 6240, 'glatzköpfige': 6241, 'glitzernden': 6242, 'glocke': 6243, 'goalie': 6244, 'gokart-fahrer': 6245, 'goldene': 6246, 'goldfarbenes': 6247, 'goldgelbe': 6248, 'goldschmuck': 6249, 'golfen': 6250, 'grabenbagger': 6251, 'grand': 6252, 'grasbahn': 6253, 'grasbedeckten': 6254, 'grasen': 6255, 'grashügel': 6256, 'grass': 6257, 'grasweg': 6258, 'grillrestaurant': 6259, 'grinsender': 6260, 'grob': 6261, 'großartige': 6262, 'großartigen': 6263, 'großeltern': 6264, 'großmarkt': 6265, 'großvater': 6266, 'grundstück': 6267, 'grün-blauem': 6268, 'grün-schwarzen': 6269, 'grün-weiße': 6270, 'grün-weißem': 6271, 'gummiball': 6272, 'gummihammer': 6273, 'gummischuhen': 6274, 'gurtzeug': 6275, 'guter': 6276, 'gänse': 6277, 'gässchen': 6278, 'hab': 6279, 'hacke': 6280, 'hafenbecken': 6281, 'hafenbeckens': 6282, 'halben': 6283, 'halbhohen': 6284, 'halbnackte': 6285, 'halbwüchsiger': 6286, 'hallenlaufbahn': 6287, 'halloween': 6288, 'halsbändern': 6289, 'halstüchern': 6290, 'haltegurt': 6291, 'handarbeit': 6292, 'handbewegung': 6293, 'handgemachten': 6294, 'handmixer': 6295, 'handtrommel': 6296, 'handtücher': 6297, 'hantiert': 6298, 'harlem': 6299, 'hartholzboden': 6300, 'hasen': 6301, 'hasenkostüm': 6302, 'hasenohren': 6303, 'haube': 6304, 'hausparty': 6305, 'haustür': 6306, 'hawaiianischer': 6307, 'hawaiihemd': 6308, 'head': 6309, 'hebebühne': 6310, 'hebevorrichtung': 6311, 'heck': 6312, 'hecken': 6313, 'heckklappe': 6314, 'heels': 6315, 'heimatlandes': 6316, 'heimischen': 6317, 'heimweg': 6318, 'heiße': 6319, 'heißes': 6320, 'helikopter': 6321, 'hellblaues': 6322, 'helles': 6323, 'hellgrauen': 6324, 'hellgrüner': 6325, 'hellhäutig': 6326, 'hellhäutiges': 6327, 'hellorangefarbenen': 6328, 'hellrosafarbenen': 6329, 'hellrotem': 6330, 'hellrotes': 6331, 'herabgelassen': 6332, 'herabhängenden': 6333, 'herannahenden': 6334, 'heranrollenden': 6335, 'herausgestreckter': 6336, 'herausholt': 6337, 'herbstlaub': 6338, 'herbstlichen': 6339, 'here': 6340, 'hereinbrechenden': 6341, 'hergeht': 6342, 'hergestellt': 6343, 'herrlich': 6344, 'herrscht': 6345, 'herstellung': 6346, 'herumlaufen': 6347, 'herumläuft': 6348, 'heruntergefallen': 6349, 'heruntergefallenen': 6350, 'heruntergelassen': 6351, 'herunterkommt': 6352, 'herzförmigen': 6353, 'herzschlag': 6354, 'herzustellen': 6355, 'heuballen': 6356, 'high-five': 6357, 'highschool-basketballspieler': 6358, 'hinaufgehen': 6359, 'hindern': 6360, 'hindernispfad': 6361, 'hingefallen': 6362, 'hinterlässt': 6363, 'hinuntergehen': 6364, 'hinunterrutscht': 6365, 'hippie': 6366, 'hirtenhund': 6367, 'hispanisch': 6368, 'historische': 6369, 'hitze': 6370, 'hochdruckreiniger': 6371, 'hochgehalten': 6372, 'hochgeschobener': 6373, 'hochklettern': 6374, 'hochkommt': 6375, 'hochsteigt': 6376, 'hochzeitsfoto': 6377, 'hochzeitsfotos': 6378, 'hochzeitskuchen': 6379, 'hockern': 6380, 'hockey-goalie': 6381, 'hockeyfeld': 6382, 'hockeyschläger': 6383, 'hockeyschlägern': 6384, 'hockeyspielern': 6385, 'hockeytorhüter': 6386, 'holzbalken': 6387, 'holzblöcke': 6388, 'holzbrücke': 6389, 'holzdeck': 6390, 'holzfußboden': 6391, 'holzfäller': 6392, 'holzgeländer': 6393, 'holzhaus': 6394, 'holzhütte': 6395, 'holzkiste': 6396, 'holzkisten': 6397, 'holzklötzen': 6398, 'holzkreuz': 6399, 'holzleiter': 6400, 'holzmöbeln': 6401, 'holzpfosten': 6402, 'holzstamm': 6403, 'holzsteg': 6404, 'holzstruktur': 6405, 'holzstäbe': 6406, 'holzstück': 6407, 'holzstücken': 6408, 'holztreppe': 6409, 'holzveranda': 6410, 'holzwand': 6411, 'hoop': 6412, 'hoops': 6413, 'hopper': 6414, 'hornspieler': 6415, 'hosentasche': 6416, 'hosentaschen': 6417, 'hugs': 6418, 'hunderennbahn': 6419, 'hundeschlitten': 6420, 'hunds': 6421, 'hunt': 6422, 'händlern': 6423, 'hängende': 6424, 'hüften': 6425, 'hügeln': 6426, 'hügels': 6427, 'hühner': 6428, 'hündin': 6429, 'hütchen': 6430, 'hütet': 6431, 'hütten': 6432, 'ice': 6433, 'iglu': 6434, 'imbiss': 6435, 'imbissbude': 6436, 'imbisswagen': 6437, 'immer': 6438, 'inderinnen': 6439, 'indianischen': 6440, 'informell': 6441, 'informellen': 6442, 'inline-skater': 6443, 'inline-skates': 6444, 'innenräumen': 6445, 'innenstadtbereich': 6446, 'insassen': 6447, 'insekt': 6448, 'insekten': 6449, 'interessant': 6450, 'interviewen': 6451, 'iowa': 6452, 'ipad': 6453, 'irgendeinen': 6454, 'irgendeines': 6455, 'irgendwelche': 6456, 'irgendwohin': 6457, 'irokesenhaarschnitt': 6458, 'it': 6459, 'italien': 6460, 'jahr': 6461, 'jalousien': 6462, 'james': 6463, 'japanerinnen': 6464, 'japanische': 6465, 'japanisches': 6466, 'jeans-shorts': 6467, 'jeansanzug': 6468, 'jede': 6469, 'jeden': 6470, 'jerseys': 6471, 'jerusalem': 6472, 'jim': 6473, 'joe': 6474, 'jongleur': 6475, 'jump': 6476, 'jungenmannschaft': 6477, 'jury': 6478, 'juweliergeschäft': 6479, 'jüdische': 6480, 'jüdischen': 6481, 'jüdischer': 6482, 'kabinen': 6483, 'kaffeehaus': 6484, 'kahlem': 6485, 'kahlrasiertem': 6486, 'kais': 6487, 'kalifornien': 6488, 'kaltem': 6489, 'kameracrew': 6490, 'kameraobjektiv': 6491, 'kampfanzügen': 6492, 'kampfsportturnier': 6493, 'kampfsportveranstaltung': 6494, 'kanals': 6495, 'kanne': 6496, 'kaputter': 6497, 'karate-klasse': 6498, 'karatekampf': 6499, 'karateturnier': 6500, 'karge': 6501, 'kartoffelchip': 6502, 'kasino': 6503, 'kastanienbraunes': 6504, 'katzenbabies': 6505, 'katzenbaby': 6506, 'kauen': 6507, 'kawasaki': 6508, 'kegelförmigen': 6509, 'kegelhut': 6510, 'keks': 6511, 'kennzeichnet': 6512, 'kennzeichnung': 6513, 'kettenkarussell': 6514, 'khaki-hosen': 6515, 'kieselsteine': 6516, 'kieshügel': 6517, 'kiesstrand': 6518, 'kimono': 6519, 'kinderbett': 6520, 'kinderbuch': 6521, 'kinderschaukel': 6522, 'kindertisch': 6523, 'king': 6524, 'kiosk': 6525, 'kippt': 6526, 'kirchenchor': 6527, 'kirmesattraktion': 6528, 'kissenschlacht': 6529, 'kitchenaid': 6530, 'kitesurfer': 6531, 'kitteln': 6532, 'kitzelt': 6533, 'klare': 6534, 'klassischen': 6535, 'kleidungsstück': 6536, 'kleinbusses': 6537, 'kleinkinds': 6538, 'kliff': 6539, 'klimpert': 6540, 'klippen': 6541, 'klub': 6542, 'klötze': 6543, 'knapp': 6544, 'knielangen': 6545, 'kniender': 6546, 'kniestrümpfe': 6547, 'knietief': 6548, 'knietiefes': 6549, 'knipst': 6550, 'knöpfe': 6551, 'kochjacke': 6552, 'kochmütze': 6553, 'kochtopf': 6554, 'koffern': 6555, 'kombis': 6556, 'komisch': 6557, 'komischer': 6558, 'komisches': 6559, 'kommunikationsgerät': 6560, 'kongress': 6561, 'konserven': 6562, 'konzertaufführung': 6563, 'kopf-an-kopf-rennen': 6564, 'kopfstand': 6565, 'kopie': 6566, 'korbs': 6567, 'koreanische': 6568, 'korken': 6569, 'korpulentes': 6570, 'kosten': 6571, 'kostenlose': 6572, 'kostümierter': 6573, 'krankenhauskleidung': 6574, 'krankenpfleger': 6575, 'kreativ': 6576, 'kreischt': 6577, 'kreuzen': 6578, 'krieg': 6579, 'kristallklaren': 6580, 'kräftige': 6581, 'krügen': 6582, 'kugelbad': 6583, 'kultur': 6584, 'kulturellen': 6585, 'kundgebung': 6586, 'kunstartikeln': 6587, 'kunsthandwerk': 6588, 'kunstprojekt': 6589, 'kunststoffbehälter': 6590, 'kunststofffolie': 6591, 'kunststofftasse': 6592, 'kunstvoll': 6593, 'kurven': 6594, 'kurzes': 6595, 'kätzchen': 6596, 'könnte': 6597, 'küchenmaschine': 6598, 'küchenutensilien': 6599, 'kühe': 6600, 'kühlbox': 6601, 'kühlboxen': 6602, 'kühlen': 6603, 'künstlerische': 6604, 'künstlerischen': 6605, 'künstlichem': 6606, 'kürbissen': 6607, 'kürzlich': 6608, 'küstenwache': 6609, 'laborant': 6610, 'laborkitteln': 6611, 'labradoodle': 6612, 'lachenden': 6613, 'lachsfarbenen': 6614, 'lacrosse-spieler': 6615, 'lacrossespieler': 6616, 'ladenfenster': 6617, 'ladengeschäft': 6618, 'lagerhalle': 6619, 'lagerraum': 6620, 'laken': 6621, 'lakers': 6622, 'lametta': 6623, 'landungssteg': 6624, 'landwirt': 6625, 'landwirtschaftlichen': 6626, 'lang': 6627, 'langgeht': 6628, 'langhaarigen': 6629, 'langlauf': 6630, 'langärmeligem': 6631, 'langärmligem': 6632, 'las': 6633, 'lateinamerikaner': 6634, 'lateinamerikanischen': 6635, 'laternenpfahl': 6636, 'latexhandschuhen': 6637, 'lattenzaun': 6638, 'latzhose': 6639, 'latzhosen': 6640, 'laubwerk': 6641, 'laufenden': 6642, 'laufgitter': 6643, 'laufhosen': 6644, 'laufkleidung': 6645, 'laufoberteil': 6646, 'laufschuhen': 6647, 'laufstrecke': 6648, 'lauscht': 6649, 'laut': 6650, 'lautsprechern': 6651, 'le': 6652, 'leadsänger': 6653, 'lebendigen': 6654, 'lebens': 6655, 'lebensmittelbereich': 6656, 'lebensmittelladen': 6657, 'lebhafte': 6658, 'lebron': 6659, 'leckerbissen': 6660, 'leckeren': 6661, 'lederoberteil': 6662, 'lederschuhe': 6663, 'lederstühlen': 6664, 'lederweste': 6665, 'leeres': 6666, 'leerstehenden': 6667, 'lehnstuhl': 6668, 'leht': 6669, 'leitplanken': 6670, 'leitung': 6671, 'leitungen': 6672, 'lenken': 6673, 'lesenden': 6674, 'leuchtendem': 6675, 'leuchtender': 6676, 'leuchtreklame': 6677, 'leuchtturm': 6678, 'lichts': 6679, 'lichtung': 6680, 'lieben': 6681, 'liefern': 6682, 'life': 6683, 'lift': 6684, 'liga': 6685, 'lilafarbenem': 6686, 'lilane': 6687, 'limo': 6688, 'limonaden': 6689, 'lineal': 6690, 'linkes': 6691, 'linkshändiger': 6692, 'linse': 6693, 'linsen': 6694, 'livekonzert': 6695, 'lohfarbenen': 6696, 'lokomotive': 6697, 'lokomotiven': 6698, 'lolli': 6699, 'londoner': 6700, 'louvre': 6701, 'luftballontiere': 6702, 'luftmatratzen': 6703, 'lungern': 6704, 'lungert': 6705, 'lustiges': 6706, 'lutscher': 6707, 'lutscht': 6708, 'ländliche': 6709, 'ländlicher': 6710, 'längsstreifen': 6711, 'lässig': 6712, 'lätzchen': 6713, 'löffeln': 6714, 'löwenzahnblüte': 6715, 'lümmelt': 6716, 'm': 6717, 'mac-computer': 6718, 'mach': 6719, 'magazin': 6720, 'mahl': 6721, 'mahlzeiten': 6722, 'majestätischen': 6723, 'makeup': 6724, 'malerischen': 6725, 'mammutbaum': 6726, 'mandel': 6727, 'mannequin': 6728, 'manns': 6729, 'marathonläufern': 6730, 'marathons': 6731, 'marineblau': 6732, 'marineblauer': 6733, 'marker': 6734, 'markierung': 6735, 'marmor': 6736, 'maschendraht': 6737, 'maskierter': 6738, 'maskottchen': 6739, 'masse': 6740, 'massiert': 6741, 'matador': 6742, 'matrosen': 6743, 'matrosenanzug': 6744, 'medaillen': 6745, 'meeresfrüchte': 6746, 'meeresstrand': 6747, 'meereswellen': 6748, 'mehrfamilienhaus': 6749, 'mehrfarbiger': 6750, 'meist': 6751, 'meißel': 6752, 'menschenleeren': 6753, 'menschenmassen': 6754, 'menschliche': 6755, 'metallabsperrung': 6756, 'metallarbeiter': 6757, 'metallbank': 6758, 'metallbauwerk': 6759, 'metalldach': 6760, 'metallenen': 6761, 'metallgebilde': 6762, 'metallgerüst': 6763, 'metallkiste': 6764, 'metallpfosten': 6765, 'metallrahmen': 6766, 'metallrohr': 6767, 'metallskulptur': 6768, 'metallstruktur': 6769, 'metallstuhl': 6770, 'metalltor': 6771, 'metzger': 6772, 'metzgerei': 6773, 'mexiko': 6774, 'michael': 6775, 'michigan': 6776, 'miene': 6777, 'mike': 6778, 'mikroskopen': 6779, 'militärhosen': 6780, 'militärischen': 6781, 'minirock': 6782, 'minnesota': 6783, 'mir': 6784, 'mischen': 6785, 'mitfahrgelegenheit': 6786, 'mitgliedern': 6787, 'mittelgroße': 6788, 'mittelpunkt': 6789, 'mittlerem': 6790, 'mixer': 6791, 'modelleisenbahn': 6792, 'modelliert': 6793, 'moderner': 6794, 'modernes': 6795, 'modische': 6796, 'modischer': 6797, 'mohikaner': 6798, 'mole': 6799, 'molliges': 6800, 'monopoly-spiel': 6801, 'monument': 6802, 'moosbedeckten': 6803, 'morgenrock': 6804, 'motiv': 6805, 'motorradfahren': 6806, 'motorradfahrerin': 6807, 'motorradhelm': 6808, 'motorradhelme': 6809, 'motorrads': 6810, 'motorschlitten': 6811, 'mountainbike-fahrer': 6812, 'muffins': 6813, 'musikalische': 6814, 'musikausrüstung': 6815, 'musikerin': 6816, 'musiziert': 6817, 'muskeln': 6818, 'muslimische': 6819, 'muslimischer': 6820, 'mustang': 6821, 'mädchengruppe': 6822, 'mädchenmannschaften': 6823, 'männe': 6824, 'männerteam': 6825, 'möbelgeschäft': 6826, 'möglich': 6827, 'müllhaufen': 6828, 'mülltonnen': 6829, 'münzfernsprecher': 6830, 'münztelefon': 6831, 'mürrisch': 6832, 'nachbarn': 6833, 'nachdenken': 6834, 'nachdenklich': 6835, 'nachgehen': 6836, 'nachhauseweg': 6837, 'nachricht': 6838, 'nachrichtensprecher': 6839, 'nacken': 6840, 'nadelstreifenhemd': 6841, 'nagelpistole': 6842, 'nahrung': 6843, 'nahöstlicher': 6844, 'namensschildern': 6845, 'nassgespritzt': 6846, 'naturpfad': 6847, 'naturprodukten': 6848, 'needle': 6849, 'neonfarbenen': 6850, 'neongelben': 6851, 'neongrün': 6852, 'netzstrümpfen': 6853, 'neugeborene': 6854, 'neugeborenen': 6855, 'neugieriges': 6856, 'new-york-hut': 6857, 'niedrig': 6858, 'niemand': 6859, 'nische': 6860, 'no': 6861, 'nonnentracht': 6862, 'normaler': 6863, 'not': 6864, 'notebook': 6865, 'notebooks': 6866, 'notenblatt': 6867, 'notenblättern': 6868, 'notiz': 6869, 'notre': 6870, 'nuckelt': 6871, 'nächstes': 6872, 'nächtliche': 6873, 'nächtliches': 6874, 'nägel': 6875, 'oakland': 6876, 'obama': 6877, 'oberleitungsfahrzeug': 6878, 'objektiv': 6879, 'ohrenschützern': 6880, 'ohrhörer': 6881, 'ohrringen': 6882, 'ohrschützern': 6883, 'ohrstöpseln': 6884, 'olympische': 6885, 'open-air-festival': 6886, 'open-air-konzert': 6887, 'operiert': 6888, 'opfer': 6889, 'orange-blauen': 6890, 'orange-grauen': 6891, 'orangefarben': 6892, 'orchesters': 6893, 'ordner': 6894, 'organgefarbenen': 6895, 'organisieren': 6896, 'orgel': 6897, 'orioles': 6898, 'orten': 6899, 'out': 6900, 'outdoor-bekleidung': 6901, 'pabst': 6902, 'pain': 6903, 'paintball': 6904, 'pakete': 6905, 'palmwedeln': 6906, 'papagei': 6907, 'papierhut': 6908, 'papierteller': 6909, 'pappschachtel': 6910, 'pappteller': 6911, 'paris': 6912, 'parka': 6913, 'parkgarage': 6914, 'parkuhr': 6915, 'part': 6916, 'partner': 6917, 'partnerin': 6918, 'passagier': 6919, 'passende': 6920, 'passendem': 6921, 'passender': 6922, 'passieren': 6923, 'pastellfarbenen': 6924, 'patient': 6925, 'patriotischen': 6926, 'patrouilliert': 6927, 'pavillon': 6928, 'pedal': 6929, 'pedale': 6930, 'pelikan': 6931, 'pelzigen': 6932, 'penn': 6933, 'penske': 6934, 'perle': 6935, 'personenzug': 6936, 'perücken': 6937, 'pfadfindern': 6938, 'pfannkuchen': 6939, 'pfarrer': 6940, 'pfau': 6941, 'pfauenkostüm': 6942, 'pfeiler': 6943, 'pferch': 6944, 'pferdefuhrwerk': 6945, 'pferdeschwänzen': 6946, 'pferdewagen': 6947, 'pfirsichfarbenen': 6948, 'pflügen': 6949, 'pfote': 6950, 'pianist': 6951, 'piano': 6952, 'pickup-truck': 6953, 'piercings': 6954, 'pilz': 6955, 'pinguine': 6956, 'pinien': 6957, 'pink-weißem': 6958, 'pitbull': 6959, 'plakate': 6960, 'plastikbecher': 6961, 'plastikeimer': 6962, 'plastikflasche': 6963, 'plastikflaschen': 6964, 'plastikwanne': 6965, 'plattenladen': 6966, 'platzt': 6967, 'plaudern': 6968, 'plüschtieren': 6969, 'polizeiauto': 6970, 'polizeibeamter': 6971, 'polizeifahrzeug': 6972, 'polizeiuniform': 6973, 'polo-hemd': 6974, 'ponchos': 6975, 'pools': 6976, 'porträts': 6977, 'postkarten': 6978, 'postmitarbeiter': 6979, 'power': 6980, 'powerpoint-präsentation': 6981, 'praktizieren': 6982, 'prallen': 6983, 'preise': 6984, 'preisrichter': 6985, 'presse': 6986, 'presslufthammer': 6987, 'presst': 6988, 'pritschenwagen': 6989, 'pro': 6990, 'probe': 6991, 'problem': 6992, 'professionell': 6993, 'projektorleinwand': 6994, 'protestierende': 6995, 'prächtig': 6996, 'prächtige': 6997, 'prächtigen': 6998, 'pucks': 6999, 'puderzucker': 7000, 'pulk': 7001, 'pullovers': 7002, 'pulver': 7003, 'punkte': 7004, 'purpurroten': 7005, 'pusten': 7006, 'päckchen': 7007, 'quadbike': 7008, 'quadratischen': 7009, 'querflöte': 7010, 'r': 7011, 'rampen': 7012, 'rasch': 7013, 'rasenplatz': 7014, 'rasiercreme': 7015, 'rasierer': 7016, 'rasiermesser': 7017, 'rasiertem': 7018, 'rasseln': 7019, 'rasten': 7020, 'rasterlocken': 7021, 'rauchwolke': 7022, 'rauen': 7023, 'rausgeworfen': 7024, 'reagiert': 7025, 'reaktion': 7026, 'rechteckigen': 7027, 'reckt': 7028, 'regenbogenfarbenen': 7029, 'regenbogenfarbigen': 7030, 'regenjacke': 7031, 'regenkleidung': 7032, 'regennassen': 7033, 'regierung': 7034, 'reifenspur': 7035, 'reiht': 7036, 'reiseführer': 7037, 'reisfeld': 7038, 'reishut': 7039, 'reitwettbewerb': 7040, 'reißen': 7041, 'reißverschluss': 7042, 'renaissance-fest': 7043, 'rennausrüstung': 7044, 'rennenden': 7045, 'rennhund': 7046, 'rennmotorrad': 7047, 'rentier': 7048, 'reporter': 7049, 'reportern': 7050, 'requisiten': 7051, 'restaurantmitarbeiter': 7052, 'rettet': 7053, 'rettungshelfer': 7054, 'rettungskraft': 7055, 'ribbon': 7056, 'richtern': 7057, 'riecht': 7058, 'rinder': 7059, 'ringe': 7060, 'ringsum': 7061, 'risiko': 7062, 'riss': 7063, 'ritter': 7064, 'rittlings': 7065, 'ritualtanz': 7066, 'rocker': 7067, 'rockkonzert': 7068, 'rocks': 7069, 'rod': 7070, 'rodeln': 7071, 'rodelt': 7072, 'rodeo-clown': 7073, 'rodeoarena': 7074, 'rodgers': 7075, 'roller-derby': 7076, 'rollerblader': 7077, 'rollschuhbahn': 7078, 'rolltreppen': 7079, 'rollwagen': 7080, 'rosa-grünen': 7081, 'rosaroter': 7082, 'rot-gelben': 7083, 'rot-gestreiften': 7084, 'rot-goldenen': 7085, 'rot-grünen': 7086, 'rot-weiß-blauem': 7087, 'rudermannschaft': 7088, 'rugby-spiel': 7089, 'rummelplatz': 7090, 'rund': 7091, 'runzelt': 7092, 'räder': 7093, 'röcke': 7094, 'rötlichem': 7095, 'rückbank': 7096, 'rüschen': 7097, 'saiteninstrumenten': 7098, 'samen': 7099, 'san': 7100, 'sandkasten': 7101, 'sandsack': 7102, 'sandsturm': 7103, 'sanft': 7104, 'sanitäter': 7105, 'sauberen': 7106, 'sausen': 7107, 'saxofonspieler': 7108, 'saxophone': 7109, 'saxophonisten': 7110, 'schachbrett': 7111, 'schafft': 7112, 'schar': 7113, 'schaufensterauslage': 7114, 'schaufensterbummel': 7115, 'schaukelgestell': 7116, 'schaukelpferd': 7117, 'schaulustigen': 7118, 'schaulustiger': 7119, 'scheffel': 7120, 'scheitelpunkt': 7121, 'schert': 7122, 'scheucht': 7123, 'scheune': 7124, 'schichten': 7125, 'schick': 7126, 'schießplatz': 7127, 'schießstand': 7128, 'schilden': 7129, 'schilds': 7130, 'schirmchen': 7131, 'schirme': 7132, 'schirmt': 7133, 'schlafanzügen': 7134, 'schlafsäcken': 7135, 'schlagmanns': 7136, 'schlammigem': 7137, 'schlammiges': 7138, 'schlangen': 7139, 'schlapphut': 7140, 'schlechtem': 7141, 'schlechten': 7142, 'schleifmaschine': 7143, 'schleppe': 7144, 'schleuder': 7145, 'schlips': 7146, 'schlittenhunde': 7147, 'schlittert': 7148, 'schlittschuhe': 7149, 'schluckt': 7150, 'schmale': 7151, 'schmetterlinge': 7152, 'schmiert': 7153, 'schnabel': 7154, 'schneeanzügen': 7155, 'schneeausrüstung': 7156, 'schneeballschlacht': 7157, 'schneebrille': 7158, 'schneejacke': 7159, 'schneelandschaft': 7160, 'schnees': 7161, 'schneeschaufel': 7162, 'schneeschuh': 7163, 'schneesturm': 7164, 'schneidbrett': 7165, 'schneiderin': 7166, 'schneidersitz': 7167, 'schnellboot': 7168, 'schnellimbiss': 7169, 'schnurrbärten': 7170, 'schnurrbärtiger': 7171, 'schnüffeln': 7172, 'schnüren': 7173, 'schnürsenkel': 7174, 'schokolade': 7175, 'schottenröcken': 7176, 'schotter': 7177, 'schottische': 7178, 'schottischer': 7179, 'schraubendreher': 7180, 'schraubenschlüssel': 7181, 'schraubenzieher': 7182, 'schreibend': 7183, 'schreienden': 7184, 'schriftzeichen': 7185, 'schritten': 7186, 'schroffen': 7187, 'schrägen': 7188, 'schubkarren': 7189, 'schubst': 7190, 'schuhputzstand': 7191, 'schulalter': 7192, 'schulen': 7193, 'schuljungen': 7194, 'schulkantine': 7195, 'schulkindern': 7196, 'schulklasse': 7197, 'schuluniform': 7198, 'schuppen': 7199, 'schutzanzug': 7200, 'schutzhelme': 7201, 'schwarz-blaues': 7202, 'schwarz-orangefarbenen': 7203, 'schwarz-rot': 7204, 'schwarz-rotes': 7205, 'schwarzhaariges': 7206, 'schwarzweiß': 7207, 'schweinefleisch': 7208, 'schweißer': 7209, 'schwelle': 7210, 'schwerarbeiter': 7211, 'schwimmbekleidung': 7212, 'schwimmende': 7213, 'schwimmflügel': 7214, 'schwimmhalle': 7215, 'schwimmhilfen': 7216, 'schwimmkleidung': 7217, 'schwimmring': 7218, 'schwimmwettkampf': 7219, 'schwingenden': 7220, 'schwitzender': 7221, 'schwäne': 7222, 'schäbig': 7223, 'schäferhunde': 7224, 'schärpe': 7225, 'schön': 7226, 'schönheit': 7227, 'schülerinnen': 7228, 'schürt': 7229, 'schütter': 7230, 'seahawks': 7231, 'sechsköpfige': 7232, 'segel': 7233, 'segway': 7234, 'sehe': 7235, 'seifenwasser': 7236, 'seilbahn': 7237, 'seils': 7238, 'selbstgebastelten': 7239, 'selbstgebauten': 7240, 'seminar': 7241, 'sendet': 7242, 'senkrechte': 7243, 'sense': 7244, 'series': 7245, 'serviette': 7246, 'sessellift': 7247, 'set': 7248, 'shampoo': 7249, 'short': 7250, 'sichert': 7251, 'sicherungsseilen': 7252, 'sichtbare': 7253, 'side': 7254, 'signiert': 7255, 'silberfarbene': 7256, 'silbernem': 7257, 'silhouetten': 7258, 'singend': 7259, 'situation': 7260, 'sitzbank': 7261, 'sitze': 7262, 'sitzung': 7263, 'skateboard-kunststück': 7264, 'skateboard-stunt': 7265, 'skateboardanlage': 7266, 'skateboardfahren': 7267, 'skateranlage': 7268, 'skaterbahn': 7269, 'skaterpark': 7270, 'sketch': 7271, 'skianzug': 7272, 'skibrille': 7273, 'skifahrerin': 7274, 'skimboarden': 7275, 'snap': 7276, 'snowboards': 7277, 'socke': 7278, 'sockenhaltern': 7279, 'soda': 7280, 'softdrink': 7281, 'sogar': 7282, 'soldatinnen': 7283, 'sommerkleider': 7284, 'sommerkleidung': 7285, 'song': 7286, 'sonnebrille': 7287, 'sonnenanbetern': 7288, 'sonnenaufgang': 7289, 'sonnenbad': 7290, 'sonnenhüten': 7291, 'sonnenschirme': 7292, 'sonnenuntergangs': 7293, 'sonniger': 7294, 'sorgt': 7295, 'south': 7296, 'soße': 7297, 'space': 7298, 'spachtel': 7299, 'spanischen': 7300, 'spannen': 7301, 'spare': 7302, 'sparring': 7303, 'speedo-badehose': 7304, 'speerwurf': 7305, 'speiseraum': 7306, 'speist': 7307, 'speit': 7308, 'spiderman': 7309, 'spiegelungen': 7310, 'spiele': 7311, 'spielender': 7312, 'spielerischen': 7313, 'spielgeräten': 7314, 'spielhaus': 7315, 'spielkarten': 7316, 'spielkonsole': 7317, 'spielmannszugs': 7318, 'spieltunnel': 7319, 'spielzeug-basketballkorb': 7320, 'spielzeug-rasenmäher': 7321, 'spielzeugeisenbahn': 7322, 'spielzeugfahrrad': 7323, 'spielzeuggitarre': 7324, 'spielzeughammer': 7325, 'spielzeughaus': 7326, 'spielzeuglaster': 7327, 'spielzeuglastwagen': 7328, 'spielzeugrutsche': 7329, 'spielzeugs': 7330, 'spielzeugtraktor': 7331, 'spießen': 7332, 'spinnen': 7333, 'spinnkurs': 7334, 'spinnt': 7335, 'spirituosengeschäft': 7336, 'sportfans': 7337, 'sportfeld': 7338, 'sportgerät': 7339, 'sporthallenboden': 7340, 'sportjacke': 7341, 'sportstudio': 7342, 'sportteam': 7343, 'spreizt': 7344, 'sprinkleranlage': 7345, 'spruchbänder': 7346, 'sprühdosen': 7347, 'sprüngen': 7348, 'spur': 7349, 'spät': 7350, 'später': 7351, 'stadions': 7352, 'stadtarbeiter': 7353, 'stadtbrunnen': 7354, 'stadtbus': 7355, 'stadtgebäude': 7356, 'stadtlandschaft': 7357, 'stadtplan': 7358, 'stadtteil': 7359, 'stahl': 7360, 'stahlbalken': 7361, 'stammes': 7362, 'standbild': 7363, 'star': 7364, 'starker': 7365, 'startbereit': 7366, 'starten': 7367, 'startet': 7368, 'state-teams': 7369, 'stattfindenden': 7370, 'stattfindet': 7371, 'statur': 7372, 'steigenden': 7373, 'steiger': 7374, 'steinboden': 7375, 'steinbrücke': 7376, 'steinhaufen': 7377, 'steiniges': 7378, 'steinoberfläche': 7379, 'steinstraße': 7380, 'steinstruktur': 7381, 'steinsäulen': 7382, 'steinweg': 7383, 'steppdecke': 7384, 'sternen': 7385, 'stethoskop': 7386, 'stets': 7387, 'steuer': 7388, 'steuern': 7389, 'sticht': 7390, 'stiert': 7391, 'stiften': 7392, 'stilles': 7393, 'stillt': 7394, 'stirnlampe': 7395, 'stocks': 7396, 'stoffen': 7397, 'stofftieren': 7398, 'stoppschild': 7399, 'stoppt': 7400, 'story': 7401, 'strahlendem': 7402, 'strahlt': 7403, 'strandbuggy': 7404, 'strandkleid': 7405, 'strandspaziergang': 7406, 'straßenansicht': 7407, 'straßengeschäft': 7408, 'straßenhändlers': 7409, 'straßenkreuzung': 7410, 'straßenkünstlern': 7411, 'straßenlaternen': 7412, 'straßenlauf': 7413, 'straßenmarathon': 7414, 'straßenmusik': 7415, 'straßenmusikanten': 7416, 'streicher': 7417, 'streichorchester': 7418, 'streikschildern': 7419, 'streitet': 7420, 'streitkräfte': 7421, 'stretching': 7422, 'striegelt': 7423, 'stromleitungen': 7424, 'strommasten': 7425, 'strumpfhosen': 7426, 'struppiger': 7427, 'sträuchern': 7428, 'strömenden': 7429, 'studentenwohnheim': 7430, 'stuhlreihen': 7431, 'stunde': 7432, 'sturm': 7433, 'sturzflug': 7434, 'stäbe': 7435, 'stämmiger': 7436, 'stände': 7437, 'stängel': 7438, 'stöckelschuhen': 7439, 'stürmischem': 7440, 'stürmt': 7441, 'stützen': 7442, 'stützrädern': 7443, 'sumoringer': 7444, 'sumpf': 7445, 'sumpfigen': 7446, 'sumpfiges': 7447, 'suppe': 7448, 'surfbrettern': 7449, 'sweater': 7450, 'szenerie': 7451, 'säcke': 7452, 'säuglings': 7453, 'söhnen': 7454, 'süßer': 7455, 'süßes': 7456, 'süßigkeit': 7457, 'süßigkeitenladen': 7458, 'süßigkeitenverkäufer': 7459, 'tackle': 7460, 'tagebuch': 7461, 'taille': 7462, 'takt': 7463, 'talkshow': 7464, 'tamburin': 7465, 'tank-top': 7466, 'tanzstudio': 7467, 'tanzvorführung': 7468, 'tarnanzügen': 7469, 'tarnfarben': 7470, 'tarnhosen': 7471, 'tarnjacke': 7472, 'taschenbuch': 7473, 'taschenlampe': 7474, 'taste': 7475, 'tasten': 7476, 'tatort': 7477, 'taubenschwarm': 7478, 'tauschen': 7479, 'teamkollege': 7480, 'technik': 7481, 'technologie': 7482, 'tee-ball': 7483, 'teenager-jungen': 7484, 'teenagerinnen': 7485, 'teichs': 7486, 'teilnehmende': 7487, 'telefonleitung': 7488, 'telefontechniker': 7489, 'telefonzellen': 7490, 'tennisschuh': 7491, 'testet': 7492, 'text': 7493, 'textet': 7494, 'theaterstück': 7495, 'theatervorstellung': 7496, 'thomas': 7497, 'tiefblauen': 7498, 'tieflader': 7499, 'tiefschnee': 7500, 'tiers': 7501, 'tim': 7502, 'tintenfisch': 7503, 'tischler': 7504, 'toast': 7505, 'toilettenpapier': 7506, 'tollt': 7507, 'tomate': 7508, 'topfpflanzen': 7509, 'torbogens': 7510, 'tortillas': 7511, 'toten': 7512, 'tourbus': 7513, 'touristin': 7514, 'toyota': 7515, 'trabenden': 7516, 'traditionell': 7517, 'traditionellem': 7518, 'trainingsanzügen': 7519, 'trampelpfad': 7520, 'transformator': 7521, 'transparenten': 7522, 'transport': 7523, 'trauung': 7524, 'trennt': 7525, 'tresen': 7526, 'tribünen': 7527, 'trinkgeld': 7528, 'trittsteinen': 7529, 'trockene': 7530, 'tropfen': 7531, 'trophäe': 7532, 'trotzt': 7533, 'truthähne': 7534, 'träg': 7535, 'trägerhemden': 7536, 'trägershirt': 7537, 'trösten': 7538, 'tuba': 7539, 'tuniken': 7540, 'tunnels': 7541, 'turbanen': 7542, 'turnkleidung': 7543, 'turnübung': 7544, 'turnübungen': 7545, 'typischen': 7546, 'tätigkeiten': 7547, 'tätowieren': 7548, 'tätowierten': 7549, 'töchter': 7550, 'töpfe': 7551, 'töpfert': 7552, 'tüchern': 7553, 'tümpel': 7554, 'türkise': 7555, 'u-bahn-bahnsteig': 7556, 'u-bahn-zug': 7557, 'ufernähe': 7558, 'umarmungen': 7559, 'umdreht': 7560, 'umfeld': 7561, 'umgebenden': 7562, 'umgebene': 7563, 'umgedrehte': 7564, 'umgefallenen': 7565, 'umgekippt': 7566, 'umschlag': 7567, 'umschlagtuch': 7568, 'umstehenden': 7569, 'umzugs': 7570, 'umzugswagen': 7571, 'unbeholfen': 7572, 'unbekannte': 7573, 'unbekannter': 7574, 'unebenen': 7575, 'unfallort': 7576, 'unfallstelle': 7577, 'ungepflegten': 7578, 'ungewöhnliches': 7579, 'unglückliches': 7580, 'union': 7581, 'unrat': 7582, 'unscharfe': 7583, 'unterarm': 7584, 'unterführung': 7585, 'unterhaltungsbereich': 7586, 'unterhaltungskünstler': 7587, 'unterholz': 7588, 'unterhosen': 7589, 'unterirdischen': 7590, 'unterschreibt': 7591, 'unterstützen': 7592, 'untertasse': 7593, 'ureinwohnerin': 7594, 'urinal': 7595, 'urlaub': 7596, 'us-amerikanische': 7597, 'vader': 7598, 'vase': 7599, 'vegas': 7600, 'veranstaltet': 7601, 'verbeugen': 7602, 'verbirgt': 7603, 'verborgen': 7604, 'vereinzelten': 7605, 'verglasten': 7606, 'vergraben': 7607, 'vergrößerungsglas': 7608, 'verhaftet': 7609, 'verheirateter': 7610, 'verhüllte': 7611, 'verkaufsautomaten': 7612, 'verkaufstand': 7613, 'verkehrspolizist': 7614, 'verkehrsreiche': 7615, 'verkehrsschild': 7616, 'verkleidetes': 7617, 'verkleidung': 7618, 'verkäuferin': 7619, 'verkäufers': 7620, 'verlegen': 7621, 'verletzter': 7622, 'vermischt': 7623, 'verpasst': 7624, 'verquirlt': 7625, 'verregneten': 7626, 'verrückt': 7627, 'verschiedenes': 7628, 'verschiedenfarbiger': 7629, 'verschlungenen': 7630, 'verschmiertem': 7631, 'verschneiter': 7632, 'verschwommenen': 7633, 'verschwommenes': 7634, 'versorgen': 7635, 'versorgt': 7636, 'verteidigern': 7637, 'vertieft': 7638, 'vertreiben': 7639, 'verursacht': 7640, 'verwitterten': 7641, 'verwunderung': 7642, 'verziert': 7643, 'verzweifelt': 7644, 'vesammelt': 7645, 'videoaufnahme': 7646, 'videokameras': 7647, 'vieler': 7648, 'vielfältige': 7649, 'vieren': 7650, 'vierergruppe': 7651, 'vierrädrigen': 7652, 'vierte': 7653, 'violette': 7654, 'visier': 7655, 'visiert': 7656, 'vitrine': 7657, 'volles': 7658, 'volleyballplatz': 7659, 'volleyballturnier': 7660, 'vorbeifahrenden': 7661, 'vorbeikommt': 7662, 'vorbeiläuft': 7663, 'vorbeischwimmen': 7664, 'vorbeizukommen': 7665, 'vorderpfoten': 7666, 'vorderrad': 7667, 'vorgarten': 7668, 'vorhand': 7669, 'vornehm': 7670, 'vornehmen': 7671, 'vornüber': 7672, 'vornübergebeugt': 7673, 'vorräte': 7674, 'vorstadthaus': 7675, 'vorteil': 7676, 'vorzubereiten': 7677, 'vorüberfährt': 7678, 'vorübergehend': 7679, 'wachleute': 7680, 'waggon': 7681, 'wakeboarden': 7682, 'wakeboarding': 7683, 'waldgebiets': 7684, 'waldgegend': 7685, 'waldlandschaft': 7686, 'walkman': 7687, 'wandbemalung': 7688, 'wandgemälde': 7689, 'wandobjekt': 7690, 'warnkegel': 7691, 'warnkleidung': 7692, 'wartend': 7693, 'wartende': 7694, 'warteraum': 7695, 'wartezimmer': 7696, 'waschmaschinen': 7697, 'wasserbrunnen': 7698, 'wasserfontänen': 7699, 'wasserlache': 7700, 'wasseroberfläche': 7701, 'wasserrand': 7702, 'wasserrohre': 7703, 'wasserschlacht': 7704, 'wasserskulptur': 7705, 'wasserspeier': 7706, 'wassersprenganlage': 7707, 'wasserspritzer': 7708, 'wasserstrahl': 7709, 'weges': 7710, 'wegschaut': 7711, 'wehrt': 7712, 'weiblich': 7713, 'weide': 7714, 'weihnachtsbeleuchtung': 7715, 'weihnachtsmannmützen': 7716, 'weihnachtsmotiv': 7717, 'weinen': 7718, 'weinflasche': 7719, 'weinroten': 7720, 'weiß-': 7721, 'weiß-braunem': 7722, 'weiß-rotes': 7723, 'weißene': 7724, 'weißhaarige': 7725, 'welches': 7726, 'wells': 7727, 'wenden': 7728, 'wer': 7729, 'werdendem': 7730, 'werferhügel': 7731, 'werkbank': 7732, 'werkzeuggürteln': 7733, 'westernstil': 7734, 'wetteifert': 7735, 'wettschwimmen': 7736, 'whirlpool': 7737, 'wichtiges': 7738, 'wiegen': 7739, 'wii': 7740, 'wild': 7741, 'wildwasserrafting': 7742, 'winkend': 7743, 'winterbekleidung': 7744, 'winterlichen': 7745, 'wirbeln': 7746, 'wirkt': 7747, 'wodurch': 7748, 'wohl': 7749, 'wohnhauses': 7750, 'wohnhäusern': 7751, 'wolke': 7752, 'wonder': 7753, 'worten': 7754, 'wrestler': 7755, 'wunderschön': 7756, 'wurzeln': 7757, 'wälder': 7758, 'wälzt': 7759, 'wünschen': 7760, 'würfel': 7761, 'würste': 7762, 'würzt': 7763, 'wütend': 7764, 'yamaha': 7765, 'yankees': 7766, 'yogaübungen': 7767, 'you': 7768, 'zahnarzt': 7769, 'zahnstocher': 7770, 'zange': 7771, 'zapft': 7772, 'zauberer': 7773, 'zaubertrick': 7774, 'zehenspitzen': 7775, 'zehn': 7776, 'zeltet': 7777, 'zeltplane': 7778, 'zeltplatz': 7779, 'zementierten': 7780, 'zementlaster': 7781, 'zentimeter': 7782, 'zerbricht': 7783, 'zerbrochene': 7784, 'zerbrochenen': 7785, 'zeremoniellen': 7786, 'zerfetzten': 7787, 'zerkleinert': 7788, 'zerlegen': 7789, 'zerlumpter': 7790, 'zerrissenen': 7791, 'zerzaust': 7792, 'zickzack': 7793, 'ziegelsteingebäude': 7794, 'zielfernrohr': 7795, 'zielort': 7796, 'zirkus': 7797, 'zitrone': 7798, 'zotteliger': 7799, 'zuerst': 7800, 'zufahrt': 7801, 'zufährt': 7802, 'zugedeckt': 7803, 'zuges': 7804, 'zugfahrt': 7805, 'zugführer': 7806, 'zugwaggons': 7807, 'zuhält': 7808, 'zuhörern': 7809, 'zuhörerschaft': 7810, 'zukunft': 7811, 'zuneigung': 7812, 'zurückgelegt': 7813, 'zusammengebaut': 7814, 'zusammengebauten': 7815, 'zusammenpassenden': 7816, 'zusammensein': 7817, 'zuschauerraum': 7818, 'zustand': 7819, 'zwanzig': 7820, 'zweikampf': 7821, 'zweirad': 7822, 'zweispurigen': 7823, 'zweistöckigen': 7824, 'zwillinge': 7825, 'zwirbelt': 7826, 'zähneputzen': 7827, 'zügel': 7828, 'ähnlichen': 7829, 'ängstlich': 7830, 'äpfel': 7831, 'ärztin': 7832, 'äste': 7833, 'öffentliches': 7834, 'öffnungen': 7835, 'ölfass': 7836, 'überdachung': 7837, 'überfliegt': 7838, 'überfluteten': 7839, 'überführung': 7840, 'übergewichtiges': 7841, 'überhang': 7842, 'überladenen': 7843, 'überlegt': 7844, 'überreste': 7845, 'überschlag': 7846, 'überschlagen': 7847, 'übersät': 7848, 'übersäte': 7849, 'überwacht': 7850, 'üppig': 7851, 'üppigen': 7852})\n"
     ]
    }
   ],
   "source": [
    "print(SRC.vocab.stoi)"
   ]
  },
  {
   "cell_type": "code",
   "execution_count": null,
   "metadata": {
    "colab": {
     "base_uri": "https://localhost:8080/",
     "height": 52
    },
    "colab_type": "code",
    "id": "MGAlw3E4UqyJ",
    "outputId": "85c12c41-0d35-4012-8d7a-8764932a98a7"
   },
   "outputs": [
    {
     "name": "stdout",
     "output_type": "stream",
     "text": [
      "input dimension: 7853\n",
      "output dimension: 5893\n"
     ]
    }
   ],
   "source": [
    "INPUT_DIM = len(SRC.vocab)\n",
    "OUTPUT_DIM = len(TRG.vocab)\n",
    "\n",
    "print(\"input dimension: {}\".format(INPUT_DIM))\n",
    "print(f'output dimension: {OUTPUT_DIM}')\n",
    "\n",
    "ENC_EMB_DIM = 256\n",
    "DEC_EMB_DIM = 256\n",
    "HID_DIM = 512\n",
    "N_LAYERS = 2\n",
    "ENC_DROPOUT = 0.5\n",
    "DEC_DROPOUT = 0.5"
   ]
  },
  {
   "cell_type": "markdown",
   "metadata": {
    "colab_type": "text",
    "id": "Lrrfsk3CVbnG"
   },
   "source": [
    "**Note**: The `N_LAYERS` decides how many LSTM or GRU layer you are going to use and Pytorch will stack them by default"
   ]
  },
  {
   "cell_type": "markdown",
   "metadata": {
    "colab_type": "text",
    "id": "XnUiacwoVuHw"
   },
   "source": [
    "### Building the LSTM model"
   ]
  },
  {
   "cell_type": "code",
   "execution_count": null,
   "metadata": {
    "colab": {},
    "colab_type": "code",
    "id": "DoYWA3rshjad"
   },
   "outputs": [],
   "source": [
    "?nn.CrossEntropyLoss"
   ]
  },
  {
   "cell_type": "code",
   "execution_count": null,
   "metadata": {
    "colab": {},
    "colab_type": "code",
    "id": "jQ4a47ZtVZgz"
   },
   "outputs": [],
   "source": [
    "encLSTM = EncoderLSTM(INPUT_DIM, ENC_EMB_DIM, HID_DIM, N_LAYERS, ENC_DROPOUT)\n",
    "decLSTM = DecoderLSTM(OUTPUT_DIM, DEC_EMB_DIM, HID_DIM, N_LAYERS, DEC_DROPOUT)\n",
    "\n",
    "modelLSTM = Seq2SeqLSTM(encLSTM, decLSTM, device).to(device)"
   ]
  },
  {
   "cell_type": "code",
   "execution_count": null,
   "metadata": {
    "colab": {},
    "colab_type": "code",
    "id": "Rm0y9c2_WER5"
   },
   "outputs": [],
   "source": [
    "optimizerLSTM = optim.Adam(modelLSTM.parameters())\n",
    "pad_idx = TRG.vocab.stoi['<pad>']\n",
    "criterion = nn.CrossEntropyLoss(ignore_index=pad_idx)"
   ]
  },
  {
   "cell_type": "markdown",
   "metadata": {
    "colab_type": "text",
    "id": "stemP5bBV5VG"
   },
   "source": [
    "### Building the GRU model"
   ]
  },
  {
   "cell_type": "code",
   "execution_count": null,
   "metadata": {
    "colab": {},
    "colab_type": "code",
    "id": "y4bT90tKV3Ys"
   },
   "outputs": [],
   "source": [
    "encGRU = EncoderGRU(INPUT_DIM, ENC_EMB_DIM, HID_DIM, N_LAYERS, ENC_DROPOUT)\n",
    "decGRU = DecoderGRU(OUTPUT_DIM, DEC_EMB_DIM, HID_DIM, N_LAYERS, DEC_DROPOUT)\n",
    "\n",
    "modelGRU = Seq2SeqGRU(encGRU, decGRU, device).to(device)"
   ]
  },
  {
   "cell_type": "code",
   "execution_count": null,
   "metadata": {
    "colab": {},
    "colab_type": "code",
    "id": "_oJCmJHYV_T2"
   },
   "outputs": [],
   "source": [
    "optimizerGRU = optim.Adam(modelGRU.parameters())\n",
    "pad_idx = TRG.vocab.stoi['<pad>']\n",
    "criterion = nn.CrossEntropyLoss(ignore_index=pad_idx)"
   ]
  },
  {
   "cell_type": "markdown",
   "metadata": {
    "colab_type": "text",
    "id": "C-GAfim9WRyj"
   },
   "source": [
    "## Lesson\n",
    "\n",
    "While converting the model from LSTM to GRU, the final change will happen while declaring the `optimizer` as you need to **pass the corresponding model parameter into the optimizer**. Be very careful for this step. Otherwise your model will not learn properly and may not give any error as all the dimension is matched."
   ]
  },
  {
   "cell_type": "markdown",
   "metadata": {
    "colab_type": "text",
    "id": "s-7hIwGzW-sQ"
   },
   "source": [
    "## Check if the model connection is correct\n",
    "\n",
    "Before training the model it's better to give some dummy input to the model and run the `Forward()` step for a easy debugging of the connection setup."
   ]
  },
  {
   "cell_type": "markdown",
   "metadata": {
    "colab_type": "text",
    "id": "EJ4-c9Q1XWx4"
   },
   "source": [
    "### Creating dummy data"
   ]
  },
  {
   "cell_type": "code",
   "execution_count": null,
   "metadata": {
    "colab": {
     "base_uri": "https://localhost:8080/",
     "height": 34
    },
    "colab_type": "code",
    "id": "VoQxL02KWRFE",
    "outputId": "14ffc322-27a1-4fe0-be23-2382b0bc75c5"
   },
   "outputs": [
    {
     "name": "stdout",
     "output_type": "stream",
     "text": [
      "torch.Size([12, 1]) torch.Size([14, 1])\n"
     ]
    }
   ],
   "source": [
    "# src = [src_sent_len, batch_size]\n",
    "\n",
    "bs = 1 #batch size\n",
    "src_sent_len = 12 #source sentence length\n",
    "trg_sent_len = 14 #target sentence length\n",
    "\n",
    "# creating dummy data set to test the model diension to check the network architecture\n",
    "\n",
    "x_src = torch.LongTensor(src_sent_len, bs).random_(0, len(SRC.vocab)).to(device)\n",
    "x_trg = torch.LongTensor(trg_sent_len, bs).random_(0, len(TRG.vocab)).to(device)\n",
    "\n",
    "print(x_src.shape, x_trg.shape)"
   ]
  },
  {
   "cell_type": "markdown",
   "metadata": {
    "colab_type": "text",
    "id": "pPfJ1MF4Xqpn"
   },
   "source": [
    "### Checking the LSTM encoder, decoder and model"
   ]
  },
  {
   "cell_type": "code",
   "execution_count": null,
   "metadata": {
    "colab": {
     "base_uri": "https://localhost:8080/",
     "height": 34
    },
    "colab_type": "code",
    "id": "D9BIJ5sVXqMW",
    "outputId": "c5219025-a554-41c1-feaf-d0aa7f486afb"
   },
   "outputs": [
    {
     "name": "stdout",
     "output_type": "stream",
     "text": [
      "torch.Size([14, 1, 5893])\n"
     ]
    }
   ],
   "source": [
    "h, c = encLSTM(x_src)\n",
    "p, h, c = decLSTM(x_trg[0,:] ,h, c)\n",
    "output = modelLSTM(x_src, x_trg)\n",
    "print(output.shape)"
   ]
  },
  {
   "cell_type": "markdown",
   "metadata": {
    "colab_type": "text",
    "id": "fo-nAkT6XkPC"
   },
   "source": [
    "### Checking the GRU encoder, decoder and model"
   ]
  },
  {
   "cell_type": "code",
   "execution_count": null,
   "metadata": {
    "colab": {
     "base_uri": "https://localhost:8080/",
     "height": 34
    },
    "colab_type": "code",
    "id": "l12pm0_0XdQb",
    "outputId": "affa00b2-d715-475d-8452-d2ac857c3077"
   },
   "outputs": [
    {
     "name": "stdout",
     "output_type": "stream",
     "text": [
      "torch.Size([14, 1, 5893])\n"
     ]
    }
   ],
   "source": [
    "h = encGRU(x_src)\n",
    "p, h = decGRU(x_trg[0,:] ,h)\n",
    "output = modelGRU(x_src, x_trg)\n",
    "print(output.shape)"
   ]
  },
  {
   "cell_type": "code",
   "execution_count": null,
   "metadata": {
    "colab": {
     "base_uri": "https://localhost:8080/",
     "height": 52
    },
    "colab_type": "code",
    "id": "7cxv0r3FXiUw",
    "outputId": "4352ffb2-8959-440e-f059-1469e5ccdb78"
   },
   "outputs": [
    {
     "name": "stdout",
     "output_type": "stream",
     "text": [
      "The LSTM model has 13,898,501 trainable parameters\n",
      "The GRU model has 12,059,397 trainable parameters\n"
     ]
    }
   ],
   "source": [
    "def count_parameters(model):\n",
    "    return sum(p.numel() for p in model.parameters() if p.requires_grad)\n",
    "\n",
    "print(f'The LSTM model has {count_parameters(modelLSTM):,} trainable parameters')\n",
    "print(f'The GRU model has {count_parameters(modelGRU):,} trainable parameters')"
   ]
  },
  {
   "cell_type": "code",
   "execution_count": null,
   "metadata": {
    "colab": {
     "base_uri": "https://localhost:8080/",
     "height": 243
    },
    "colab_type": "code",
    "id": "KVZN6wOlYhQy",
    "outputId": "3ebc080a-abe2-435e-faba-a8749afdd3ab"
   },
   "outputs": [
    {
     "name": "stdout",
     "output_type": "stream",
     "text": [
      "Seq2SeqLSTM(\n",
      "  (encoder): EncoderLSTM(\n",
      "    (embedding): Embedding(7853, 256)\n",
      "    (rnn): LSTM(256, 512, num_layers=2, dropout=0.5)\n",
      "    (dropout): Dropout(p=0.5)\n",
      "  )\n",
      "  (decoder): DecoderLSTM(\n",
      "    (embedding): Embedding(5893, 256)\n",
      "    (rnn): LSTM(256, 512, num_layers=2, dropout=0.5)\n",
      "    (out): Linear(in_features=512, out_features=5893, bias=True)\n",
      "    (dropout): Dropout(p=0.5)\n",
      "  )\n",
      ")\n"
     ]
    }
   ],
   "source": [
    "print(modelLSTM)"
   ]
  },
  {
   "cell_type": "code",
   "execution_count": null,
   "metadata": {
    "colab": {
     "base_uri": "https://localhost:8080/",
     "height": 243
    },
    "colab_type": "code",
    "id": "pKYQglKAYrIz",
    "outputId": "f3ee1a0b-e914-4fac-a073-e42df45fc76d"
   },
   "outputs": [
    {
     "name": "stdout",
     "output_type": "stream",
     "text": [
      "Seq2SeqGRU(\n",
      "  (encoder): EncoderGRU(\n",
      "    (embedding): Embedding(7853, 256)\n",
      "    (rnn): GRU(256, 512, num_layers=2, dropout=0.5)\n",
      "    (dropout): Dropout(p=0.5)\n",
      "  )\n",
      "  (decoder): DecoderGRU(\n",
      "    (embedding): Embedding(5893, 256)\n",
      "    (rnn): GRU(256, 512, num_layers=2, dropout=0.5)\n",
      "    (out): Linear(in_features=512, out_features=5893, bias=True)\n",
      "    (dropout): Dropout(p=0.5)\n",
      "  )\n",
      ")\n"
     ]
    }
   ],
   "source": [
    "print(modelGRU)"
   ]
  },
  {
   "cell_type": "code",
   "execution_count": null,
   "metadata": {
    "colab": {},
    "colab_type": "code",
    "id": "3ua_4OEKYt98"
   },
   "outputs": [],
   "source": [
    "def get_num_learnable_params(array):\n",
    "  \n",
    "  n = len(array)\n",
    "  prod = 1\n",
    "  \n",
    "  for i in range(n):\n",
    "    prod *= array[i]\n",
    "  \n",
    "  return prod \n",
    "\n",
    "def model_summary(model, model_type):\n",
    "  print(\"=\"*40+\"| {} Summary |\".format(model_type)+\"=\"*40)\n",
    "  ls_nop = []\n",
    "  \n",
    "  for name, param in model.named_parameters():\n",
    "    if param.requires_grad:\n",
    "      nop = get_num_learnable_params(param.data.shape)\n",
    "      print(\"name: {} \\t\\t shape: {} \\t\\t number_of_params: {}\".format(name,param.data.shape, nop))\n",
    "      ls_nop.append(nop)\n",
    "  \n",
    "  print(\"total learnable params: {}\".format(np.sum(ls_nop)))"
   ]
  },
  {
   "cell_type": "code",
   "execution_count": null,
   "metadata": {
    "colab": {
     "base_uri": "https://localhost:8080/",
     "height": 399
    },
    "colab_type": "code",
    "id": "meAAIrgHZFv8",
    "outputId": "6722dfa0-5840-4766-e361-aebf65c3595f"
   },
   "outputs": [
    {
     "name": "stdout",
     "output_type": "stream",
     "text": [
      "========================================| modelLSTM Summary |========================================\n",
      "name: encoder.embedding.weight \t\t shape: torch.Size([7853, 256]) \t\t number_of_params: 2010368\n",
      "name: encoder.rnn.weight_ih_l0 \t\t shape: torch.Size([2048, 256]) \t\t number_of_params: 524288\n",
      "name: encoder.rnn.weight_hh_l0 \t\t shape: torch.Size([2048, 512]) \t\t number_of_params: 1048576\n",
      "name: encoder.rnn.bias_ih_l0 \t\t shape: torch.Size([2048]) \t\t number_of_params: 2048\n",
      "name: encoder.rnn.bias_hh_l0 \t\t shape: torch.Size([2048]) \t\t number_of_params: 2048\n",
      "name: encoder.rnn.weight_ih_l1 \t\t shape: torch.Size([2048, 512]) \t\t number_of_params: 1048576\n",
      "name: encoder.rnn.weight_hh_l1 \t\t shape: torch.Size([2048, 512]) \t\t number_of_params: 1048576\n",
      "name: encoder.rnn.bias_ih_l1 \t\t shape: torch.Size([2048]) \t\t number_of_params: 2048\n",
      "name: encoder.rnn.bias_hh_l1 \t\t shape: torch.Size([2048]) \t\t number_of_params: 2048\n",
      "name: decoder.embedding.weight \t\t shape: torch.Size([5893, 256]) \t\t number_of_params: 1508608\n",
      "name: decoder.rnn.weight_ih_l0 \t\t shape: torch.Size([2048, 256]) \t\t number_of_params: 524288\n",
      "name: decoder.rnn.weight_hh_l0 \t\t shape: torch.Size([2048, 512]) \t\t number_of_params: 1048576\n",
      "name: decoder.rnn.bias_ih_l0 \t\t shape: torch.Size([2048]) \t\t number_of_params: 2048\n",
      "name: decoder.rnn.bias_hh_l0 \t\t shape: torch.Size([2048]) \t\t number_of_params: 2048\n",
      "name: decoder.rnn.weight_ih_l1 \t\t shape: torch.Size([2048, 512]) \t\t number_of_params: 1048576\n",
      "name: decoder.rnn.weight_hh_l1 \t\t shape: torch.Size([2048, 512]) \t\t number_of_params: 1048576\n",
      "name: decoder.rnn.bias_ih_l1 \t\t shape: torch.Size([2048]) \t\t number_of_params: 2048\n",
      "name: decoder.rnn.bias_hh_l1 \t\t shape: torch.Size([2048]) \t\t number_of_params: 2048\n",
      "name: decoder.out.weight \t\t shape: torch.Size([5893, 512]) \t\t number_of_params: 3017216\n",
      "name: decoder.out.bias \t\t shape: torch.Size([5893]) \t\t number_of_params: 5893\n",
      "total learnable params: 13898501\n"
     ]
    }
   ],
   "source": [
    "model_summary(modelLSTM, \"modelLSTM\")"
   ]
  },
  {
   "cell_type": "code",
   "execution_count": null,
   "metadata": {
    "colab": {
     "base_uri": "https://localhost:8080/",
     "height": 399
    },
    "colab_type": "code",
    "id": "pbjeVX9VZfIO",
    "outputId": "17b1d443-bb5d-4d72-8125-e44a67568bf5"
   },
   "outputs": [
    {
     "name": "stdout",
     "output_type": "stream",
     "text": [
      "========================================| modelGRU Summary |========================================\n",
      "name: encoder.embedding.weight \t\t shape: torch.Size([7853, 256]) \t\t number_of_params: 2010368\n",
      "name: encoder.rnn.weight_ih_l0 \t\t shape: torch.Size([1536, 256]) \t\t number_of_params: 393216\n",
      "name: encoder.rnn.weight_hh_l0 \t\t shape: torch.Size([1536, 512]) \t\t number_of_params: 786432\n",
      "name: encoder.rnn.bias_ih_l0 \t\t shape: torch.Size([1536]) \t\t number_of_params: 1536\n",
      "name: encoder.rnn.bias_hh_l0 \t\t shape: torch.Size([1536]) \t\t number_of_params: 1536\n",
      "name: encoder.rnn.weight_ih_l1 \t\t shape: torch.Size([1536, 512]) \t\t number_of_params: 786432\n",
      "name: encoder.rnn.weight_hh_l1 \t\t shape: torch.Size([1536, 512]) \t\t number_of_params: 786432\n",
      "name: encoder.rnn.bias_ih_l1 \t\t shape: torch.Size([1536]) \t\t number_of_params: 1536\n",
      "name: encoder.rnn.bias_hh_l1 \t\t shape: torch.Size([1536]) \t\t number_of_params: 1536\n",
      "name: decoder.embedding.weight \t\t shape: torch.Size([5893, 256]) \t\t number_of_params: 1508608\n",
      "name: decoder.rnn.weight_ih_l0 \t\t shape: torch.Size([1536, 256]) \t\t number_of_params: 393216\n",
      "name: decoder.rnn.weight_hh_l0 \t\t shape: torch.Size([1536, 512]) \t\t number_of_params: 786432\n",
      "name: decoder.rnn.bias_ih_l0 \t\t shape: torch.Size([1536]) \t\t number_of_params: 1536\n",
      "name: decoder.rnn.bias_hh_l0 \t\t shape: torch.Size([1536]) \t\t number_of_params: 1536\n",
      "name: decoder.rnn.weight_ih_l1 \t\t shape: torch.Size([1536, 512]) \t\t number_of_params: 786432\n",
      "name: decoder.rnn.weight_hh_l1 \t\t shape: torch.Size([1536, 512]) \t\t number_of_params: 786432\n",
      "name: decoder.rnn.bias_ih_l1 \t\t shape: torch.Size([1536]) \t\t number_of_params: 1536\n",
      "name: decoder.rnn.bias_hh_l1 \t\t shape: torch.Size([1536]) \t\t number_of_params: 1536\n",
      "name: decoder.out.weight \t\t shape: torch.Size([5893, 512]) \t\t number_of_params: 3017216\n",
      "name: decoder.out.bias \t\t shape: torch.Size([5893]) \t\t number_of_params: 5893\n",
      "total learnable params: 12059397\n"
     ]
    }
   ],
   "source": [
    "model_summary(modelGRU, \"modelGRU\")"
   ]
  },
  {
   "cell_type": "code",
   "execution_count": null,
   "metadata": {
    "colab": {},
    "colab_type": "code",
    "id": "WY4tpICbbiz2"
   },
   "outputs": [],
   "source": [
    "def train(model, iterator, optimizer, criterion, clip):\n",
    "    \n",
    "    model.train()\n",
    "    \n",
    "    epoch_loss = 0\n",
    "    \n",
    "    for i, batch in enumerate(iterator):\n",
    "        \n",
    "        src = batch.src\n",
    "        trg = batch.trg\n",
    "        \n",
    "        optimizer.zero_grad()\n",
    "        \n",
    "        output = model(src, trg)\n",
    "        \n",
    "        #trg = [trg sent len, batch size]\n",
    "        #output = [trg sent len, batch size, output dim]\n",
    "        \n",
    "        output = output[1:].view(-1, output.shape[-1])\n",
    "        trg = trg[1:].view(-1)\n",
    "        \n",
    "        #trg = [(trg sent len - 1) * batch size]\n",
    "        #output = [(trg sent len - 1) * batch size, output dim]\n",
    "        \n",
    "        loss = criterion(output, trg)\n",
    "        \n",
    "        loss.backward()\n",
    "        \n",
    "        torch.nn.utils.clip_grad_norm_(model.parameters(), clip)\n",
    "        \n",
    "        optimizer.step()\n",
    "        \n",
    "        epoch_loss += loss.item()\n",
    "        \n",
    "    return epoch_loss / len(iterator)\n",
    "  \n",
    "def evaluate(model, iterator, criterion):\n",
    "    \n",
    "    model.eval()\n",
    "    \n",
    "    epoch_loss = 0\n",
    "    \n",
    "    with torch.no_grad():\n",
    "    \n",
    "        for i, batch in enumerate(iterator):\n",
    "\n",
    "            src = batch.src\n",
    "            trg = batch.trg\n",
    "\n",
    "            output = model(src, trg, 0) #turn off teacher forcing\n",
    "\n",
    "            #trg = [trg sent len, batch size]\n",
    "            #output = [trg sent len, batch size, output dim]\n",
    "\n",
    "            output = output[1:].view(-1, output.shape[-1])\n",
    "            trg = trg[1:].view(-1)\n",
    "\n",
    "            #trg = [(trg sent len - 1) * batch size]\n",
    "            #output = [(trg sent len - 1) * batch size, output dim]\n",
    "\n",
    "            loss = criterion(output, trg)\n",
    "            \n",
    "            epoch_loss += loss.item()\n",
    "        \n",
    "    return epoch_loss / len(iterator)"
   ]
  },
  {
   "cell_type": "code",
   "execution_count": null,
   "metadata": {
    "colab": {},
    "colab_type": "code",
    "id": "Qrs7IWK_c-4H"
   },
   "outputs": [],
   "source": [
    "def epoch_time(start_time, end_time):\n",
    "    elapsed_time = end_time - start_time\n",
    "    elapsed_mins = int(elapsed_time / 60)\n",
    "    elapsed_secs = int(elapsed_time - (elapsed_mins * 60))\n",
    "    return elapsed_mins, elapsed_secs"
   ]
  },
  {
   "cell_type": "code",
   "execution_count": null,
   "metadata": {
    "colab": {},
    "colab_type": "code",
    "id": "x8TtQFCOdKYM"
   },
   "outputs": [],
   "source": [
    "N_EPOCHS = 15\n",
    "CLIP = 1\n",
    "SAVE_DIR = 'models'\n",
    "MODEL_SAVE_PATH_LSTM = os.path.join(SAVE_DIR, 'tut1_model_lstm.pt')\n",
    "\n",
    "if not os.path.isdir(f'{SAVE_DIR}'):\n",
    "    os.makedirs(f'{SAVE_DIR}')"
   ]
  },
  {
   "cell_type": "markdown",
   "metadata": {
    "colab_type": "text",
    "id": "FzKpl0CIddFN"
   },
   "source": [
    "### Training Seq2SeqLSTM"
   ]
  },
  {
   "cell_type": "code",
   "execution_count": null,
   "metadata": {
    "colab": {},
    "colab_type": "code",
    "id": "eoevnDEfgBRJ"
   },
   "outputs": [],
   "source": [
    "def train_model_utility(model, N_EPOCHS, \n",
    "                        train_iterator, valid_iterator, \n",
    "                        criterion, optimizer, CLIP, MODEL_SAVE_PATH):\n",
    "  \n",
    "  ls_train_loss = []\n",
    "  ls_valid_loss = []\n",
    "\n",
    "  ls_train_ppl = []\n",
    "  ls_valid_ppl = []\n",
    "  \n",
    "  best_valid_loss = float('inf')\n",
    "\n",
    "  for epoch in range(N_EPOCHS):\n",
    "\n",
    "      start_time = time.time()\n",
    "\n",
    "      train_loss = train(model, train_iterator, optimizer, criterion, CLIP)\n",
    "      valid_loss = evaluate(model, valid_iterator, criterion)\n",
    "\n",
    "      end_time = time.time()\n",
    "\n",
    "      epoch_mins, epoch_secs = epoch_time(start_time, end_time)\n",
    "\n",
    "      if valid_loss < best_valid_loss:\n",
    "          best_valid_loss = valid_loss\n",
    "          torch.save(model.state_dict(), MODEL_SAVE_PATH)\n",
    "\n",
    "      train_loss_ppl = math.exp(train_loss)\n",
    "      valid_loss_ppl = math.exp(valid_loss)\n",
    "\n",
    "      print(f'Epoch: {epoch+1:02} | Time: {epoch_mins}m {epoch_secs}s')\n",
    "      print(f'\\tTrain Loss: {train_loss:.3f} | Train PPL: {train_loss_ppl:7.3f}')\n",
    "      print(f'\\t Val. Loss: {valid_loss:.3f} |  Val. PPL: {valid_loss_ppl:7.3f}')\n",
    "    \n",
    "      ls_train_loss.append(train_loss)\n",
    "      ls_valid_loss.append(valid_loss)\n",
    "      \n",
    "      ls_train_ppl.append(train_loss_ppl)\n",
    "      ls_valid_ppl.append(valid_loss_ppl)\n",
    "\n",
    "  return ls_train_loss, ls_valid_loss, ls_train_ppl, ls_valid_ppl"
   ]
  },
  {
   "cell_type": "code",
   "execution_count": null,
   "metadata": {
    "colab": {
     "base_uri": "https://localhost:8080/",
     "height": 799
    },
    "colab_type": "code",
    "id": "DKMJ7yLwfnRQ",
    "outputId": "4959ed04-34fa-4067-acc6-7be95ee5300b"
   },
   "outputs": [
    {
     "name": "stdout",
     "output_type": "stream",
     "text": [
      "Epoch: 01 | Time: 1m 20s\n",
      "\tTrain Loss: 4.990 | Train PPL: 146.931\n",
      "\t Val. Loss: 4.837 |  Val. PPL: 126.090\n",
      "Epoch: 02 | Time: 1m 20s\n",
      "\tTrain Loss: 4.460 | Train PPL:  86.481\n",
      "\t Val. Loss: 4.610 |  Val. PPL: 100.438\n",
      "Epoch: 03 | Time: 1m 18s\n",
      "\tTrain Loss: 4.185 | Train PPL:  65.724\n",
      "\t Val. Loss: 4.422 |  Val. PPL:  83.278\n",
      "Epoch: 04 | Time: 1m 18s\n",
      "\tTrain Loss: 3.989 | Train PPL:  53.993\n",
      "\t Val. Loss: 4.321 |  Val. PPL:  75.240\n",
      "Epoch: 05 | Time: 1m 20s\n",
      "\tTrain Loss: 3.799 | Train PPL:  44.673\n",
      "\t Val. Loss: 4.170 |  Val. PPL:  64.741\n",
      "Epoch: 06 | Time: 1m 20s\n",
      "\tTrain Loss: 3.649 | Train PPL:  38.428\n",
      "\t Val. Loss: 4.070 |  Val. PPL:  58.571\n",
      "Epoch: 07 | Time: 1m 18s\n",
      "\tTrain Loss: 3.534 | Train PPL:  34.253\n",
      "\t Val. Loss: 4.002 |  Val. PPL:  54.716\n",
      "Epoch: 08 | Time: 1m 18s\n",
      "\tTrain Loss: 3.410 | Train PPL:  30.265\n",
      "\t Val. Loss: 3.925 |  Val. PPL:  50.666\n",
      "Epoch: 09 | Time: 1m 18s\n",
      "\tTrain Loss: 3.309 | Train PPL:  27.353\n",
      "\t Val. Loss: 3.805 |  Val. PPL:  44.932\n",
      "Epoch: 10 | Time: 1m 20s\n",
      "\tTrain Loss: 3.206 | Train PPL:  24.682\n",
      "\t Val. Loss: 3.793 |  Val. PPL:  44.406\n",
      "Epoch: 11 | Time: 1m 21s\n",
      "\tTrain Loss: 3.118 | Train PPL:  22.594\n",
      "\t Val. Loss: 3.763 |  Val. PPL:  43.066\n",
      "Epoch: 12 | Time: 1m 19s\n",
      "\tTrain Loss: 3.033 | Train PPL:  20.758\n",
      "\t Val. Loss: 3.730 |  Val. PPL:  41.665\n",
      "Epoch: 13 | Time: 1m 18s\n",
      "\tTrain Loss: 2.981 | Train PPL:  19.706\n",
      "\t Val. Loss: 3.700 |  Val. PPL:  40.443\n",
      "Epoch: 14 | Time: 1m 20s\n",
      "\tTrain Loss: 2.885 | Train PPL:  17.905\n",
      "\t Val. Loss: 3.700 |  Val. PPL:  40.462\n",
      "Epoch: 15 | Time: 1m 20s\n",
      "\tTrain Loss: 2.835 | Train PPL:  17.022\n",
      "\t Val. Loss: 3.701 |  Val. PPL:  40.491\n"
     ]
    }
   ],
   "source": [
    "tl, vl, tppl, vppl = train_model_utility(modelLSTM, N_EPOCHS, train_iterator, valid_iterator, criterion, optimizerLSTM, CLIP, MODEL_SAVE_PATH_LSTM)"
   ]
  },
  {
   "cell_type": "code",
   "execution_count": null,
   "metadata": {
    "colab": {},
    "colab_type": "code",
    "id": "PywRiAecqi4T"
   },
   "outputs": [],
   "source": []
  },
  {
   "cell_type": "code",
   "execution_count": null,
   "metadata": {
    "colab": {},
    "colab_type": "code",
    "id": "Ls5mdrAxqOxN"
   },
   "outputs": [],
   "source": []
  },
  {
   "cell_type": "code",
   "execution_count": null,
   "metadata": {
    "colab": {},
    "colab_type": "code",
    "id": "-7z5En5Mf4OB"
   },
   "outputs": [],
   "source": [
    "def plot_loss_epoch(N_EPOCHS, train_loss, valid_loss, model_type=\"\"):\n",
    "  with mpl.style.context('seaborn-notebook'):\n",
    "    fig = plt.figure(figsize=(5,4))\n",
    "    plt.plot(list(range(N_EPOCHS)), train_loss, color='b', alpha=0.5, label='train_loss')\n",
    "    plt.plot(list(range(N_EPOCHS)), valid_loss, color='r', alpha=0.5, label='valid_loss')\n",
    "    plt.title(\"{} Loss vs Epoch\".format(model_type),fontweight=\"bold\")\n",
    "    plt.xlabel(\"Epoch\", fontweight=\"bold\")\n",
    "    plt.ylabel(\"Loss\", fontweight=\"bold\")\n",
    "    plt.legend()\n",
    "    plt.show()"
   ]
  },
  {
   "cell_type": "code",
   "execution_count": null,
   "metadata": {
    "colab": {
     "base_uri": "https://localhost:8080/",
     "height": 294
    },
    "colab_type": "code",
    "id": "wfsRGVXwq_NR",
    "outputId": "0afdacfb-e37e-428b-dcee-b2a73f1814c0"
   },
   "outputs": [
    {
     "data": {
      "image/png": "[encoded data removed]",
      "text/plain": [
       "<Figure size 360x288 with 1 Axes>"
      ]
     },
     "metadata": {
      "tags": []
     },
     "output_type": "display_data"
    }
   ],
   "source": [
    "plot_loss_epoch(N_EPOCHS, tl, vl, \"seq2seq_lstm\")"
   ]
  },
  {
   "cell_type": "code",
   "execution_count": null,
   "metadata": {
    "colab": {},
    "colab_type": "code",
    "id": "WQbiZW7YlZEV"
   },
   "outputs": [],
   "source": [
    "def plot_ppl_epoch(N_EPOCHS, train_ppl, valid_ppl, model_type=\"\"):\n",
    "  with mpl.style.context('seaborn-notebook'):\n",
    "    fig = plt.figure(figsize=(5,4))\n",
    "    plt.plot(list(range(N_EPOCHS)), train_ppl, color='b', alpha=0.5, label='train_ppl')\n",
    "    plt.plot(list(range(N_EPOCHS)), valid_ppl, color='r', alpha=0.5, label='valid_ppl')\n",
    "    plt.title(\"{} PPL vs Epoch\".format(model_type),fontweight=\"bold\")\n",
    "    plt.xlabel(\"Epoch\",fontweight=\"bold\")\n",
    "    plt.ylabel(\"Perplexity\",fontweight=\"bold\")\n",
    "    plt.legend()\n",
    "    plt.show()"
   ]
  },
  {
   "cell_type": "code",
   "execution_count": null,
   "metadata": {
    "colab": {
     "base_uri": "https://localhost:8080/",
     "height": 294
    },
    "colab_type": "code",
    "id": "s2Ffy6s3mePj",
    "outputId": "086dbbc5-3512-4b7c-8636-ca60ad06e253"
   },
   "outputs": [
    {
     "data": {
      "image/png": "[encoded data removed]",
      "text/plain": [
       "<Figure size 360x288 with 1 Axes>"
      ]
     },
     "metadata": {
      "tags": []
     },
     "output_type": "display_data"
    }
   ],
   "source": [
    "plot_ppl_epoch(N_EPOCHS, tppl, vppl, \"seq2seq_lstm\")"
   ]
  },
  {
   "cell_type": "code",
   "execution_count": null,
   "metadata": {
    "colab": {
     "base_uri": "https://localhost:8080/",
     "height": 799
    },
    "colab_type": "code",
    "id": "SLLy6MpKsBAb",
    "outputId": "449e8867-cec9-42b0-8285-37796f04ef3b"
   },
   "outputs": [
    {
     "name": "stdout",
     "output_type": "stream",
     "text": [
      "Epoch: 01 | Time: 1m 13s\n",
      "\tTrain Loss: 4.826 | Train PPL: 124.735\n",
      "\t Val. Loss: 4.635 |  Val. PPL: 103.058\n",
      "Epoch: 02 | Time: 1m 11s\n",
      "\tTrain Loss: 4.035 | Train PPL:  56.519\n",
      "\t Val. Loss: 4.273 |  Val. PPL:  71.730\n",
      "Epoch: 03 | Time: 1m 11s\n",
      "\tTrain Loss: 3.669 | Train PPL:  39.217\n",
      "\t Val. Loss: 4.081 |  Val. PPL:  59.218\n",
      "Epoch: 04 | Time: 1m 12s\n",
      "\tTrain Loss: 3.448 | Train PPL:  31.437\n",
      "\t Val. Loss: 3.934 |  Val. PPL:  51.109\n",
      "Epoch: 05 | Time: 1m 13s\n",
      "\tTrain Loss: 3.292 | Train PPL:  26.891\n",
      "\t Val. Loss: 3.877 |  Val. PPL:  48.296\n",
      "Epoch: 06 | Time: 1m 13s\n",
      "\tTrain Loss: 3.165 | Train PPL:  23.691\n",
      "\t Val. Loss: 3.906 |  Val. PPL:  49.688\n",
      "Epoch: 07 | Time: 1m 13s\n",
      "\tTrain Loss: 3.038 | Train PPL:  20.856\n",
      "\t Val. Loss: 3.917 |  Val. PPL:  50.257\n",
      "Epoch: 08 | Time: 1m 12s\n",
      "\tTrain Loss: 2.948 | Train PPL:  19.059\n",
      "\t Val. Loss: 3.812 |  Val. PPL:  45.258\n",
      "Epoch: 09 | Time: 1m 13s\n",
      "\tTrain Loss: 2.855 | Train PPL:  17.368\n",
      "\t Val. Loss: 3.882 |  Val. PPL:  48.515\n",
      "Epoch: 10 | Time: 1m 13s\n",
      "\tTrain Loss: 2.787 | Train PPL:  16.225\n",
      "\t Val. Loss: 3.789 |  Val. PPL:  44.197\n",
      "Epoch: 11 | Time: 1m 13s\n",
      "\tTrain Loss: 2.705 | Train PPL:  14.958\n",
      "\t Val. Loss: 3.877 |  Val. PPL:  48.268\n",
      "Epoch: 12 | Time: 1m 12s\n",
      "\tTrain Loss: 2.642 | Train PPL:  14.038\n",
      "\t Val. Loss: 3.836 |  Val. PPL:  46.339\n",
      "Epoch: 13 | Time: 1m 12s\n",
      "\tTrain Loss: 2.573 | Train PPL:  13.110\n",
      "\t Val. Loss: 3.847 |  Val. PPL:  46.847\n",
      "Epoch: 14 | Time: 1m 11s\n",
      "\tTrain Loss: 2.528 | Train PPL:  12.534\n",
      "\t Val. Loss: 3.914 |  Val. PPL:  50.109\n",
      "Epoch: 15 | Time: 1m 11s\n",
      "\tTrain Loss: 2.482 | Train PPL:  11.963\n",
      "\t Val. Loss: 3.905 |  Val. PPL:  49.627\n"
     ]
    }
   ],
   "source": [
    "MODEL_SAVE_PATH_GRU = os.path.join(SAVE_DIR, 'tut1_model_gru.pt')\n",
    "tl, vl, tppl, vppl = train_model_utility(modelGRU, N_EPOCHS, train_iterator, valid_iterator, criterion, optimizerGRU, CLIP, MODEL_SAVE_PATH_GRU)"
   ]
  },
  {
   "cell_type": "code",
   "execution_count": null,
   "metadata": {
    "colab": {
     "base_uri": "https://localhost:8080/",
     "height": 294
    },
    "colab_type": "code",
    "id": "GWz7Utn2sL49",
    "outputId": "7689d448-2c54-4aaf-cc91-ca72e7a537ab"
   },
   "outputs": [
    {
     "data": {
      "image/png": "[encoded data removed]",
      "text/plain": [
       "<Figure size 360x288 with 1 Axes>"
      ]
     },
     "metadata": {
      "tags": []
     },
     "output_type": "display_data"
    }
   ],
   "source": [
    "plot_loss_epoch(N_EPOCHS, tl, vl, \"seq2seq_gru\")"
   ]
  },
  {
   "cell_type": "code",
   "execution_count": null,
   "metadata": {
    "colab": {
     "base_uri": "https://localhost:8080/",
     "height": 294
    },
    "colab_type": "code",
    "id": "pQiF59TQtbf2",
    "outputId": "95ab7ddb-019c-4e92-debe-5b5627a5fd3e"
   },
   "outputs": [
    {
     "data": {
      "image/png": "[encoded data removed]",
      "text/plain": [
       "<Figure size 360x288 with 1 Axes>"
      ]
     },
     "metadata": {
      "tags": []
     },
     "output_type": "display_data"
    }
   ],
   "source": [
    "plot_ppl_epoch(N_EPOCHS, tppl, vppl, \"seq2seq_gru\")"
   ]
  },
  {
   "cell_type": "markdown",
   "metadata": {
    "colab_type": "text",
    "id": "s0trttaHvDCg"
   },
   "source": [
    "# Predict on the Test Dataset\n",
    "\n",
    "implement the Prediction \n",
    "\n",
    "[link](https://www.guru99.com/seq2seq-model.html)"
   ]
  },
  {
   "cell_type": "markdown",
   "metadata": {
    "colab_type": "text",
    "id": "OgtI_E9cglyx"
   },
   "source": [
    "\n",
    "[IMP_torch_text_link](https://mlexplained.com/2018/02/08/a-comprehensive-tutorial-to-torchtext/)"
   ]
  },
  {
   "cell_type": "code",
   "execution_count": null,
   "metadata": {
    "colab": {
     "base_uri": "https://localhost:8080/",
     "height": 34
    },
    "colab_type": "code",
    "id": "UMyOIouogd9i",
    "outputId": "5c86832c-bec4-4fad-f671-e4bbc8a9e697"
   },
   "outputs": [
    {
     "data": {
      "text/plain": [
       "'this is a sentence'"
      ]
     },
     "execution_count": 321,
     "metadata": {
      "tags": []
     },
     "output_type": "execute_result"
    }
   ],
   "source": [
    "sentence = ['this','is','a','sentence']\n",
    "' '.join(sentence)\n",
    "#'this-is-a-sentence'"
   ]
  },
  {
   "cell_type": "markdown",
   "metadata": {
    "colab_type": "text",
    "id": "vFoamESln3WE"
   },
   "source": [
    "## Get sentence from torch vector\n",
    "\n",
    "Remember the source sentence was reversed initially. So all the tokens idx are also reversed. So while create the source sentence first reverse the source sentence vector and then apply lookup."
   ]
  },
  {
   "cell_type": "code",
   "execution_count": null,
   "metadata": {
    "colab": {},
    "colab_type": "code",
    "id": "vS-92xqijLzi"
   },
   "outputs": [],
   "source": [
    "def get_sent_trg(sent_vector_en, TRG):\n",
    "  n = len(sent_vector_en)\n",
    "  ls_token = []\n",
    "  for i in range(n):\n",
    "    ls_token.append(TRG.vocab.itos[sent_vector_en[i]])\n",
    "    \n",
    "  return ' '.join(ls_token)\n",
    "  \n",
    "\n",
    "def get_sent_src(sent_vector_de, SRC):\n",
    "  \n",
    "  n = len(sent_vector_de)\n",
    "  ls_token = []\n",
    "  for i in range(n):\n",
    "    ls_token.append(SRC.vocab.itos[sent_vector_de[i]])\n",
    "    \n",
    "  return ' '.join(ls_token[::-1])\n",
    "\n",
    "def sigmoid(preds):\n",
    "  return np.argmax(1 / (1 + np.exp(-preds)), axis=1)"
   ]
  },
  {
   "cell_type": "code",
   "execution_count": null,
   "metadata": {
    "colab": {},
    "colab_type": "code",
    "id": "ALMZoIBntkUh"
   },
   "outputs": [],
   "source": [
    "def predict(model, iterator, criterion):\n",
    "    \n",
    "    model.eval()\n",
    "    \n",
    "    epoch_loss = 0\n",
    "    \n",
    "    with torch.no_grad():\n",
    "    \n",
    "        for i, batch in enumerate(iterator):\n",
    "            \n",
    "            print('+'*40)\n",
    "            src = batch.src\n",
    "            trg = batch.trg\n",
    "            \n",
    "            \n",
    "\n",
    "            output = model(src, trg, 0) #turn off teacher forcing\n",
    "\n",
    "            print('source.....')\n",
    "            print(src.shape)\n",
    "            print(\"source sent: >>>>>>>> {}\".format(get_sent_src(src[:,0], SRC)))\n",
    "            print('target.....')\n",
    "            print(trg.shape)\n",
    "            print(\"target sent: <<<<<<<< {}\".format(get_sent_trg(trg[:,0], TRG)))\n",
    "            print('output')\n",
    "            print(\"predicted sent: ??????? {}\".format(get_sent_trg(sigmoid(output[:,0,:].cpu()), TRG)))\n",
    "            #print(trg)\n",
    "            \n",
    "            print(\".... applying view...\")\n",
    "            \n",
    "            \n",
    "            #trg = [trg sent len, batch size]\n",
    "            \n",
    "            \n",
    "            #output = [trg sent len, batch size, output dim]\n",
    "\n",
    "            output = output[1:].view(-1, output.shape[-1])\n",
    "            trg = trg[1:].view(-1)\n",
    "            \n",
    "            #print('source')\n",
    "            #print(src.shape)\n",
    "            #print('target')\n",
    "            #print(trg.shape)\n",
    "            #print('output')\n",
    "            #print(output.shape)\n",
    "            print(\"==============\")\n",
    "            \n",
    "    return"
   ]
  },
  {
   "cell_type": "code",
   "execution_count": null,
   "metadata": {
    "colab": {},
    "colab_type": "code",
    "id": "ewt7f7C7dZBC"
   },
   "outputs": [],
   "source": [
    "#print(SRC.vocab.itos)"
   ]
  },
  {
   "cell_type": "code",
   "execution_count": null,
   "metadata": {
    "colab": {},
    "colab_type": "code",
    "id": "iQxd4RtJde_U"
   },
   "outputs": [],
   "source": [
    "#print(TRG.vocab.itos)"
   ]
  },
  {
   "cell_type": "code",
   "execution_count": null,
   "metadata": {
    "colab": {
     "base_uri": "https://localhost:8080/",
     "height": 1565
    },
    "colab_type": "code",
    "id": "fz2yuuYsWu71",
    "outputId": "73e48d15-6c03-4825-8aeb-0a31440c7b45"
   },
   "outputs": [
    {
     "name": "stdout",
     "output_type": "stream",
     "text": [
      "++++++++++++++++++++++++++++++++++++++++\n",
      "source.....\n",
      "torch.Size([10, 128])\n",
      "source sent: >>>>>>>> <eos> zwei mittelgroße hunde laufen über den schnee . <sos>\n",
      "target.....\n",
      "torch.Size([14, 128])\n",
      "target sent: <<<<<<<< <sos> two medium sized dogs run across the snow . <eos> <pad> <pad> <pad>\n",
      "output\n",
      "predicted sent: ??????? <unk> two brown dogs are over the mound . <eos> <eos> <eos> <eos> <eos>\n",
      ".... applying view...\n",
      "==============\n",
      "++++++++++++++++++++++++++++++++++++++++\n",
      "source.....\n",
      "torch.Size([12, 128])\n",
      "source sent: >>>>>>>> <eos> eine frau verkauft auf einem gehsteig tüten mit <unk> . <sos>\n",
      "target.....\n",
      "torch.Size([13, 128])\n",
      "target sent: <<<<<<<< <sos> woman selling bags of fruit on a sidewalk . <eos> <pad> <pad>\n",
      "output\n",
      "predicted sent: ??????? <unk> woman on a market with with graffiti . <eos> <eos> <eos> <eos>\n",
      ".... applying view...\n",
      "==============\n",
      "++++++++++++++++++++++++++++++++++++++++\n",
      "source.....\n",
      "torch.Size([13, 128])\n",
      "source sent: >>>>>>>> <pad> <pad> <eos> ein mann im anzug sitzt an einer bushaltestelle . <sos>\n",
      "target.....\n",
      "torch.Size([15, 128])\n",
      "target sent: <<<<<<<< <sos> a man in a suit is sitting at a bus stop . <eos> <pad>\n",
      "output\n",
      "predicted sent: ??????? <unk> a man in a suit sitting at a subway station . <eos> <eos> <eos>\n",
      ".... applying view...\n",
      "==============\n",
      "++++++++++++++++++++++++++++++++++++++++\n",
      "source.....\n",
      "torch.Size([14, 128])\n",
      "source sent: >>>>>>>> <eos> kleines orchester spielt im freien mit einem gitarrenkoffer auf dem boden . <sos>\n",
      "target.....\n",
      "torch.Size([17, 128])\n",
      "target sent: <<<<<<<< <sos> small orchestra playing with open violin case in front <eos> <pad> <pad> <pad> <pad> <pad> <pad>\n",
      "output\n",
      "predicted sent: ??????? <unk> small plays on the ground with a machete . <eos> <eos> <eos> <eos> <eos> <eos> <eos>\n",
      ".... applying view...\n",
      "==============\n",
      "++++++++++++++++++++++++++++++++++++++++\n",
      "source.....\n",
      "torch.Size([16, 128])\n",
      "source sent: >>>>>>>> <pad> <pad> <eos> eine sehr unglücklich aussehende dame mit einer grünen maske beim zahnarzt . <sos>\n",
      "target.....\n",
      "torch.Size([17, 128])\n",
      "target sent: <<<<<<<< <sos> lady with a green mask at the dentist and she just look very unhappy . <eos>\n",
      "output\n",
      "predicted sent: ??????? <unk> a beautiful asian lady with a green mask is a a green bag . <eos> <eos>\n",
      ".... applying view...\n",
      "==============\n",
      "++++++++++++++++++++++++++++++++++++++++\n",
      "source.....\n",
      "torch.Size([17, 128])\n",
      "source sent: >>>>>>>> <pad> <pad> <eos> eine frau mit einem <unk> und einem headset wartet an einem zebrastreifen . <sos>\n",
      "target.....\n",
      "torch.Size([19, 128])\n",
      "target sent: <<<<<<<< <sos> a woman with a push - to - talk cellphone and headset waiting at a crosswalk . <eos>\n",
      "output\n",
      "predicted sent: ??????? <unk> a woman with a purse and and gloves is waiting for a window . <eos> <eos> <eos> <eos>\n",
      ".... applying view...\n",
      "==============\n",
      "++++++++++++++++++++++++++++++++++++++++\n",
      "source.....\n",
      "torch.Size([21, 128])\n",
      "source sent: >>>>>>>> <pad> <pad> <pad> <eos> eine frau läuft beim softball nach einem <unk> schlag los während die <unk> sich erhebt . <sos>\n",
      "target.....\n",
      "torch.Size([25, 128])\n",
      "target sent: <<<<<<<< <sos> a woman runs after making a hit in women 's softball , the catcher rises to her feet . <eos> <pad> <pad> <pad> <pad>\n",
      "output\n",
      "predicted sent: ??????? <unk> a woman is running after a base while while she tries to block the ball . <eos> <eos> <eos> <eos> <eos> <eos> <eos> <eos>\n",
      ".... applying view...\n",
      "==============\n",
      "++++++++++++++++++++++++++++++++++++++++\n",
      "source.....\n",
      "torch.Size([33, 104])\n",
      "source sent: >>>>>>>> <eos> ein mann mit kariertem hut in einer schwarzen jacke und einer schwarz-weiß gestreiften hose spielt auf einer bühne mit einem sänger und einem weiteren gitarristen im hintergrund auf einer e-gitarre . <sos>\n",
      "target.....\n",
      "torch.Size([35, 104])\n",
      "target sent: <<<<<<<< <sos> a man in a black jacket and checkered hat wearing black and white striped pants plays an electric guitar on a stage with a singer and another guitar player in the background . <eos>\n",
      "output\n",
      "predicted sent: ??????? <unk> a man wearing a black hat and black pants and a black hat is playing with a guitar and a black guitar on a stage with a guitar in the background . <eos> .\n",
      ".... applying view...\n",
      "==============\n"
     ]
    }
   ],
   "source": [
    "test_loss = predict(modelGRU, test_iterator, criterion)"
   ]
  },
  {
   "cell_type": "markdown",
   "metadata": {
    "colab_type": "text",
    "id": "BbAHbcROy2d6"
   },
   "source": [
    "# Predict on user input"
   ]
  },
  {
   "cell_type": "code",
   "execution_count": null,
   "metadata": {
    "colab": {},
    "colab_type": "code",
    "id": "MiXigs-p8URQ"
   },
   "outputs": [],
   "source": [
    "#TRG.vocab.stoi.keys()"
   ]
  },
  {
   "cell_type": "code",
   "execution_count": null,
   "metadata": {
    "colab": {},
    "colab_type": "code",
    "id": "CH5R2iRP9U1I"
   },
   "outputs": [],
   "source": [
    "def process_sent(src_de, trg_en):\n",
    "  \n",
    "  ls_sos = ['<sos>']\n",
    "  ls_eos = ['<eos>']\n",
    "  ls_pad = ['<pad>']\n",
    "  ls_unk = ['<unk>']\n",
    "  \n",
    "  ls_token_de = tokenize_de(source_sent_de)[::-1]\n",
    "  ls_token_en = tokenize_en(target_sent_en)\n",
    "  \n",
    "  trg_seq = ls_sos + ls_token_en + ls_eos\n",
    "  src_seq = ls_sos + ls_token_de + ls_eos + ls_pad\n",
    "  \n",
    "  trg_seq_idx = []\n",
    "  for i in trg_seq:\n",
    "    if i in TRG.vocab.stoi.keys():\n",
    "      trg_seq_idx.append(TRG.vocab.stoi[i])\n",
    "    else:\n",
    "      trg_seq_idx.append(TRG.vocab.stoi['<unk>'])\n",
    "      \n",
    "  src_seq_idx = []\n",
    "  for i in src_seq:\n",
    "    if i in SRC.vocab.stoi.keys():\n",
    "      src_seq_idx.append(SRC.vocab.stoi[i])\n",
    "    else:\n",
    "      src_seq_idx.append(SRC.vocab.stoi['<unk>'])\n",
    "      \n",
    "  print(trg_seq)\n",
    "  print(trg_seq_idx)\n",
    "  print()\n",
    "  print(src_seq)\n",
    "  print(src_seq_idx)\n",
    "  \n",
    "  assert len(trg_seq) == len(src_seq)\n",
    "  \n",
    "  return src_seq_idx[::-1], trg_seq_idx"
   ]
  },
  {
   "cell_type": "code",
   "execution_count": null,
   "metadata": {
    "colab": {},
    "colab_type": "code",
    "id": "Aj-73TrXXlyI"
   },
   "outputs": [],
   "source": [
    "target_sent_en = \"the boy is playing on the ground\"\n",
    "source_sent_de = \"der junge spielt auf dem boden\""
   ]
  },
  {
   "cell_type": "code",
   "execution_count": null,
   "metadata": {
    "colab": {
     "base_uri": "https://localhost:8080/",
     "height": 104
    },
    "colab_type": "code",
    "id": "dq4lYqjMzCWm",
    "outputId": "b7962237-0db5-4ac1-e025-5b944abb4ba1"
   },
   "outputs": [
    {
     "name": "stdout",
     "output_type": "stream",
     "text": [
      "['<sos>', 'the', 'boy', 'is', 'playing', 'on', 'the', 'ground', '<eos>']\n",
      "[2, 7, 34, 10, 37, 8, 7, 185, 3]\n",
      "\n",
      "['<sos>', 'der', 'junge', 'spielt', 'auf', 'dem', 'boden', '<eos>', '<pad>']\n",
      "[2, 15, 26, 38, 12, 24, 122, 3, 1]\n"
     ]
    }
   ],
   "source": [
    "src_idx, trg_idx = process_sent(source_sent_de, target_sent_en)"
   ]
  },
  {
   "cell_type": "code",
   "execution_count": null,
   "metadata": {
    "colab": {},
    "colab_type": "code",
    "id": "b3i17pRX0tBb"
   },
   "outputs": [],
   "source": [
    "src_idx_np_ar = np.array(src_idx)\n",
    "src_idx_tensor = Variable(torch.from_numpy(src_idx_np_ar)).type(torch.LongTensor).to(device)\n",
    "src_idx_tensor = src_idx_tensor.view(-1, 1)\n",
    "\n",
    "\n",
    "trg_idx_np_ar = np.array(trg_idx)\n",
    "trg_idx_tensor = torch.from_numpy(trg_idx_np_ar).type(torch.LongTensor).to(device)\n",
    "trg_idx_tensor = trg_idx_tensor.view(-1, 1)"
   ]
  },
  {
   "cell_type": "code",
   "execution_count": null,
   "metadata": {
    "colab": {},
    "colab_type": "code",
    "id": "jqIKuZGazHw9"
   },
   "outputs": [],
   "source": [
    "#src_idx_tensor, src_idx_tensor.shape"
   ]
  },
  {
   "cell_type": "code",
   "execution_count": null,
   "metadata": {
    "colab": {},
    "colab_type": "code",
    "id": "vintd8cKzOSa"
   },
   "outputs": [],
   "source": [
    "#trg_idx_tensor, trg_idx_tensor.shape"
   ]
  },
  {
   "cell_type": "code",
   "execution_count": null,
   "metadata": {
    "colab": {
     "base_uri": "https://localhost:8080/",
     "height": 173
    },
    "colab_type": "code",
    "id": "ONSRH2au_ibu",
    "outputId": "f7e4ba45-15b5-4b33-db5a-f645c639e3f3"
   },
   "outputs": [
    {
     "name": "stdout",
     "output_type": "stream",
     "text": [
      "source.....\n",
      "torch.Size([9, 1])\n",
      "source sent: >>>>>>>> <sos> der junge spielt auf dem boden <eos> <pad>\n",
      "target.....\n",
      "torch.Size([9, 1])\n",
      "target sent: <<<<<<<< <sos> the boy is playing on the ground <eos>\n",
      "output\n",
      "torch.Size([9, 1, 5893])\n",
      "predicted sent: ??????? <unk> the boy is playing the beach with the\n"
     ]
    }
   ],
   "source": [
    "output = modelLSTM(src_idx_tensor, trg_idx_tensor, 0) #turn off teacher forcing\n",
    "\n",
    "print('source.....')\n",
    "print(src_idx_tensor.shape)\n",
    "print(\"source sent: >>>>>>>> {}\".format(get_sent_src(src_idx_tensor[:,0], SRC)))\n",
    "print('target.....')\n",
    "print(trg_idx_tensor.shape)\n",
    "print(\"target sent: <<<<<<<< {}\".format(get_sent_trg(trg_idx_tensor[:,0], TRG)))\n",
    "print('output')\n",
    "print(output.shape)\n",
    "print(\"predicted sent: ??????? {}\".format(get_sent_trg(sigmoid(output[:,0,:].cpu().detach().numpy()), TRG)))"
   ]
  },
  {
   "cell_type": "code",
   "execution_count": null,
   "metadata": {
    "colab": {},
    "colab_type": "code",
    "id": "6X6OrfD2Apk2"
   },
   "outputs": [],
   "source": []
  },
  {
   "cell_type": "code",
   "execution_count": null,
   "metadata": {
    "colab": {},
    "colab_type": "code",
    "id": "W1yJyR_lABHY"
   },
   "outputs": [],
   "source": []
  },
  {
   "cell_type": "code",
   "execution_count": null,
   "metadata": {
    "colab": {},
    "colab_type": "code",
    "id": "YoWjLwyVAuex"
   },
   "outputs": [],
   "source": []
  }
 ],
 "metadata": {
  "accelerator": "GPU",
  "colab": {
   "collapsed_sections": [],
   "name": "model_refactoring.ipynb",
   "provenance": [],
   "version": "0.3.2"
  },
  "kernelspec": {
   "display_name": "Python 3",
   "language": "python",
   "name": "python3"
  },
  "language_info": {
   "codemirror_mode": {
    "name": "ipython",
    "version": 3
   },
   "file_extension": ".py",
   "mimetype": "text/x-python",
   "name": "python",
   "nbconvert_exporter": "python",
   "pygments_lexer": "ipython3",
   "version": "3.6.8"
  }
 },
 "nbformat": 4,
 "nbformat_minor": 2
}
